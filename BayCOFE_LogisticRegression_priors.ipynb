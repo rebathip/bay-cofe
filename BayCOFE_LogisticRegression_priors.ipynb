{
  "cells": [
    {
      "cell_type": "code",
      "execution_count": null,
      "metadata": {
        "colab": {
          "base_uri": "https://localhost:8080/"
        },
        "id": "5ttGEawo1AVI",
        "outputId": "cbe6b418-dd28-4223-a508-a8b4865c7af8"
      },
      "outputs": [
        {
          "output_type": "stream",
          "name": "stdout",
          "text": [
            "Requirement already satisfied: pip in /usr/local/lib/python3.12/dist-packages (24.1.2)\n",
            "Collecting pip\n",
            "  Downloading pip-25.2-py3-none-any.whl.metadata (4.7 kB)\n",
            "Downloading pip-25.2-py3-none-any.whl (1.8 MB)\n",
            "\u001b[2K   \u001b[90m━━━━━━━━━━━━━━━━━━━━━━━━━━━━━━━━━━━━━━━━\u001b[0m \u001b[32m1.8/1.8 MB\u001b[0m \u001b[31m86.0 MB/s\u001b[0m eta \u001b[36m0:00:00\u001b[0m\n",
            "\u001b[?25hInstalling collected packages: pip\n",
            "  Attempting uninstall: pip\n",
            "    Found existing installation: pip 24.1.2\n",
            "    Uninstalling pip-24.1.2:\n",
            "      Successfully uninstalled pip-24.1.2\n",
            "Successfully installed pip-25.2\n",
            "Requirement already satisfied: pymc in /usr/local/lib/python3.12/dist-packages (5.25.1)\n",
            "Requirement already satisfied: arviz in /usr/local/lib/python3.12/dist-packages (0.22.0)\n",
            "Requirement already satisfied: numpy in /usr/local/lib/python3.12/dist-packages (2.0.2)\n",
            "Requirement already satisfied: scipy in /usr/local/lib/python3.12/dist-packages (1.16.2)\n",
            "Requirement already satisfied: scikit-learn in /usr/local/lib/python3.12/dist-packages (1.6.1)\n",
            "Requirement already satisfied: cachetools>=4.2.1 in /usr/local/lib/python3.12/dist-packages (from pymc) (5.5.2)\n",
            "Requirement already satisfied: cloudpickle in /usr/local/lib/python3.12/dist-packages (from pymc) (3.1.1)\n",
            "Requirement already satisfied: pandas>=0.24.0 in /usr/local/lib/python3.12/dist-packages (from pymc) (2.2.2)\n",
            "Requirement already satisfied: pytensor<2.32,>=2.31.7 in /usr/local/lib/python3.12/dist-packages (from pymc) (2.31.7)\n",
            "Requirement already satisfied: rich>=13.7.1 in /usr/local/lib/python3.12/dist-packages (from pymc) (13.9.4)\n",
            "Requirement already satisfied: threadpoolctl<4.0.0,>=3.1.0 in /usr/local/lib/python3.12/dist-packages (from pymc) (3.6.0)\n",
            "Requirement already satisfied: typing-extensions>=3.7.4 in /usr/local/lib/python3.12/dist-packages (from pymc) (4.15.0)\n",
            "Requirement already satisfied: setuptools>=59.0.0 in /usr/local/lib/python3.12/dist-packages (from pytensor<2.32,>=2.31.7->pymc) (75.2.0)\n",
            "Requirement already satisfied: filelock>=3.15 in /usr/local/lib/python3.12/dist-packages (from pytensor<2.32,>=2.31.7->pymc) (3.20.0)\n",
            "Requirement already satisfied: etuples in /usr/local/lib/python3.12/dist-packages (from pytensor<2.32,>=2.31.7->pymc) (0.3.10)\n",
            "Requirement already satisfied: logical-unification in /usr/local/lib/python3.12/dist-packages (from pytensor<2.32,>=2.31.7->pymc) (0.4.6)\n",
            "Requirement already satisfied: miniKanren in /usr/local/lib/python3.12/dist-packages (from pytensor<2.32,>=2.31.7->pymc) (1.0.5)\n",
            "Requirement already satisfied: cons in /usr/local/lib/python3.12/dist-packages (from pytensor<2.32,>=2.31.7->pymc) (0.4.7)\n",
            "Requirement already satisfied: matplotlib>=3.8 in /usr/local/lib/python3.12/dist-packages (from arviz) (3.10.0)\n",
            "Requirement already satisfied: packaging in /usr/local/lib/python3.12/dist-packages (from arviz) (25.0)\n",
            "Requirement already satisfied: xarray>=2023.7.0 in /usr/local/lib/python3.12/dist-packages (from arviz) (2025.10.1)\n",
            "Requirement already satisfied: h5netcdf>=1.0.2 in /usr/local/lib/python3.12/dist-packages (from arviz) (1.6.4)\n",
            "Requirement already satisfied: xarray-einstats>=0.3 in /usr/local/lib/python3.12/dist-packages (from arviz) (0.9.1)\n",
            "Requirement already satisfied: joblib>=1.2.0 in /usr/local/lib/python3.12/dist-packages (from scikit-learn) (1.5.2)\n",
            "Requirement already satisfied: h5py in /usr/local/lib/python3.12/dist-packages (from h5netcdf>=1.0.2->arviz) (3.14.0)\n",
            "Requirement already satisfied: contourpy>=1.0.1 in /usr/local/lib/python3.12/dist-packages (from matplotlib>=3.8->arviz) (1.3.3)\n",
            "Requirement already satisfied: cycler>=0.10 in /usr/local/lib/python3.12/dist-packages (from matplotlib>=3.8->arviz) (0.12.1)\n",
            "Requirement already satisfied: fonttools>=4.22.0 in /usr/local/lib/python3.12/dist-packages (from matplotlib>=3.8->arviz) (4.60.1)\n",
            "Requirement already satisfied: kiwisolver>=1.3.1 in /usr/local/lib/python3.12/dist-packages (from matplotlib>=3.8->arviz) (1.4.9)\n",
            "Requirement already satisfied: pillow>=8 in /usr/local/lib/python3.12/dist-packages (from matplotlib>=3.8->arviz) (11.3.0)\n",
            "Requirement already satisfied: pyparsing>=2.3.1 in /usr/local/lib/python3.12/dist-packages (from matplotlib>=3.8->arviz) (3.2.5)\n",
            "Requirement already satisfied: python-dateutil>=2.7 in /usr/local/lib/python3.12/dist-packages (from matplotlib>=3.8->arviz) (2.9.0.post0)\n",
            "Requirement already satisfied: pytz>=2020.1 in /usr/local/lib/python3.12/dist-packages (from pandas>=0.24.0->pymc) (2025.2)\n",
            "Requirement already satisfied: tzdata>=2022.7 in /usr/local/lib/python3.12/dist-packages (from pandas>=0.24.0->pymc) (2025.2)\n",
            "Requirement already satisfied: six>=1.5 in /usr/local/lib/python3.12/dist-packages (from python-dateutil>=2.7->matplotlib>=3.8->arviz) (1.17.0)\n",
            "Requirement already satisfied: markdown-it-py>=2.2.0 in /usr/local/lib/python3.12/dist-packages (from rich>=13.7.1->pymc) (4.0.0)\n",
            "Requirement already satisfied: pygments<3.0.0,>=2.13.0 in /usr/local/lib/python3.12/dist-packages (from rich>=13.7.1->pymc) (2.19.2)\n",
            "Requirement already satisfied: mdurl~=0.1 in /usr/local/lib/python3.12/dist-packages (from markdown-it-py>=2.2.0->rich>=13.7.1->pymc) (0.1.2)\n",
            "Requirement already satisfied: toolz in /usr/local/lib/python3.12/dist-packages (from logical-unification->pytensor<2.32,>=2.31.7->pymc) (0.12.1)\n",
            "Requirement already satisfied: multipledispatch in /usr/local/lib/python3.12/dist-packages (from logical-unification->pytensor<2.32,>=2.31.7->pymc) (1.0.0)\n"
          ]
        }
      ],
      "source": [
        "!pip install --upgrade pip\n",
        "!pip install pymc arviz numpy scipy scikit-learn"
      ]
    },
    {
      "cell_type": "code",
      "execution_count": null,
      "metadata": {
        "colab": {
          "base_uri": "https://localhost:8080/"
        },
        "id": "4ooE8TP1lm5s",
        "outputId": "82ee6aec-c5d3-4fba-b284-1b50affa9096"
      },
      "outputs": [
        {
          "output_type": "stream",
          "name": "stdout",
          "text": [
            "Collecting ucimlrepo\n",
            "  Downloading ucimlrepo-0.0.7-py3-none-any.whl.metadata (5.5 kB)\n",
            "Requirement already satisfied: pandas>=1.0.0 in /usr/local/lib/python3.12/dist-packages (from ucimlrepo) (2.2.2)\n",
            "Requirement already satisfied: certifi>=2020.12.5 in /usr/local/lib/python3.12/dist-packages (from ucimlrepo) (2025.10.5)\n",
            "Requirement already satisfied: numpy>=1.26.0 in /usr/local/lib/python3.12/dist-packages (from pandas>=1.0.0->ucimlrepo) (2.0.2)\n",
            "Requirement already satisfied: python-dateutil>=2.8.2 in /usr/local/lib/python3.12/dist-packages (from pandas>=1.0.0->ucimlrepo) (2.9.0.post0)\n",
            "Requirement already satisfied: pytz>=2020.1 in /usr/local/lib/python3.12/dist-packages (from pandas>=1.0.0->ucimlrepo) (2025.2)\n",
            "Requirement already satisfied: tzdata>=2022.7 in /usr/local/lib/python3.12/dist-packages (from pandas>=1.0.0->ucimlrepo) (2025.2)\n",
            "Requirement already satisfied: six>=1.5 in /usr/local/lib/python3.12/dist-packages (from python-dateutil>=2.8.2->pandas>=1.0.0->ucimlrepo) (1.17.0)\n",
            "Downloading ucimlrepo-0.0.7-py3-none-any.whl (8.0 kB)\n",
            "Installing collected packages: ucimlrepo\n",
            "Successfully installed ucimlrepo-0.0.7\n",
            "Collecting optuna\n",
            "  Downloading optuna-4.5.0-py3-none-any.whl.metadata (17 kB)\n",
            "Requirement already satisfied: alembic>=1.5.0 in /usr/local/lib/python3.12/dist-packages (from optuna) (1.16.5)\n",
            "Collecting colorlog (from optuna)\n",
            "  Downloading colorlog-6.9.0-py3-none-any.whl.metadata (10 kB)\n",
            "Requirement already satisfied: numpy in /usr/local/lib/python3.12/dist-packages (from optuna) (2.0.2)\n",
            "Requirement already satisfied: packaging>=20.0 in /usr/local/lib/python3.12/dist-packages (from optuna) (25.0)\n",
            "Requirement already satisfied: sqlalchemy>=1.4.2 in /usr/local/lib/python3.12/dist-packages (from optuna) (2.0.43)\n",
            "Requirement already satisfied: tqdm in /usr/local/lib/python3.12/dist-packages (from optuna) (4.67.1)\n",
            "Requirement already satisfied: PyYAML in /usr/local/lib/python3.12/dist-packages (from optuna) (6.0.3)\n",
            "Requirement already satisfied: Mako in /usr/local/lib/python3.12/dist-packages (from alembic>=1.5.0->optuna) (1.3.10)\n",
            "Requirement already satisfied: typing-extensions>=4.12 in /usr/local/lib/python3.12/dist-packages (from alembic>=1.5.0->optuna) (4.15.0)\n",
            "Requirement already satisfied: greenlet>=1 in /usr/local/lib/python3.12/dist-packages (from sqlalchemy>=1.4.2->optuna) (3.2.4)\n",
            "Requirement already satisfied: MarkupSafe>=0.9.2 in /usr/local/lib/python3.12/dist-packages (from Mako->alembic>=1.5.0->optuna) (3.0.3)\n",
            "Downloading optuna-4.5.0-py3-none-any.whl (400 kB)\n",
            "Downloading colorlog-6.9.0-py3-none-any.whl (11 kB)\n",
            "Installing collected packages: colorlog, optuna\n",
            "\u001b[2K   \u001b[90m━━━━━━━━━━━━━━━━━━━━━━━━━━━━━━━━━━━━━━━━\u001b[0m \u001b[32m2/2\u001b[0m [optuna]\n",
            "\u001b[1A\u001b[2KSuccessfully installed colorlog-6.9.0 optuna-4.5.0\n"
          ]
        }
      ],
      "source": [
        "!pip install ucimlrepo\n",
        "!pip install optuna"
      ]
    },
    {
      "cell_type": "code",
      "execution_count": null,
      "metadata": {
        "id": "BjdDawFh2hKV"
      },
      "outputs": [],
      "source": [
        "import numpy as np\n",
        "from sklearn.base import BaseEstimator, ClassifierMixin, clone\n",
        "from sklearn.metrics import accuracy_score, log_loss\n",
        "from sklearn.model_selection import train_test_split\n",
        "from sklearn.preprocessing import StandardScaler\n",
        "from scipy.stats import norm\n",
        "import pymc as pm\n",
        "#import aesara\n",
        "#import aesara.tensor as at\n",
        "from sklearn.metrics import accuracy_score, log_loss, f1_score\n",
        "\n",
        "import numpy as np\n",
        "from sklearn.base import clone\n",
        "from scipy.stats import norm, gaussian_kde\n",
        "from sklearn.metrics import accuracy_score, log_loss\n",
        "from sklearn.base import clone\n",
        "import numpy as np\n",
        "from sklearn.base import clone\n",
        "from sklearn.metrics import accuracy_score, log_loss\n",
        "from sklearn.base import BaseEstimator, ClassifierMixin, clone\n",
        "\n",
        "\n",
        "class EstimatorWithCoef(BaseEstimator, ClassifierMixin):\n",
        "    \"\"\"\n",
        "    Wraps a Bayesian logistic estimator so that after fit() it exposes:\n",
        "      - coef_  (pulls from coef_ if present, else from coef_mean_)\n",
        "      - predict / predict_proba / score delegated to the inner model\n",
        "    This makes it compatible with sklearn RFE.\n",
        "    \"\"\"\n",
        "    def __init__(self, base_estimator):\n",
        "        self.base_estimator = base_estimator\n",
        "        self.model_ = None\n",
        "        self.coef_ = None\n",
        "\n",
        "    def get_params(self, deep=True):\n",
        "        # So GridSearchCV/clone works\n",
        "        return {\"base_estimator\": self.base_estimator}\n",
        "\n",
        "    def set_params(self, **params):\n",
        "        if \"base_estimator\" in params:\n",
        "            self.base_estimator = params[\"base_estimator\"]\n",
        "        return self\n",
        "\n",
        "    def fit(self, X, y):\n",
        "        self.model_ = clone(self.base_estimator).fit(X, y)\n",
        "        if hasattr(self.model_, \"coef_\"):\n",
        "            self.coef_ = getattr(self.model_, \"coef_\")\n",
        "        elif hasattr(self.model_, \"coef_mean_\"):\n",
        "            self.coef_ = getattr(self.model_, \"coef_mean_\")\n",
        "        else:\n",
        "            raise AttributeError(\"Wrapped estimator must expose coef_ or coef_mean_ after fit().\")\n",
        "        # Flatten shapes like (1,p)\n",
        "        self.coef_ = getattr(self.coef_, \"ravel\", lambda: self.coef_)()\n",
        "        return self\n",
        "\n",
        "    def predict(self, X):\n",
        "        return self.model_.predict(X)\n",
        "\n",
        "    def predict_proba(self, X):\n",
        "        return self.model_.predict_proba(X)\n",
        "\n",
        "    def score(self, X, y):\n",
        "        # default classifier score = accuracy\n",
        "        return self.model_.score(X, y)\n",
        "\n",
        "\n",
        "from mlxtend.feature_selection import SequentialFeatureSelector as MLX_SFS\n",
        "from sklearn.model_selection import StratifiedKFold\n",
        "from sklearn.metrics import make_scorer, f1_score\n",
        "from sklearn.base import clone\n",
        "import numpy as np\n",
        "from sklearn.linear_model import LogisticRegression\n",
        "from sklearn.model_selection import StratifiedKFold, cross_val_score\n",
        "from sklearn.feature_selection import RFE, SequentialFeatureSelector\n",
        "from sklearn.base import clone\n",
        "from sklearn.metrics import make_scorer, f1_score\n",
        "import numpy as np\n",
        "\n",
        "# Custom scorer\n",
        "\n",
        "macro_f1 = make_scorer(f1_score, average=\"macro\")\n",
        "\n",
        "\n",
        "from sklearn.model_selection import StratifiedShuffleSplit\n",
        "\n",
        "def rfe_select_features(X_train, y_train, **kwargs):\n",
        "    estimator = kwargs.get('estimator', LogisticRegression(solver='liblinear'))\n",
        "\n",
        "    if 'k' in kwargs:\n",
        "        k = kwargs['k']\n",
        "        rfe = RFE(estimator, n_features_to_select=k)\n",
        "        rfe.fit(X_train, y_train)\n",
        "        selected = np.where(rfe.support_)[0]\n",
        "        return selected, None\n",
        "\n",
        "    else:\n",
        "        min_k = kwargs.get('min_k', 1)\n",
        "        max_k = kwargs.get('max_k', X_train.shape[1])\n",
        "        n_splits = kwargs.get('n_splits', 2)\n",
        "        test_size = kwargs.get('test_size', 0.2)\n",
        "        random_state = kwargs.get('random_state', 42)\n",
        "\n",
        "        cv = StratifiedShuffleSplit(n_splits=n_splits, test_size=test_size, random_state=random_state)\n",
        "\n",
        "        best_score = -np.inf\n",
        "        best_k = 1\n",
        "        no_improve_counter = 0\n",
        "        patience = 3\n",
        "\n",
        "        for k in range(min_k, max_k + 1, 5):\n",
        "            rfe = RFE(estimator, n_features_to_select=k)\n",
        "            X_trans = rfe.fit_transform(X_train, y_train)\n",
        "            score = np.mean(cross_val_score(clone(estimator), X_trans, y_train, cv=cv, scoring=macro_f1, n_jobs=-1))\n",
        "\n",
        "            if score > best_score:\n",
        "                best_score = score\n",
        "                best_k = k\n",
        "                no_improve_counter = 0\n",
        "            else:\n",
        "                no_improve_counter += 1\n",
        "                if no_improve_counter >= patience:\n",
        "                    break\n",
        "\n",
        "        rfe = RFE(estimator, n_features_to_select=best_k)\n",
        "        rfe.fit(X_train, y_train)\n",
        "        selected = np.where(rfe.support_)[0]\n",
        "        return selected, None\n",
        "\n",
        "def _get_cv_splitter(cv, X, y):\n",
        "    if isinstance(cv, int):\n",
        "        return StratifiedShuffleSplit(n_splits=cv, test_size=0.2, random_state=42)\n",
        "    return cv\n",
        "\n",
        "def sfs_select_features(X_train, y_train, **kwargs):\n",
        "    estimator = kwargs.get('estimator')\n",
        "    cv_folds = _get_cv_splitter(kwargs.get('cv', 2), X_train, y_train)\n",
        "\n",
        "    if 'k' in kwargs:\n",
        "        k = kwargs['k']\n",
        "        sfs = MLX_SFS(clone(estimator),\n",
        "                      k_features=k,\n",
        "                      forward=True,\n",
        "                      floating=False,\n",
        "                      scoring=macro_f1,\n",
        "                      cv=cv_folds,\n",
        "                      n_jobs=-1)\n",
        "        sfs.fit(X_train, y_train)\n",
        "        selected = np.array(sfs.k_feature_idx_)\n",
        "        return selected, None\n",
        "    else:\n",
        "        min_k = kwargs.get('min_k', 1)\n",
        "        max_k = kwargs.get('max_k', X_train.shape[1])\n",
        "        best_score = -np.inf\n",
        "        best_support = None\n",
        "        no_improve_counter = 0\n",
        "        patience = 3\n",
        "\n",
        "        for k in range(min_k, max_k + 1, 5):\n",
        "            sfs = MLX_SFS(clone(estimator),\n",
        "                          k_features=k,\n",
        "                          forward=True,\n",
        "                          floating=False,\n",
        "                          scoring=macro_f1,\n",
        "                          cv=cv_folds,\n",
        "                          n_jobs=-1)\n",
        "            sfs.fit(X_train, y_train)\n",
        "            if sfs.k_score_ > best_score:\n",
        "                best_score = sfs.k_score_\n",
        "                best_support = sfs.k_feature_idx_\n",
        "                no_improve_counter = 0\n",
        "            else:\n",
        "                no_improve_counter += 1\n",
        "                if no_improve_counter >= patience:\n",
        "                    break\n",
        "\n",
        "        selected = np.array(best_support)\n",
        "        return selected, None\n",
        "\n",
        "def sbs_select_features(X_train, y_train, **kwargs):\n",
        "    estimator = kwargs.get('estimator')\n",
        "    cv_folds = _get_cv_splitter(kwargs.get('cv', 2), X_train, y_train)\n",
        "\n",
        "    if 'k' in kwargs:\n",
        "        k = kwargs['k']\n",
        "        sbs = MLX_SFS(clone(estimator),\n",
        "                      k_features=k,\n",
        "                      forward=False,\n",
        "                      floating=False,\n",
        "                      scoring=macro_f1,\n",
        "                      cv=cv_folds,\n",
        "                      n_jobs=-1)\n",
        "        sbs.fit(X_train, y_train)\n",
        "        selected = np.array(sbs.k_feature_idx_)\n",
        "        return selected, None\n",
        "    else:\n",
        "        min_k = kwargs.get('min_k', 1)\n",
        "        max_k = kwargs.get('max_k', X_train.shape[1])\n",
        "        best_score = -np.inf\n",
        "        best_support = None\n",
        "        no_improve_counter = 0\n",
        "        patience = 3\n",
        "\n",
        "        #for k in range(min_k, max_k + 1, 5):\n",
        "        for k in reversed(range(min_k, max_k + 1, 5)):\n",
        "            sbs = MLX_SFS(clone(estimator),\n",
        "                          k_features=k,\n",
        "                          forward=False,\n",
        "                          floating=False,\n",
        "                          scoring=macro_f1,\n",
        "                          cv=cv_folds,\n",
        "                          n_jobs=-1)\n",
        "            sbs.fit(X_train, y_train)\n",
        "            if sbs.k_score_ > best_score:\n",
        "                best_score = sbs.k_score_\n",
        "                best_support = sbs.k_feature_idx_\n",
        "                no_improve_counter = 0\n",
        "            else:\n",
        "                no_improve_counter += 1\n",
        "                if no_improve_counter >= patience:\n",
        "                    break\n",
        "\n",
        "        selected = np.array(best_support)\n",
        "        return selected, None\n",
        "\n",
        "def bidir_select_features(X_train, y_train, **kwargs):\n",
        "    estimator = kwargs.get('estimator')\n",
        "    cv_folds = _get_cv_splitter(kwargs.get('cv', 2), X_train, y_train)\n",
        "\n",
        "    if 'k' in kwargs:\n",
        "        k = kwargs['k']\n",
        "        bidi = MLX_SFS(clone(estimator),\n",
        "                       k_features=k,\n",
        "                       forward=True,\n",
        "                       floating=True,\n",
        "                       scoring=macro_f1,\n",
        "                       cv=cv_folds,\n",
        "                       n_jobs=-1)\n",
        "        bidi.fit(X_train, y_train)\n",
        "        selected = np.array(bidi.k_feature_idx_)\n",
        "        return selected, None\n",
        "    else:\n",
        "        min_k = kwargs.get('min_k', 1)\n",
        "        max_k = kwargs.get('max_k', X_train.shape[1])\n",
        "        best_score = -np.inf\n",
        "        best_support = None\n",
        "        no_improve_counter = 0\n",
        "        patience = 3\n",
        "\n",
        "        for k in range(min_k, max_k + 1, 5):\n",
        "            bidi = MLX_SFS(clone(estimator),\n",
        "                           k_features=k,\n",
        "                           forward=True,\n",
        "                           floating=True,\n",
        "                           scoring=macro_f1,\n",
        "                           cv=cv_folds,\n",
        "                           n_jobs=-1)\n",
        "            bidi.fit(X_train, y_train)\n",
        "            if bidi.k_score_ > best_score:\n",
        "                best_score = bidi.k_score_\n",
        "                best_support = bidi.k_feature_idx_\n",
        "                no_improve_counter = 0\n",
        "            else:\n",
        "                no_improve_counter += 1\n",
        "                if no_improve_counter >= patience:\n",
        "                    break\n",
        "\n",
        "        selected = np.array(best_support)\n",
        "        return selected, None\n",
        "\n",
        "\n",
        "def rfe_select_features_old(X_train, y_train, **kwargs):\n",
        "    estimator = kwargs.get('estimator', LogisticRegression(solver='liblinear'))\n",
        "\n",
        "    if 'k' in kwargs:\n",
        "        k = kwargs['k']\n",
        "        rfe = RFE(estimator, n_features_to_select=k)\n",
        "        rfe.fit(X_train, y_train)\n",
        "        selected = np.where(rfe.support_)[0]\n",
        "        return selected, None\n",
        "\n",
        "    else:\n",
        "        max_k = kwargs.get('max_k', X_train.shape[1])\n",
        "        n_splits = kwargs.get('n_splits', 2)\n",
        "        test_size = kwargs.get('test_size', 0.2)\n",
        "        random_state = kwargs.get('random_state', 42)\n",
        "\n",
        "        cv = StratifiedShuffleSplit(n_splits=n_splits, test_size=test_size, random_state=random_state)\n",
        "\n",
        "        best_score = -np.inf\n",
        "        best_k = 1\n",
        "\n",
        "        for k in range(1, max_k + 1, 5):\n",
        "            rfe = RFE(estimator, n_features_to_select=k)\n",
        "            X_trans = rfe.fit_transform(X_train, y_train)\n",
        "            score = np.mean(cross_val_score(clone(estimator), X_trans, y_train, cv=cv, scoring=macro_f1, n_jobs=-1))\n",
        "\n",
        "            if score > best_score:\n",
        "                best_score = score\n",
        "                best_k = k\n",
        "\n",
        "        # Final fit with best_k\n",
        "        rfe = RFE(estimator, n_features_to_select=best_k)\n",
        "        rfe.fit(X_train, y_train)\n",
        "        selected = np.where(rfe.support_)[0]\n",
        "        return selected, None\n",
        "\n",
        "\n",
        "def _get_cv_splitter(cv, X, y):\n",
        "    if isinstance(cv, int):\n",
        "        return StratifiedShuffleSplit(n_splits=cv, test_size=0.2, random_state=42)\n",
        "    return cv\n",
        "\n",
        "\n",
        "def sfs_select_features_old(X_train, y_train, **kwargs):\n",
        "    estimator = kwargs.get('estimator')\n",
        "    cv_folds = _get_cv_splitter(kwargs.get('cv', 2), X_train, y_train)\n",
        "\n",
        "    if 'k' in kwargs:\n",
        "        k = kwargs['k']\n",
        "        sfs = MLX_SFS(clone(estimator),\n",
        "                      k_features=k,\n",
        "                      forward=True,\n",
        "                      floating=False,\n",
        "                      scoring=macro_f1,\n",
        "                      cv=cv_folds,\n",
        "                      n_jobs=-1)\n",
        "        sfs.fit(X_train, y_train)\n",
        "        selected = np.array(sfs.k_feature_idx_)\n",
        "        return selected, None\n",
        "    else:\n",
        "        min_k = kwargs.get('min_k', 1)\n",
        "        max_k = kwargs.get('max_k', X_train.shape[1])\n",
        "        best_score = -np.inf\n",
        "        best_support = None\n",
        "\n",
        "        for k in range(min_k, max_k + 1, 5):\n",
        "            sfs = MLX_SFS(clone(estimator),\n",
        "                          k_features=k,\n",
        "                          forward=True,\n",
        "                          floating=False,\n",
        "                          scoring=macro_f1,\n",
        "                          cv=cv_folds,\n",
        "                          n_jobs=-1)\n",
        "            sfs.fit(X_train, y_train)\n",
        "            if sfs.k_score_ > best_score:\n",
        "                best_score = sfs.k_score_\n",
        "                best_support = sfs.k_feature_idx_\n",
        "\n",
        "        selected = np.array(best_support)\n",
        "        return selected, None\n",
        "\n",
        "\n",
        "def sbs_select_features_old(X_train, y_train, **kwargs):\n",
        "    estimator = kwargs.get('estimator')\n",
        "    cv_folds = _get_cv_splitter(kwargs.get('cv', 2), X_train, y_train)\n",
        "\n",
        "    if 'k' in kwargs:\n",
        "        k = kwargs['k']\n",
        "        sbs = MLX_SFS(clone(estimator),\n",
        "                      k_features=k,\n",
        "                      forward=False,\n",
        "                      floating=False,\n",
        "                      scoring=macro_f1,\n",
        "                      cv=cv_folds,\n",
        "                      n_jobs=-1)\n",
        "        sbs.fit(X_train, y_train)\n",
        "        selected = np.array(sbs.k_feature_idx_)\n",
        "        return selected, None\n",
        "    else:\n",
        "        min_k = kwargs.get('min_k', 1)\n",
        "        max_k = kwargs.get('max_k', X_train.shape[1])\n",
        "        best_score = -np.inf\n",
        "        best_support = None\n",
        "\n",
        "        for k in range(min_k, max_k + 1, 5):\n",
        "            sbs = MLX_SFS(clone(estimator),\n",
        "                          k_features=k,\n",
        "                          forward=False,\n",
        "                          floating=False,\n",
        "                          scoring=macro_f1,\n",
        "                          cv=cv_folds,\n",
        "                          n_jobs=-1)\n",
        "            sbs.fit(X_train, y_train)\n",
        "            if sbs.k_score_ > best_score:\n",
        "                best_score = sbs.k_score_\n",
        "                best_support = sbs.k_feature_idx_\n",
        "\n",
        "        selected = np.array(best_support)\n",
        "        return selected, None\n",
        "\n",
        "\n",
        "def bidir_select_features_old(X_train, y_train, **kwargs):\n",
        "    estimator = kwargs.get('estimator')\n",
        "    cv_folds = _get_cv_splitter(kwargs.get('cv', 2), X_train, y_train)\n",
        "\n",
        "    if 'k' in kwargs:\n",
        "        k = kwargs['k']\n",
        "        bidi = MLX_SFS(clone(estimator),\n",
        "                       k_features=k,\n",
        "                       forward=True,\n",
        "                       floating=True,\n",
        "                       scoring=macro_f1,\n",
        "                       cv=cv_folds,\n",
        "                       n_jobs=-1)\n",
        "        bidi.fit(X_train, y_train)\n",
        "        selected = np.array(bidi.k_feature_idx_)\n",
        "        return selected, None\n",
        "    else:\n",
        "        min_k = kwargs.get('min_k', 1)\n",
        "        max_k = kwargs.get('max_k', X_train.shape[1])\n",
        "        best_score = -np.inf\n",
        "        best_support = None\n",
        "\n",
        "        for k in range(min_k, max_k + 1, 5):\n",
        "            bidi = MLX_SFS(clone(estimator),\n",
        "                           k_features=k,\n",
        "                           forward=True,\n",
        "                           floating=True,\n",
        "                           scoring=macro_f1,\n",
        "                           cv=cv_folds,\n",
        "                           n_jobs=-1)\n",
        "            bidi.fit(X_train, y_train)\n",
        "            if bidi.k_score_ > best_score:\n",
        "                best_score = bidi.k_score_\n",
        "                best_support = bidi.k_feature_idx_\n",
        "\n",
        "        selected = np.array(best_support)\n",
        "        return selected, None\n",
        "\n",
        "\n",
        "\n",
        "def _to_index_or_mask(selected_idx, n_features):\n",
        "    \"\"\"\n",
        "    Normalize selector output into either:\n",
        "      - an integer index array (dtype=int), or\n",
        "      - a boolean mask of length n_features.\n",
        "    \"\"\"\n",
        "    # None or empty -> keep all\n",
        "    if selected_idx is None:\n",
        "        return np.arange(n_features, dtype=int)\n",
        "    # convert sets/tuples/lists to np array\n",
        "    arr = np.asarray(list(selected_idx) if isinstance(selected_idx, set) else selected_idx)\n",
        "\n",
        "    # boolean mask?\n",
        "    if arr.dtype == bool:\n",
        "        if arr.ndim != 1 or arr.shape[0] != n_features:\n",
        "            raise ValueError(\"Boolean mask has wrong shape.\")\n",
        "        return arr  # mask\n",
        "\n",
        "    # tuple from mlxtend (k_feature_idx_) can be tuple of ints\n",
        "    # also handle nested tuples/lists (e.g. ((1,3,4,5,8),))\n",
        "    if arr.ndim > 1:\n",
        "        arr = np.ravel(arr)\n",
        "\n",
        "    # cast to int safely\n",
        "    try:\n",
        "        idx = arr.astype(int)\n",
        "    except Exception:\n",
        "        # last resort: map each entry to int explicitly\n",
        "        idx = np.array([int(x) for x in arr])\n",
        "\n",
        "    # guard for NaNs or negatives\n",
        "    if np.any(idx < 0) or np.any(idx >= n_features):\n",
        "        raise IndexError(f\"Selected indices out of bounds for n_features={n_features}: {idx}\")\n",
        "    return idx\n",
        "\n",
        "\n",
        "def evaluate_feature_selection_method_cls(feature_selector,\n",
        "                                          X_train, y_train,\n",
        "                                          X_test, y_test,\n",
        "                                          selector_params={},\n",
        "                                          model_params={},\n",
        "                                          eval_indices_bs=None):\n",
        "    \"\"\"\n",
        "    Evaluate feature selection for classification using Bayesian models.\n",
        "\n",
        "    - Selects features on Train\n",
        "    - Fits Bayesian model on Train-selected features\n",
        "    - Reports Accuracy, Macro-F1, Log-loss on Test\n",
        "    - Computes Sign Entropy from posterior (mu, sigma) of Train-fitted model\n",
        "    \"\"\"\n",
        "\n",
        "    #selector_params = selector_params.copy()  # avoid mutating original\n",
        "    est = clone(selector_params['evaluator'])\n",
        "    est_test = clone(selector_params['evaluator'])\n",
        "\n",
        "    evaluator = selector_params.pop('evaluator', None)\n",
        "\n",
        "    # run feature selector\n",
        "    selected_idx, _ = feature_selector(X_train, y_train, **selector_params)\n",
        "\n",
        "    # normalize selection\n",
        "    n_features = X_train.shape[1]\n",
        "    sel = _to_index_or_mask(selected_idx, n_features)\n",
        "\n",
        "    # slice data\n",
        "    if isinstance(sel, np.ndarray) and sel.dtype == bool:\n",
        "        X_tr, X_te = X_train[:, sel], X_test[:, sel]\n",
        "        kept_idx = np.where(sel)[0]\n",
        "    else:\n",
        "        X_tr, X_te = X_train[:, sel], X_test[:, sel]\n",
        "        kept_idx = np.asarray(sel, dtype=int)\n",
        "\n",
        "    # fit estimator on Train\n",
        "    #est = clone(selector_params['evaluator']).fit(X_tr, y_train)\n",
        "    est.fit(X_tr, y_train)\n",
        "\n",
        "    # predictions on Test\n",
        "    if hasattr(est, \"predict_proba\"):\n",
        "        proba = est.predict_proba(X_te)\n",
        "        if proba.ndim == 1 or proba.shape[1] == 1:\n",
        "            p1 = np.ravel(proba); proba = np.c_[1 - p1, p1]\n",
        "        y_pred = (proba[:, 1] >= 0.5).astype(int)\n",
        "        acc = accuracy_score(y_test, y_pred)\n",
        "        macro_f1 = f1_score(y_test, y_pred, average=\"macro\")\n",
        "        ll  = log_loss(y_test, proba)\n",
        "    else:\n",
        "        y_pred = est.predict(X_te)\n",
        "        acc = accuracy_score(y_test, y_pred)\n",
        "        macro_f1 = f1_score(y_test, y_pred, average=\"macro\")\n",
        "        ll  = None\n",
        "\n",
        "    # stability: sign entropy from posterior (mu, sigma) in test\n",
        "    #est_test = clone(selector_params['evaluator']).fit(X_te, y_te)\n",
        "    est_test.fit(X_te, y_te)\n",
        "\n",
        "    entropies = None\n",
        "    if hasattr(est_test, \"coef_\") and hasattr(est_test, \"sigma_\"):\n",
        "        # Bayesian evaluator: direct posterior mean + std\n",
        "        entropies = calculate_entropy_dist(est_test.coef_, est_test.sigma_)\n",
        "    else:\n",
        "        # Frequentist evaluator: bootstrap 1000 fits on the *test set*\n",
        "        n_bootstraps = 1000\n",
        "        coefs = []\n",
        "\n",
        "        rng = np.random.RandomState(42)\n",
        "        for _ in range(n_bootstraps):\n",
        "            # stratified bootstrap indices\n",
        "            classes, counts = np.unique(y_te, return_counts=True)\n",
        "            idxs = []\n",
        "            for c, cnt in zip(classes, counts):\n",
        "                cls_idx = np.where(y_te == c)[0]\n",
        "                take = rng.choice(cls_idx, size=cnt, replace=True)\n",
        "                idxs.append(take)\n",
        "            idxs = np.concatenate(idxs)\n",
        "            rng.shuffle(idxs)\n",
        "\n",
        "            X_bs, y_bs = X_te[idxs], y_te[idxs]\n",
        "            if len(np.unique(y_bs)) < 2:\n",
        "                continue  # skip if only one class\n",
        "\n",
        "            try:\n",
        "                clf_bs = clone(evaluator).fit(X_bs, y_bs)\n",
        "                coefs.append(np.ravel(clf_bs.coef_))\n",
        "            except Exception:\n",
        "                continue\n",
        "\n",
        "        if len(coefs) < 10:\n",
        "            # too few successes -> signal with NaNs\n",
        "            entropies = np.full(X_te.shape[1], np.nan)\n",
        "        else:\n",
        "            coef_mat = np.vstack(coefs)        # shape: (n_bootstraps, p)\n",
        "            entropies = calculate_entropies(coef_mat)  # your KDE-based fn\n",
        "\n",
        "        entropies = np.atleast_1d(np.asarray(entropies, dtype=float))\n",
        "\n",
        "    return kept_idx, {\n",
        "        \"accuracy\": acc,\n",
        "        \"macro_f1\": macro_f1,\n",
        "        \"log_loss\": ll,\n",
        "        \"sign_entropy\": entropies,\n",
        "        \"mean_entropy\": np.mean(entropies) if entropies is not None else None\n",
        "    }\n",
        "\n",
        "\n",
        "# --- helpers ---\n",
        "def calculate_entropy(data):\n",
        "    if np.var(data) == 0:\n",
        "        return 0\n",
        "\n",
        "    scipy_kernel = gaussian_kde(data)\n",
        "\n",
        "    #  We calculate the bandwidth for later use\n",
        "    optimal_bandwidth = scipy_kernel.factor * np.std(data)\n",
        "\n",
        "    # Calculate KDE for the entire dataset\n",
        "    kde = gaussian_kde(data, bw_method=optimal_bandwidth)\n",
        "\n",
        "    # Create a range of values to represent the KDE\n",
        "    x = np.linspace(np.min(data), np.max(data), 1000)\n",
        "\n",
        "    # Evaluate the density at each point in the range\n",
        "    density = kde(x)\n",
        "\n",
        "    # Normalize the density function\n",
        "    normalized_density = density / np.sum(density * (x[1] - x[0]))\n",
        "\n",
        "    # Calculate the probabilities of positive and negative values\n",
        "    positive_probability = np.sum(normalized_density[x >= 0] * (x[1] - x[0]))\n",
        "    negative_probability = np.sum(normalized_density[x < 0] * (x[1] - x[0]))\n",
        "\n",
        "    if positive_probability == 0 or negative_probability == 0:\n",
        "        sign_entropy = 0\n",
        "    else:\n",
        "        sign_entropy = -positive_probability * np.log2(positive_probability) \\\n",
        "                       - negative_probability * np.log2(negative_probability)\n",
        "\n",
        "    return sign_entropy\n",
        "\n",
        "\n",
        "def calculate_entropies(result_matrix):\n",
        "    sign_entropies = []\n",
        "    for column in range(result_matrix.shape[1]):\n",
        "        data = result_matrix[:, column]\n",
        "        sign_entropy = calculate_entropy(data)\n",
        "        sign_entropies.append(sign_entropy)\n",
        "\n",
        "    sign_entropies = np.array(sign_entropies)\n",
        "\n",
        "    return sign_entropies\n",
        "\n",
        "\n",
        "def _entropy_from_samples(beta_samples):\n",
        "    # beta_samples: (draws, p) posterior samples (no intercept)\n",
        "    p_pos = (beta_samples > 0).mean(axis=0)\n",
        "    p_pos = np.clip(p_pos, 1e-12, 1 - 1e-12)  # avoid log(0)\n",
        "    p_neg = 1.0 - p_pos\n",
        "    return -(p_pos * np.log2(p_pos) + p_neg * np.log2(p_neg))\n",
        "\n",
        "\n",
        "def _entropy_from_gaussian(mu, Sigma, has_intercept=False):\n",
        "    # mu: (p,) or (p+1,) ; Sigma: (p,p) or (p+1,p+1) or diag vector\n",
        "    mu = np.ravel(mu)\n",
        "    if Sigma.ndim == 2:\n",
        "        diag_vars = np.diag(Sigma)\n",
        "    else:\n",
        "        diag_vars = np.ravel(Sigma)\n",
        "    if has_intercept:\n",
        "        mu = mu[1:]\n",
        "        diag_vars = diag_vars[1:]\n",
        "    sigma = np.sqrt(np.clip(diag_vars, 1e-12, None))\n",
        "    p_neg = norm.cdf(0.0, loc=mu, scale=sigma)\n",
        "    p_pos = 1.0 - p_neg\n",
        "    H = np.zeros_like(mu, dtype=float)\n",
        "    mid = (p_pos > 0) & (p_pos < 1)\n",
        "    H[mid] = -(p_pos[mid]*np.log2(p_pos[mid]) + p_neg[mid]*np.log2(p_neg[mid]))\n",
        "    return H\n",
        "\n",
        "\n",
        "# ---------- utilities ----------\n",
        "def calculate_entropy_from_samples(beta_samples):\n",
        "    \"\"\"\n",
        "    beta_samples: array (n_draws, p) of posterior draws for coefficients (no intercept).\n",
        "    Return: entropy per feature (p,), using base-2 logs.\n",
        "    \"\"\"\n",
        "    p_pos = (beta_samples > 0).mean(axis=0)\n",
        "    p_pos = np.clip(p_pos, 1e-12, 1 - 1e-12)  # numerical safety at boundaries\n",
        "    p_neg = 1.0 - p_pos\n",
        "    H = -(p_pos * np.log2(p_pos) + p_neg * np.log2(p_neg))\n",
        "    return H\n",
        "\n",
        "# ---------- Bayesian logistic classifier (PyMC, ADVI for speed) ----------\n",
        "\n",
        "\n",
        "class BayesianLogisticPyMC(BaseEstimator, ClassifierMixin):\n",
        "    \"\"\"\n",
        "    Bayesian logistic regression with Normal(0, prior_std) priors on weights.\n",
        "    NOTE: 'prior_std' is a STANDARD DEVIATION, not a precision.\n",
        "    \"\"\"\n",
        "\n",
        "    def __init__(self, prior_std=1.0, prior_type=\"normal\", fit_intercept=True,\n",
        "                 advi_iters=20000, draws=2000, random_state=0, verbose=False,\n",
        "                 penalize_intercept=False, intercept_std=10.0,  # if True, Normal(0, intercept_std); else Flat\n",
        "                 fullrank=False):\n",
        "        self.prior_std = float(prior_std)\n",
        "        self.fit_intercept = bool(fit_intercept)\n",
        "        self.advi_iters = int(advi_iters)\n",
        "        self.draws = int(draws)\n",
        "        self.random_state = int(random_state)\n",
        "        self.verbose = bool(verbose)\n",
        "        self.penalize_intercept = bool(penalize_intercept)\n",
        "        self.intercept_std = float(intercept_std)\n",
        "        self.fullrank = bool(fullrank)\n",
        "        self.prior_type = prior_type\n",
        "\n",
        "        self.coef_samples_ = None\n",
        "        self.intercept_samples_ = None\n",
        "        self.coef_mean_ = None\n",
        "        self.Sigma_ = None\n",
        "        self.coef_ = None\n",
        "        self.sigma_ = None  # per-feature posterior std\n",
        "\n",
        "    def fit(self, X, y):\n",
        "        X = np.asarray(X, dtype=float)\n",
        "        y = np.asarray(y, dtype=int).ravel()\n",
        "        if set(np.unique(y)) - {0, 1}:\n",
        "            raise ValueError(\"Binary labels {0,1} required.\")\n",
        "        n, p = X.shape\n",
        "\n",
        "        elbo_vals = []\n",
        "\n",
        "        def track_elbo(approx, n, elbo):\n",
        "            elbo_vals.append(elbo)\n",
        "\n",
        "\n",
        "        with pm.Model() as model:\n",
        "            # multiple priors\n",
        "            if self.prior_type == \"gaussian\":\n",
        "                beta = pm.Normal(\"beta\", mu=0.0, sigma=self.prior_std, shape=p)\n",
        "            elif self.prior_type == \"laplace\":\n",
        "                beta = pm.Laplace(\"beta\", mu=0.0, b=self.prior_std, shape=p)\n",
        "            elif self.prior_type == \"studentt\":\n",
        "                beta = pm.StudentT(\"beta\", nu=3, mu=0.0, sigma=self.prior_std, shape=p)\n",
        "            elif self.prior_type == \"cauchy\":\n",
        "                beta = pm.Cauchy(\"beta\", alpha=0.0, beta=self.prior_std, shape=p)\n",
        "            else:\n",
        "                raise ValueError(f\"Unsupported prior_type: {self.prior_type}\")\n",
        "            # multiple priors\n",
        "\n",
        "            #beta = pm.Normal(\"beta\", mu=0.0, sigma=self.prior_std, shape=p)\n",
        "\n",
        "            if self.fit_intercept:\n",
        "                if self.penalize_intercept:\n",
        "                    alpha = pm.Normal(\"alpha\", mu=0.0, sigma=self.intercept_std)\n",
        "                else:\n",
        "                    alpha = pm.Flat(\"alpha\")  # unpenalized intercept, like sklearn\n",
        "                eta = alpha + pm.math.dot(X, beta)\n",
        "            else:\n",
        "                eta = pm.math.dot(X, beta)\n",
        "\n",
        "            pm.Bernoulli(\"y\", p=pm.math.sigmoid(eta), observed=y)\n",
        "\n",
        "            method = \"fullrank_advi\" if self.fullrank else \"advi\"\n",
        "            approx = pm.fit(self.advi_iters, method=method,\n",
        "                            random_seed=self.random_state, progressbar=self.verbose,\n",
        "                            callbacks=[track_elbo])\n",
        "            self.elbo_vals_ = np.array(elbo_vals)\n",
        "            self.idata_ = approx.sample(self.draws, random_seed=self.random_state)\n",
        "            #idata = approx.sample(self.draws, random_seed=self.random_state)\n",
        "\n",
        "        # Extract posterior draws\n",
        "        beta_draws = np.asarray(self.idata_.posterior[\"beta\"]).reshape(-1, p)\n",
        "        self.coef_samples_ = beta_draws\n",
        "        if self.fit_intercept:\n",
        "            self.intercept_samples_ = np.asarray(self.idata_.posterior[\"alpha\"]).reshape(-1)\n",
        "\n",
        "        # Summaries\n",
        "        # Posterior summaries (robust to p==1)\n",
        "        self.coef_mean_ = beta_draws.mean(axis=0)\n",
        "        self.sigma_     = beta_draws.std(axis=0, ddof=1)\n",
        "        p = beta_draws.shape[1]\n",
        "        if p > 1:\n",
        "            self.Sigma_ = np.cov(beta_draws.T, ddof=1)\n",
        "        else:\n",
        "            var = float(self.sigma_[0] ** 2)\n",
        "            self.Sigma_ = np.array([[var]])\n",
        "        self.coef_ = self.coef_mean_\n",
        "\n",
        "        return self\n",
        "\n",
        "    def predict_proba(self, X):\n",
        "        X = np.asarray(X, dtype=float)\n",
        "        eta = X @ self.coef_samples_.T\n",
        "        if self.fit_intercept and self.intercept_samples_ is not None:\n",
        "            eta = eta + self.intercept_samples_[None, :]\n",
        "        p1 = 1.0 / (1.0 + np.exp(-eta))\n",
        "        p1_mean = p1.mean(axis=1)\n",
        "        return np.column_stack([1.0 - p1_mean, p1_mean])\n",
        "\n",
        "    def predict(self, X):\n",
        "        return (self.predict_proba(X)[:, 1] >= 0.5).astype(int)\n",
        "\n",
        "\n",
        "# ---------- Bay-CoFE selector for classification ----------\n",
        "\n",
        "from sklearn.linear_model import LogisticRegression\n",
        "from sklearn.base import clone\n",
        "import numpy as np\n",
        "\n",
        "def sefe_select_features(X_train, y_train, **kwargs):\n",
        "    \"\"\"\n",
        "    SEFE for classification using sklearn LogisticRegression and bootstrapped sign entropy:\n",
        "    Iteratively fit a logistic regression estimator and drop features\n",
        "    whose sign entropy > slack, estimated via KDE on bootstrapped coefs.\n",
        "\n",
        "    kwargs:\n",
        "      slack (float)     : entropy threshold (default 0.001)\n",
        "      num_iter (int)    : max elimination passes (default 10)\n",
        "      tolerance_limit   : stop if no removals for this many consecutive passes (default 1)\n",
        "      n_bootstraps      : number of bootstraps for sign entropy estimation (default 1000)\n",
        "\n",
        "    returns:\n",
        "      np.ndarray of kept feature indices (0-based)\n",
        "    \"\"\"\n",
        "    slack = float(kwargs.get('slack', 0.01))\n",
        "    num_iter = int(kwargs.get('num_iter', 10))\n",
        "    tolerance_limit = int(kwargs.get('tolerance_limit', 3))\n",
        "    n_bootstraps = int(kwargs.get('n_bootstraps', 1000))\n",
        "\n",
        "    base_estimator = kwargs.get('estimator')\n",
        "\n",
        "    p = X_train.shape[1]\n",
        "    drop_mask = np.zeros(p, dtype=bool)\n",
        "    patience = 0\n",
        "\n",
        "    for _ in range(num_iter):\n",
        "        keep_idx = np.where(~drop_mask)[0]\n",
        "        if keep_idx.size == 0:\n",
        "            break\n",
        "\n",
        "        X_sel = X_train[:, keep_idx]\n",
        "        boot_coefs = []\n",
        "\n",
        "        for _ in range(n_bootstraps):\n",
        "            indices = np.random.choice(X_sel.shape[0], size=X_sel.shape[0], replace=True)\n",
        "            X_bs = X_sel[indices]\n",
        "            y_bs = y_train[indices]\n",
        "\n",
        "            clf = clone(base_estimator)\n",
        "            try:\n",
        "                clf.fit(X_bs, y_bs)\n",
        "                coefs = np.ravel(clf.coef_)\n",
        "                boot_coefs.append(coefs)\n",
        "            except Exception:\n",
        "                continue\n",
        "\n",
        "        boot_coefs = np.array(boot_coefs)\n",
        "        if boot_coefs.shape[0] < 10:\n",
        "            raise RuntimeError(\"Too few successful bootstraps — consider using a more stable estimator.\")\n",
        "\n",
        "        # Compute per-feature sign entropy\n",
        "        H = calculate_entropies(boot_coefs)\n",
        "        H = np.atleast_1d(np.asarray(H, dtype=float))\n",
        "\n",
        "        # Drop features with high sign entropy\n",
        "        to_drop_local = to_drop_local = np.flatnonzero(np.isfinite(H) & (H > slack)) #np.where(H > slack)[0]\n",
        "        if to_drop_local.size > 0:\n",
        "            drop_mask[keep_idx[to_drop_local]] = True\n",
        "            patience = 0\n",
        "        else:\n",
        "            patience += 1\n",
        "            if patience >= tolerance_limit:\n",
        "                break\n",
        "\n",
        "    selected = np.where(~drop_mask)[0]\n",
        "    if selected.size == 0:\n",
        "        selected = np.arange(p)  # fallback: keep all\n",
        "    return selected, None\n",
        "\n",
        "\n",
        "def calculate_entropy_dist(mu, sigma):\n",
        "    \"\"\"\n",
        "    Vectorized sign-entropy for Gaussian (mu, sigma).\n",
        "    Handles scalars and 1-D arrays cleanly.\n",
        "    \"\"\"\n",
        "    mu = np.ravel(mu).astype(float)         # force 1‑D\n",
        "    sigma = np.ravel(sigma).astype(float)   # force 1‑D\n",
        "    #print(\"mu: \", mu)\n",
        "    #print(\"sigma: \", sigma)\n",
        "    p_neg = norm.cdf(0.0, loc=mu, scale=sigma)\n",
        "    p_pos = 1.0 - p_neg\n",
        "\n",
        "    # scalar case\n",
        "    if mu.size == 1:\n",
        "        if p_pos[0] == 0.0:\n",
        "            return -(p_neg[0] * np.log2(p_neg[0])) if p_neg[0] > 0 else 0.0\n",
        "        elif p_neg[0] == 0.0:\n",
        "            return -(p_pos[0] * np.log2(p_pos[0])) if p_pos[0] > 0 else 0.0\n",
        "        else:\n",
        "            return -(p_pos[0] * np.log2(p_pos[0]) + p_neg[0] * np.log2(p_neg[0]))\n",
        "\n",
        "    # vector case\n",
        "    H = np.zeros_like(mu, dtype=float)\n",
        "\n",
        "    mid = (p_pos > 0) & (p_pos < 1)\n",
        "    H[mid] = -(p_pos[mid] * np.log2(p_pos[mid]) + p_neg[mid] * np.log2(p_neg[mid]))\n",
        "\n",
        "    zero_pos = (p_pos == 0) & (p_neg > 0)\n",
        "    H[zero_pos] = -(p_neg[zero_pos] * np.log2(p_neg[zero_pos]))\n",
        "\n",
        "    zero_neg = (p_neg == 0) & (p_pos > 0)\n",
        "    H[zero_neg] = -(p_pos[zero_neg] * np.log2(p_pos[zero_neg]))\n",
        "\n",
        "    return H\n",
        "\n",
        "\n",
        "def baycofe_select_features_cls(X_train, y_train, **kwargs):\n",
        "    \"\"\"\n",
        "    Iteratively fits the Bayesian logistic model; at each step removes features whose posterior sign entropy > slack.\n",
        "    Uses posterior mean and covariance (mu, Sigma), not samples.\n",
        "\n",
        "    Returns:\n",
        "      selected_idx : indices of kept features\n",
        "      entropies_last : per-feature sign entropy for the final subset\n",
        "    \"\"\"\n",
        "    slack = float(kwargs.get('slack', 0.01))\n",
        "    num_iter = int(kwargs.get('num_iter', 10))\n",
        "    tolerance_limit = int(kwargs.get('tolerance_limit', 3))\n",
        "    n_bootstraps = int(kwargs.get('n_bootstraps', 1000))\n",
        "\n",
        "    estimator = kwargs.get('estimator')\n",
        "\n",
        "    p = X_train.shape[1]\n",
        "    drop_mask = np.zeros(p, dtype=bool)\n",
        "    patience = 0\n",
        "\n",
        "    for _ in range(num_iter):\n",
        "        keep_idx = np.where(~drop_mask)[0]\n",
        "        if keep_idx.size == 0:\n",
        "            break\n",
        "\n",
        "        X_sel = X_train[:, keep_idx]\n",
        "        clf = clone(estimator).fit(X_sel, y_train)\n",
        "\n",
        "        H = None\n",
        "        if hasattr(clf, \"coef_\") and hasattr(clf, \"sigma_\"):\n",
        "          H = calculate_entropy_dist(clf.coef_, clf.sigma_)\n",
        "          H = np.atleast_1d(np.asarray(H, dtype=float))\n",
        "\n",
        "        to_drop_local = np.flatnonzero(np.isfinite(H) & (H > slack)) #np.where(H > slack)[0]\n",
        "        if to_drop_local.size > 0:\n",
        "            drop_mask[keep_idx[to_drop_local]] = True\n",
        "            patience = 0\n",
        "        else:\n",
        "            patience += 1\n",
        "            if patience >= tolerance_limit:\n",
        "                break\n",
        "\n",
        "    selected_idx = np.where(~drop_mask)[0]\n",
        "    if selected_idx.size == 0:\n",
        "        selected_idx = np.arange(p)\n",
        "        ent_last = np.zeros(p, dtype=float)\n",
        "    else:\n",
        "        X_sel = X_train[:, selected_idx]\n",
        "        clf = clone(estimator).fit(X_sel, y_train)\n",
        "\n",
        "        H_last = None\n",
        "        if hasattr(clf, \"coef_\") and hasattr(clf, \"sigma_\"):\n",
        "          H_last = calculate_entropy_dist(clf.coef_, clf.sigma_)\n",
        "\n",
        "    return selected_idx, H_last"
      ]
    },
    {
      "cell_type": "code",
      "execution_count": null,
      "metadata": {
        "id": "ImP0HbvNrh3s"
      },
      "outputs": [],
      "source": [
        "from sklearn.datasets import load_breast_cancer\n",
        "import pandas as pd\n",
        "import numpy as np\n",
        "\n",
        "\n",
        "def remove_highly_correlated_features_pd(X, threshold):\n",
        "    # Convert X to a pandas DataFrame\n",
        "    # Calculate the correlation matrix\n",
        "    df = pd.DataFrame(X)\n",
        "    corr_matrix = df.corr().abs()\n",
        "    # Create a mask to remove the upper triangle of the correlation matrix\n",
        "    mask = np.triu(np.ones_like(corr_matrix, dtype=bool))\n",
        "\n",
        "    # Set the upper triangle values to NaN\n",
        "    corr_matrix.mask(mask, inplace=True)\n",
        "\n",
        "    # Find the highly correlated features\n",
        "    cols_to_drop = [column for column in corr_matrix.columns if any(corr_matrix[column] > threshold)]\n",
        "\n",
        "    # Drop the highly correlated features from the DataFrame\n",
        "    reduced_df = df.drop(columns=cols_to_drop)\n",
        "\n",
        "    # Convert the reduced DataFrame back to numpy array\n",
        "    X_reduced = reduced_df.to_numpy()\n",
        "\n",
        "    return X_reduced, cols_to_drop\n",
        "\n",
        "\n",
        "def get_breast_cancer_XY(threshold=0.80):\n",
        "    \"\"\"\n",
        "    Load Breast Cancer Wisconsin dataset (binary classification).\n",
        "\n",
        "    Returns:\n",
        "        X (np.ndarray): scaled feature matrix\n",
        "        y (np.ndarray): binary labels (0 = malignant, 1 = benign)\n",
        "    \"\"\"\n",
        "    # Load dataset\n",
        "    data = load_breast_cancer()\n",
        "    X = pd.DataFrame(data.data, columns=data.feature_names)\n",
        "    y = data.target  # already 0/1\n",
        "\n",
        "    # Remove highly correlated features\n",
        "    X_reduced, removed_features = remove_highly_correlated_features_pd(X, threshold)\n",
        "    print(\"Removed due to correlation:\", removed_features)\n",
        "\n",
        "    # Scale features (min–max scaling)\n",
        "    X_min = X_reduced.min(axis=0)\n",
        "    X_max = X_reduced.max(axis=0)\n",
        "    X_scaled = (X_reduced - X_min) / (X_max - X_min)\n",
        "\n",
        "    # Ensure numpy array\n",
        "    if isinstance(X_scaled, pd.DataFrame):\n",
        "        X_scaled = X_scaled.to_numpy()\n",
        "\n",
        "    print(\"Shape of X:\", X_scaled.shape)\n",
        "    print(\"Shape of y:\", y.shape)\n",
        "\n",
        "    return X_scaled, y\n",
        "\n",
        "\n",
        "# pip install ucimlrepo pandas numpy scikit-learn\n",
        "from ucimlrepo import fetch_ucirepo\n",
        "import pandas as pd\n",
        "import numpy as np\n",
        "from sklearn.preprocessing import StandardScaler, MinMaxScaler\n",
        "\n",
        "from ucimlrepo import fetch_ucirepo\n",
        "import numpy as np\n",
        "import pandas as pd\n",
        "from sklearn.preprocessing import StandardScaler\n",
        "\n",
        "def get_phishing_XY(threshold=0.80, scale=\"standard\"):\n",
        "    \"\"\"\n",
        "    UCI Phishing Websites (binary; ~11k rows, 30 int features).\n",
        "    scale: 'standard' | 'minmax' | None\n",
        "    Returns: X (ndarray), y (ndarray in {0,1})\n",
        "    \"\"\"\n",
        "    phishing = fetch_ucirepo(id=327)  # Phishing Websites\n",
        "    X = phishing.data.features.copy()\n",
        "    y_df = phishing.data.targets.copy()\n",
        "\n",
        "    # map target to {0,1}\n",
        "    y_vals = np.ravel(y_df.values) if isinstance(y_df, pd.DataFrame) else np.asarray(y_df)\n",
        "    uniq = np.unique(y_vals)\n",
        "    if len(uniq) != 2:\n",
        "        raise ValueError(f\"Expected binary target, got classes: {uniq}\")\n",
        "    mapping = {uniq[0]: 0, uniq[1]: 1}\n",
        "    y = np.vectorize(mapping.get)(y_vals)\n",
        "\n",
        "    # correlation prune (your helper)\n",
        "    X_reduced, removed = remove_highly_correlated_features_pd(X, threshold)\n",
        "    print(\"Removed due to correlation:\", removed)\n",
        "\n",
        "    # ensure ndarray\n",
        "    if isinstance(X_reduced, pd.DataFrame):\n",
        "        X_arr = X_reduced.to_numpy()\n",
        "    else:\n",
        "        X_arr = np.asarray(X_reduced)\n",
        "\n",
        "    # scale\n",
        "    if scale == \"standard\":\n",
        "        X_scaled = StandardScaler().fit_transform(X_arr)\n",
        "    elif scale == \"minmax\":\n",
        "        X_min = X_arr.min(axis=0, keepdims=True)\n",
        "        X_max = X_arr.max(axis=0, keepdims=True)\n",
        "        denom = np.where((X_max - X_min) == 0, 1.0, (X_max - X_min))\n",
        "        X_scaled = (X_arr - X_min) / denom\n",
        "    else:\n",
        "        X_scaled = X_arr\n",
        "\n",
        "    print(\"Shape of X:\", X_scaled.shape)\n",
        "    print(\"Shape of y:\", y.shape)\n",
        "    return X_scaled, y\n",
        "\n",
        "\n",
        "import numpy as np\n",
        "import pandas as pd\n",
        "from sklearn.preprocessing import StandardScaler\n",
        "\n",
        "def get_tunadromd_XY(csv_path=\"/content/TUANDROMD.csv\", threshold=0.80, scale=\"standard\"):\n",
        "    \"\"\"\n",
        "    Load TUNADROMD dataset from a CSV file (binary malware vs goodware).\n",
        "    Prune features by correlation threshold, scale, and return arrays.\n",
        "    \"\"\"\n",
        "    # Load CSV\n",
        "    df = pd.read_csv(csv_path)\n",
        "\n",
        "    # Assume last column is target\n",
        "    X_df = df.iloc[:, :-1]\n",
        "    y_df = df.iloc[:, -1]\n",
        "\n",
        "    # Drop rows with missing target\n",
        "    mask = ~pd.isna(y_df)\n",
        "    X_df = X_df[mask]\n",
        "    y_df = y_df[mask]\n",
        "\n",
        "    # Convert target to numpy array\n",
        "    y_vals = np.ravel(y_df.values)\n",
        "    uniq = np.unique(y_vals)\n",
        "\n",
        "    if len(uniq) != 2:\n",
        "        raise ValueError(f\"Expected binary target but got classes: {uniq}\")\n",
        "\n",
        "    mapping = {uniq[0]: 0, uniq[1]: 1}\n",
        "    y = np.vectorize(mapping.get)(y_vals)\n",
        "\n",
        "    # Correlation prune\n",
        "    X_reduced, removed = remove_highly_correlated_features_pd(X_df, threshold)\n",
        "    print(\"Removed due to correlation:\", removed)\n",
        "\n",
        "    # Ensure ndarray\n",
        "    X_arr = X_reduced.to_numpy() if isinstance(X_reduced, pd.DataFrame) else np.asarray(X_reduced)\n",
        "\n",
        "    # Scaling\n",
        "    if scale == \"standard\":\n",
        "        X_scaled = StandardScaler().fit_transform(X_arr)\n",
        "    elif scale == \"minmax\":\n",
        "        X_min = X_arr.min(axis=0, keepdims=True)\n",
        "        X_max = X_arr.max(axis=0, keepdims=True)\n",
        "        denom = np.where((X_max - X_min) == 0, 1.0, (X_max - X_min))\n",
        "        X_scaled = (X_arr - X_min) / denom\n",
        "    else:\n",
        "        X_scaled = X_arr\n",
        "\n",
        "    print(\"Shape of X:\", X_scaled.shape)\n",
        "    print(\"Shape of y:\", y.shape)\n",
        "    return X_scaled, y"
      ]
    },
    {
      "cell_type": "code",
      "execution_count": null,
      "metadata": {
        "colab": {
          "base_uri": "https://localhost:8080/"
        },
        "id": "D9vjWh8x3K4T",
        "outputId": "d9590b9a-c9b8-4185-c3fa-fae2f59e3f7b"
      },
      "outputs": [
        {
          "name": "stdout",
          "output_type": "stream",
          "text": [
            "corr = 0.8042547554736801\n",
            "rel err = 0.7335383593040505\n"
          ]
        }
      ],
      "source": [
        "from sklearn.linear_model import LogisticRegression\n",
        "\n",
        "# pick your prior std (σ); e.g., 1.0\n",
        "prior_std = 1.0\n",
        "\n",
        "# Frequentist (liblinear) — set C = σ²\n",
        "freq_logit = LogisticRegression(\n",
        "    penalty='l2', solver='liblinear',\n",
        "    C=prior_std**2,              # <-- C = σ²\n",
        "    fit_intercept=True, max_iter=5000, tol=1e-8\n",
        ")\n",
        "\n",
        "# Bayesian — use prior_std and DO NOT penalize the intercept\n",
        "bayes_logit = BayesianLogisticPyMC(\n",
        "    prior_std=prior_std,         # <-- σ\n",
        "    fit_intercept=True,\n",
        "    penalize_intercept=False,    # use Flat/very-wide prior for intercept\n",
        "    advi_iters=15000,\n",
        "    draws=3000,\n",
        "    random_state=0,\n",
        ")\n",
        "\n",
        "# Ensure: same StandardScaler on X, intercept unpenalized in Bayes\n",
        "freq_logit.fit(X_tr, y_tr)\n",
        "bayes_logit.fit(X_tr, y_tr)\n",
        "\n",
        "w_freq  = freq_logit.coef_.ravel()\n",
        "w_bayes = bayes_logit.coef_.ravel()\n",
        "\n",
        "print(\"corr =\", np.corrcoef(w_freq, w_bayes)[0,1])\n",
        "print(\"rel err =\", np.linalg.norm(w_freq - w_bayes)/np.linalg.norm(w_freq))"
      ]
    },
    {
      "cell_type": "code",
      "execution_count": null,
      "metadata": {
        "colab": {
          "base_uri": "https://localhost:8080/"
        },
        "id": "3pMULm7TaDYv",
        "outputId": "32b8d8c8-b01e-44be-af7c-15c35e3f4d5a"
      },
      "outputs": [
        {
          "output_type": "stream",
          "name": "stdout",
          "text": [
            "Removed due to correlation: ['ACCESS_CHECKIN_PROPERTIES', 'ACCESS_COARSE_LOCATION', 'ACCESS_LOCATION_EXTRA_COMMANDS', 'ACCESS_MOCK_LOCATION', 'ACCESS_SURFACE_FLINGER', 'ACCESS_WIFI_STATE', 'ACCOUNT_MANAGER', 'ADD_VOICEMAIL', 'AUTHENTICATE_ACCOUNTS', 'BIND_ACCESSIBILITY_SERVICE', 'BIND_APPWIDGET', 'BIND_CARRIER_MESSAGING_SERVICE', 'BIND_DREAM_SERVICE', 'BIND_INPUT_METHOD', 'BIND_NFC_SERVICE', 'BIND_0TIFICATION_LISTENER_SERVICE', 'BIND_PRINT_SERVICE', 'BIND_REMOTEVIEWS', 'BIND_TEXT_SERVICE', 'BIND_TV_INPUT', 'BIND_VOICE_INTERACTION', 'BIND_VPN_SERVICE', 'BIND_WALLPAPER', 'BLUETOOTH', 'BLUETOOTH_PRIVILEGED', 'BODY_SENSORS', 'BRICK', 'BROADCAST_PACKAGE_REMOVED', 'BROADCAST_SMS', 'BROADCAST_STICKY', 'BROADCAST_WAP_PUSH', 'CALL_PRIVILEGED', 'CAMERA', 'CAPTURE_AUDIO_OUTPUT', 'CAPTURE_SECURE_VIDEO_OUTPUT', 'CAPTURE_VIDEO_OUTPUT', 'CHANGE_COMPONENT_ENABLED_STATE', 'CHANGE_CONFIGURATION', 'CHANGE_WIFI_MULTICAST_STATE', 'CLEAR_APP_CACHE', 'CLEAR_APP_USER_DATA', 'CONTROL_LOCATION_UPDATES', 'DELETE_CACHE_FILES', 'DELETE_PACKAGES', 'DEVICE_POWER', 'DIAG0STIC', 'DUMP', 'EXPAND_STATUS_BAR', 'FACTORY_TEST', 'FLASHLIGHT', 'FORCE_BACK', 'GET_PACKAGE_SIZE', 'GET_TOP_ACTIVITY_INFO', 'GLOBAL_SEARCH', 'HARDWARE_TEST', 'INJECT_EVENTS', 'INSTALL_LOCATION_PROVIDER', 'INSTALL_PACKAGES', 'INSTALL_SHORTCUT', 'INTERNAL_SYSTEM_WINDOW', 'LOCATION_HARDWARE', 'MANAGE_ACCOUNTS', 'MANAGE_APP_TOKENS', 'MANAGE_DOCUMENTS', 'MASTER_CLEAR', 'MEDIA_CONTENT_CONTROL', 'MOUNT_FORMAT_FILESYSTEMS', 'MOUNT_UNMOUNT_FILESYSTEMS', 'NFC', 'PERSISTENT_ACTIVITY', 'PROCESS_OUTGOING_CALLS', 'READ_CALENDAR', 'READ_CALL_LOG', 'READ_CONTACTS', 'READ_FRAME_BUFFER', 'READ_HISTORY_BOOKMARKS', 'READ_INPUT_STATE', 'READ_PROFILE', 'READ_SMS', 'READ_SOCIAL_STREAM', 'READ_SYNC_SETTINGS', 'READ_SYNC_STATS', 'READ_USER_DICTIONARY', 'READ_VOICEMAIL', 'REBOOT', 'RECEIVE_MMS', 'RECEIVE_WAP_PUSH', 'REORDER_TASKS', 'SEND_RESPOND_VIA_MESSAGE', 'SET_ACTIVITY_WATCHER', 'SET_ALARM', 'SET_ALWAYS_FINISH', 'SET_ANIMATION_SCALE', 'SET_DEBUG_APP', 'SET_ORIENTATION', 'SET_POINTER_SPEED', 'SET_PREFERRED_APPLICATIONS', 'SET_PROCESS_LIMIT', 'SET_TIME', 'SET_TIME_ZONE', 'SET_WALLPAPER', 'SET_WALLPAPER_HINTS', 'SIGNAL_PERSISTENT_PROCESSES', 'STATUS_BAR', 'SUBSCRIBED_FEEDS_READ', 'SUBSCRIBED_FEEDS_WRITE', 'TRANSMIT_IR', 'UNINSTALL_SHORTCUT', 'UPDATE_DEVICE_STATS', 'USE_SIP', 'WRITE_APN_SETTINGS', 'WRITE_CALENDAR', 'WRITE_CALL_LOG', 'WRITE_GSERVICES', 'WRITE_HISTORY_BOOKMARKS', 'WRITE_PROFILE', 'WRITE_SECURE_SETTINGS', 'WRITE_SMS', 'WRITE_SOCIAL_STREAM', 'WRITE_SYNC_SETTINGS', 'Ljava/lang/System;->load', 'Landroid/telephony/TelephonyManager;->getNetworkOperator']\n",
            "Shape of X: (4464, 119)\n",
            "Shape of y: (4464,)\n",
            "\n",
            "=== Run 1/20 ===\n",
            "\n",
            "--- GAUSSIAN prior ---\n",
            "Selected: [ 16  34  58  61  64  66  74  76  80  87  96  99 107 111 113 117]\n",
            "Test Acc: 0.974 | LogLoss: 0.072 | Mean Entropy: 0.089\n",
            "\n",
            "--- LAPLACE prior ---\n",
            "Selected: [ 16  34  58  61  64  66  74  76  80  96  98  99 107 113 117]\n",
            "Test Acc: 0.974 | LogLoss: 0.078 | Mean Entropy: 0.145\n",
            "\n",
            "--- STUDENTT prior ---\n",
            "Selected: [ 16  34  58  61  64  66  74  76  80  87  96  99 107 111 113 117]\n",
            "Test Acc: 0.974 | LogLoss: 0.072 | Mean Entropy: 0.089\n",
            "\n",
            "--- CAUCHY prior ---\n",
            "Selected: [ 16  34  58  61  64  66  74  76  80  96  98  99 107 113 117]\n",
            "Test Acc: 0.974 | LogLoss: 0.078 | Mean Entropy: 0.145\n",
            "\n",
            "=== Run 2/20 ===\n",
            "\n",
            "--- GAUSSIAN prior ---\n",
            "Selected: [ 16  34  58  61  64  66  74  76  80  87  96  98  99 109 111 113 115]\n",
            "Test Acc: 0.974 | LogLoss: 0.076 | Mean Entropy: 0.138\n",
            "\n",
            "--- LAPLACE prior ---\n",
            "Selected: [ 16  34  58  61  64  66  74  76  80  87  96  98  99 109 111 113 115]\n",
            "Test Acc: 0.974 | LogLoss: 0.076 | Mean Entropy: 0.138\n",
            "\n",
            "--- STUDENTT prior ---\n",
            "Selected: [ 16  34  58  61  64  66  74  76  80  87  96  98  99 109 111 113 115]\n",
            "Test Acc: 0.974 | LogLoss: 0.076 | Mean Entropy: 0.138\n",
            "\n",
            "--- CAUCHY prior ---\n",
            "Selected: [ 16  34  58  61  64  66  74  76  80  87  96  98  99 109 111 113 115]\n",
            "Test Acc: 0.974 | LogLoss: 0.076 | Mean Entropy: 0.138\n",
            "\n",
            "=== Run 3/20 ===\n",
            "\n",
            "--- GAUSSIAN prior ---\n",
            "Selected: [ 16  24  34  58  61  64  66  74  76  80  96  98  99 107 111 113]\n",
            "Test Acc: 0.978 | LogLoss: 0.060 | Mean Entropy: 0.063\n",
            "\n",
            "--- LAPLACE prior ---\n",
            "Selected: [ 16  24  34  58  61  64  66  74  76  80  96  98  99 107 111 113]\n",
            "Test Acc: 0.978 | LogLoss: 0.060 | Mean Entropy: 0.063\n",
            "\n",
            "--- STUDENTT prior ---\n",
            "Selected: [ 16  24  34  58  61  64  66  74  76  80  96  98  99 107 111 113 117]\n",
            "Test Acc: 0.978 | LogLoss: 0.061 | Mean Entropy: 0.099\n",
            "\n",
            "--- CAUCHY prior ---\n",
            "Selected: [ 16  24  34  58  61  64  66  74  76  80  96  98  99 107 111 113 117]\n",
            "Test Acc: 0.978 | LogLoss: 0.061 | Mean Entropy: 0.099\n",
            "\n",
            "=== Run 4/20 ===\n",
            "\n",
            "--- GAUSSIAN prior ---\n",
            "Selected: [ 16  24  34  58  61  64  66  76  80  81  96  98  99 113]\n",
            "Test Acc: 0.974 | LogLoss: 0.082 | Mean Entropy: 0.008\n",
            "\n",
            "--- LAPLACE prior ---\n",
            "Selected: [ 16  24  34  58  61  64  66  76  80  81  96  98  99 113]\n",
            "Test Acc: 0.974 | LogLoss: 0.082 | Mean Entropy: 0.008\n",
            "\n",
            "--- STUDENTT prior ---\n",
            "Selected: [ 16  24  34  58  61  64  66  76  80  81  96  98  99 113]\n",
            "Test Acc: 0.974 | LogLoss: 0.082 | Mean Entropy: 0.008\n",
            "\n",
            "--- CAUCHY prior ---\n",
            "Selected: [ 16  24  34  58  61  64  66  76  80  81  96  98  99 113]\n",
            "Test Acc: 0.974 | LogLoss: 0.082 | Mean Entropy: 0.008\n",
            "\n",
            "=== Run 5/20 ===\n",
            "\n",
            "--- GAUSSIAN prior ---\n",
            "Selected: [ 16  58  61  64  66  74  76  80  87  96  98  99 107 109 111 113]\n",
            "Test Acc: 0.983 | LogLoss: 0.063 | Mean Entropy: 0.063\n",
            "\n",
            "--- LAPLACE prior ---\n",
            "Selected: [ 16  58  61  64  66  74  76  80  87  96  98  99 107 109 111 113]\n",
            "Test Acc: 0.983 | LogLoss: 0.063 | Mean Entropy: 0.063\n",
            "\n",
            "--- STUDENTT prior ---\n",
            "Selected: [ 16  34  58  61  64  66  74  76  80  87  96  98  99 107 109 111 113]\n",
            "Test Acc: 0.984 | LogLoss: 0.060 | Mean Entropy: 0.075\n",
            "\n",
            "--- CAUCHY prior ---\n",
            "Selected: [ 16  34  58  61  64  66  76  80  87  96  98  99 109 111 113]\n",
            "Test Acc: 0.977 | LogLoss: 0.062 | Mean Entropy: 0.015\n",
            "\n",
            "=== Run 6/20 ===\n",
            "\n",
            "--- GAUSSIAN prior ---\n",
            "Selected: [ 16  58  61  64  66  74  76  80  87  96  98  99 101 107 111 113]\n",
            "Test Acc: 0.981 | LogLoss: 0.064 | Mean Entropy: 0.053\n",
            "\n",
            "--- LAPLACE prior ---\n",
            "Selected: [ 16  58  61  64  66  74  76  80  87  96  98  99 101 107 111 113]\n",
            "Test Acc: 0.981 | LogLoss: 0.064 | Mean Entropy: 0.053\n",
            "\n",
            "--- STUDENTT prior ---\n",
            "Selected: [ 16  58  61  64  66  74  76  80  87  96  98  99 101 107 111 113]\n",
            "Test Acc: 0.981 | LogLoss: 0.064 | Mean Entropy: 0.053\n",
            "\n",
            "--- CAUCHY prior ---\n",
            "Selected: [ 16  58  61  64  66  74  76  80  87  96  98  99 101 107 111 113]\n",
            "Test Acc: 0.981 | LogLoss: 0.064 | Mean Entropy: 0.053\n",
            "\n",
            "=== Run 7/20 ===\n",
            "\n",
            "--- GAUSSIAN prior ---\n",
            "Selected: [ 16  40  58  61  64  66  76  80  96  98  99 107 111 113]\n",
            "Test Acc: 0.975 | LogLoss: 0.065 | Mean Entropy: 0.004\n",
            "\n",
            "--- LAPLACE prior ---\n",
            "Selected: [ 16  64  66  76  80  96  98  99 107 111 113]\n",
            "Test Acc: 0.973 | LogLoss: 0.080 | Mean Entropy: 0.004\n",
            "\n",
            "--- STUDENTT prior ---\n",
            "Selected: [ 16  40  58  61  64  66  76  80  96  98  99 107 111 113]\n",
            "Test Acc: 0.975 | LogLoss: 0.065 | Mean Entropy: 0.004\n",
            "\n",
            "--- CAUCHY prior ---\n",
            "Selected: [ 16  64  66  76  80  96  98  99 107 111 113]\n",
            "Test Acc: 0.973 | LogLoss: 0.080 | Mean Entropy: 0.004\n",
            "\n",
            "=== Run 8/20 ===\n",
            "\n",
            "--- GAUSSIAN prior ---\n",
            "Selected: [ 16  55  58  61  64  66  76  80  87  96  98  99 107 109 111 113 117]\n",
            "Test Acc: 0.979 | LogLoss: 0.084 | Mean Entropy: 0.076\n",
            "\n",
            "--- LAPLACE prior ---\n",
            "Selected: [ 16  55  58  61  64  66  76  80  87  96  98  99 107 109 111 113 117]\n",
            "Test Acc: 0.979 | LogLoss: 0.084 | Mean Entropy: 0.076\n",
            "\n",
            "--- STUDENTT prior ---\n",
            "Selected: [ 16  55  58  61  64  66  76  80  87  96  98  99 107 109 111 113 117]\n",
            "Test Acc: 0.979 | LogLoss: 0.084 | Mean Entropy: 0.076\n",
            "\n",
            "--- CAUCHY prior ---\n",
            "Selected: [ 16  55  58  61  64  66  76  80  87  96  98  99 107 109 111 113 117]\n",
            "Test Acc: 0.979 | LogLoss: 0.084 | Mean Entropy: 0.076\n",
            "\n",
            "=== Run 9/20 ===\n",
            "\n",
            "--- GAUSSIAN prior ---\n",
            "Selected: [ 16  24  34  40  61  64  66  74  76  80  96  98  99 107 113]\n",
            "Test Acc: 0.970 | LogLoss: 0.076 | Mean Entropy: 0.106\n",
            "\n",
            "--- LAPLACE prior ---\n",
            "Selected: [ 16  24  34  40  61  64  66  76  80  96  98  99 113]\n",
            "Test Acc: 0.976 | LogLoss: 0.076 | Mean Entropy: 0.039\n",
            "\n",
            "--- STUDENTT prior ---\n",
            "Selected: [ 16  24  34  40  61  64  66  76  80  96  98  99 113]\n",
            "Test Acc: 0.976 | LogLoss: 0.076 | Mean Entropy: 0.039\n",
            "\n",
            "--- CAUCHY prior ---\n",
            "Selected: [ 16  24  34  40  61  64  66  76  80  96  98  99 105 113]\n",
            "Test Acc: 0.977 | LogLoss: 0.074 | Mean Entropy: 0.033\n",
            "\n",
            "=== Run 10/20 ===\n",
            "\n",
            "--- GAUSSIAN prior ---\n",
            "Selected: [ 16  61  64  66  74  76  80  81  87  91  96  98  99 100 101 103 107 111\n",
            " 113]\n",
            "Test Acc: 0.976 | LogLoss: 0.074 | Mean Entropy: 0.130\n",
            "\n",
            "--- LAPLACE prior ---\n",
            "Selected: [ 16  61  64  66  74  76  80  81  87  91  96  98  99 100 101 103 107 113]\n",
            "Test Acc: 0.977 | LogLoss: 0.081 | Mean Entropy: 0.115\n",
            "\n",
            "--- STUDENTT prior ---\n",
            "Selected: [ 16  61  64  66  74  76  80  81  87  91  96  98  99 100 101 103 107 111\n",
            " 113]\n",
            "Test Acc: 0.976 | LogLoss: 0.074 | Mean Entropy: 0.130\n",
            "\n",
            "--- CAUCHY prior ---\n",
            "Selected: [ 16  61  64  66  76  80  81  87  91  96  98  99 100 101 103 107 113]\n",
            "Test Acc: 0.975 | LogLoss: 0.083 | Mean Entropy: 0.096\n",
            "\n",
            "=== Run 11/20 ===\n",
            "\n",
            "--- GAUSSIAN prior ---\n",
            "Selected: [ 16  34  40  58  61  64  66  68  76  80  96  98  99 107 111 113]\n",
            "Test Acc: 0.977 | LogLoss: 0.064 | Mean Entropy: 0.035\n",
            "\n",
            "--- LAPLACE prior ---\n",
            "Selected: [ 16  34  40  58  61  64  66  80  96  98  99 111 113]\n",
            "Test Acc: 0.977 | LogLoss: 0.068 | Mean Entropy: 0.036\n",
            "\n",
            "--- STUDENTT prior ---\n",
            "Selected: [ 16  34  40  58  61  64  66  68  76  80  96  98  99 111 113]\n",
            "Test Acc: 0.976 | LogLoss: 0.066 | Mean Entropy: 0.028\n",
            "\n",
            "--- CAUCHY prior ---\n",
            "Selected: [ 16  34  40  58  61  64  66  80  96  98  99 111 113]\n",
            "Test Acc: 0.977 | LogLoss: 0.068 | Mean Entropy: 0.036\n",
            "\n",
            "=== Run 12/20 ===\n",
            "\n",
            "--- GAUSSIAN prior ---\n",
            "Selected: [ 16  34  40  58  61  64  66  74  76  80  87  96  98  99 107 113]\n",
            "Test Acc: 0.972 | LogLoss: 0.071 | Mean Entropy: 0.185\n",
            "\n",
            "--- LAPLACE prior ---\n",
            "Selected: [ 16  34  40  58  61  64  66  76  80  87  96  98  99 107 113]\n",
            "Test Acc: 0.974 | LogLoss: 0.070 | Mean Entropy: 0.137\n",
            "\n",
            "--- STUDENTT prior ---\n",
            "Selected: [ 16  34  40  58  61  64  66  74  76  80  87  96  98  99 107 113]\n",
            "Test Acc: 0.972 | LogLoss: 0.071 | Mean Entropy: 0.185\n",
            "\n",
            "--- CAUCHY prior ---\n",
            "Selected: [ 16  34  40  58  61  64  66  76  80  87  96  98  99 107 113]\n",
            "Test Acc: 0.974 | LogLoss: 0.070 | Mean Entropy: 0.137\n",
            "\n",
            "=== Run 13/20 ===\n",
            "\n",
            "--- GAUSSIAN prior ---\n",
            "Selected: [ 16  34  61  64  66  74  76  80  87  96  98  99 107 109 111 113]\n",
            "Test Acc: 0.977 | LogLoss: 0.075 | Mean Entropy: 0.062\n",
            "\n",
            "--- LAPLACE prior ---\n",
            "Selected: [ 16  34  61  64  66  74  76  80  87  96  98  99 107 109 111 113]\n",
            "Test Acc: 0.977 | LogLoss: 0.075 | Mean Entropy: 0.062\n",
            "\n",
            "--- STUDENTT prior ---\n",
            "Selected: [ 16  34  61  64  66  74  76  80  87  96  98  99 107 109 111 113]\n",
            "Test Acc: 0.977 | LogLoss: 0.075 | Mean Entropy: 0.062\n",
            "\n",
            "--- CAUCHY prior ---\n",
            "Selected: [ 16  34  61  64  66  74  76  80  87  96  98  99 107 109 111 113]\n",
            "Test Acc: 0.977 | LogLoss: 0.075 | Mean Entropy: 0.062\n",
            "\n",
            "=== Run 14/20 ===\n",
            "\n",
            "--- GAUSSIAN prior ---\n",
            "Selected: [ 16  58  61  64  66  74  76  80  87  91  96  98  99 103 107 111 113]\n",
            "Test Acc: 0.981 | LogLoss: 0.068 | Mean Entropy: 0.074\n",
            "\n",
            "--- LAPLACE prior ---\n",
            "Selected: [ 58  61  64  66  74  76  80  87  91  96  98  99 103 111 113 115]\n",
            "Test Acc: 0.974 | LogLoss: 0.077 | Mean Entropy: 0.082\n",
            "\n",
            "--- STUDENTT prior ---\n",
            "Selected: [ 58  61  64  66  74  76  80  87  91  96  98  99 103 111 113 115]\n",
            "Test Acc: 0.974 | LogLoss: 0.077 | Mean Entropy: 0.082\n",
            "\n",
            "--- CAUCHY prior ---\n",
            "Selected: [ 58  61  64  66  74  76  80  87  91  96  98  99 103 111 113 115]\n",
            "Test Acc: 0.974 | LogLoss: 0.077 | Mean Entropy: 0.082\n",
            "\n",
            "=== Run 15/20 ===\n",
            "\n",
            "--- GAUSSIAN prior ---\n",
            "Selected: [ 16  58  64  66  76  80  81  91  96  98  99 101 107 113]\n",
            "Test Acc: 0.971 | LogLoss: 0.074 | Mean Entropy: 0.007\n",
            "\n",
            "--- LAPLACE prior ---\n",
            "Selected: [ 16  58  61  64  66  76  80  81  96  98  99 107 113]\n",
            "Test Acc: 0.970 | LogLoss: 0.079 | Mean Entropy: 0.012\n",
            "\n",
            "--- STUDENTT prior ---\n",
            "Selected: [ 16  58  64  66  76  80  81  91  96  98  99 101 107 113]\n",
            "Test Acc: 0.971 | LogLoss: 0.074 | Mean Entropy: 0.007\n",
            "\n",
            "--- CAUCHY prior ---\n",
            "Selected: [ 16  58  61  64  66  76  80  81  96  98  99 107 113]\n",
            "Test Acc: 0.970 | LogLoss: 0.079 | Mean Entropy: 0.012\n",
            "\n",
            "=== Run 16/20 ===\n",
            "\n",
            "--- GAUSSIAN prior ---\n",
            "Selected: [ 16  24  34  61  64  66  76  80  96  98  99 109 113]\n",
            "Test Acc: 0.974 | LogLoss: 0.070 | Mean Entropy: 0.001\n",
            "\n",
            "--- LAPLACE prior ---\n",
            "Selected: [ 16  24  34  61  64  66  76  80  96  98  99 109 113]\n",
            "Test Acc: 0.974 | LogLoss: 0.070 | Mean Entropy: 0.001\n",
            "\n",
            "--- STUDENTT prior ---\n",
            "Selected: [ 16  24  34  61  64  66  76  80  96  98  99 109 113]\n",
            "Test Acc: 0.974 | LogLoss: 0.070 | Mean Entropy: 0.001\n",
            "\n",
            "--- CAUCHY prior ---\n",
            "Selected: [ 16  24  34  61  64  66  76  80  96  98  99 109 113]\n",
            "Test Acc: 0.974 | LogLoss: 0.070 | Mean Entropy: 0.001\n",
            "\n",
            "=== Run 17/20 ===\n",
            "\n",
            "--- GAUSSIAN prior ---\n",
            "Selected: [ 16  24  61  64  66  68  74  76  80  91  95  96  98  99 107 109 113 117]\n",
            "Test Acc: 0.979 | LogLoss: 0.075 | Mean Entropy: 0.201\n",
            "\n",
            "--- LAPLACE prior ---\n",
            "Selected: [ 16  24  61  64  66  74  76  80  95  96  98  99 107 109 113 117]\n",
            "Test Acc: 0.977 | LogLoss: 0.076 | Mean Entropy: 0.182\n",
            "\n",
            "--- STUDENTT prior ---\n",
            "Selected: [ 16  24  61  64  66  68  74  76  80  91  95  96  98  99 107 109 113 117]\n",
            "Test Acc: 0.979 | LogLoss: 0.075 | Mean Entropy: 0.201\n",
            "\n",
            "--- CAUCHY prior ---\n",
            "Selected: [ 16  24  61  64  66  68  74  76  80  91  95  96  98  99 107 109 113 117]\n",
            "Test Acc: 0.979 | LogLoss: 0.075 | Mean Entropy: 0.201\n",
            "\n",
            "=== Run 18/20 ===\n",
            "\n",
            "--- GAUSSIAN prior ---\n",
            "Selected: [ 16  34  61  64  66  76  80  87  96  98  99 107 111 113 115]\n",
            "Test Acc: 0.971 | LogLoss: 0.069 | Mean Entropy: 0.072\n",
            "\n",
            "--- LAPLACE prior ---\n",
            "Selected: [ 16  34  61  64  66  76  80  87  96  98  99 107 111 113 115]\n",
            "Test Acc: 0.971 | LogLoss: 0.069 | Mean Entropy: 0.072\n",
            "\n",
            "--- STUDENTT prior ---\n",
            "Selected: [ 16  34  61  64  66  76  80  87  96  98  99 107 111 113 115]\n",
            "Test Acc: 0.971 | LogLoss: 0.069 | Mean Entropy: 0.072\n",
            "\n",
            "--- CAUCHY prior ---\n",
            "Selected: [ 16  34  61  64  66  76  80  87  96  98  99 107 111 113 115]\n",
            "Test Acc: 0.971 | LogLoss: 0.069 | Mean Entropy: 0.072\n",
            "\n",
            "=== Run 19/20 ===\n",
            "\n",
            "--- GAUSSIAN prior ---\n",
            "Selected: [ 16  34  61  64  66  76  80  87  96  98  99 107 111 113]\n",
            "Test Acc: 0.976 | LogLoss: 0.072 | Mean Entropy: 0.017\n",
            "\n",
            "--- LAPLACE prior ---\n",
            "Selected: [ 16  34  61  64  66  76  80  87  96  98  99 111 113]\n",
            "Test Acc: 0.971 | LogLoss: 0.075 | Mean Entropy: 0.008\n",
            "\n",
            "--- STUDENTT prior ---\n",
            "Selected: [ 16  34  61  64  66  76  80  87  96  98  99 107 111 113]\n",
            "Test Acc: 0.976 | LogLoss: 0.072 | Mean Entropy: 0.017\n",
            "\n",
            "--- CAUCHY prior ---\n",
            "Selected: [ 16  34  61  64  66  76  80  87  96  98  99 111 113]\n",
            "Test Acc: 0.971 | LogLoss: 0.075 | Mean Entropy: 0.008\n",
            "\n",
            "=== Run 20/20 ===\n",
            "\n",
            "--- GAUSSIAN prior ---\n",
            "Selected: [ 16  34  58  61  64  66  76  80  87  96  98  99 107 111 113]\n",
            "Test Acc: 0.980 | LogLoss: 0.064 | Mean Entropy: 0.010\n",
            "\n",
            "--- LAPLACE prior ---\n",
            "Selected: [ 16  34  58  61  64  66  76  80  87  96  98  99 107 111 113]\n",
            "Test Acc: 0.980 | LogLoss: 0.064 | Mean Entropy: 0.010\n",
            "\n",
            "--- STUDENTT prior ---\n",
            "Selected: [ 16  34  58  61  64  66  76  80  81  87  96  98  99 111 113]\n",
            "Test Acc: 0.980 | LogLoss: 0.065 | Mean Entropy: 0.030\n",
            "\n",
            "--- CAUCHY prior ---\n",
            "Selected: [ 16  34  58  61  64  66  76  80  81  87  96  98  99 111 113]\n",
            "Test Acc: 0.980 | LogLoss: 0.065 | Mean Entropy: 0.030\n",
            "\n",
            "✅ Results saved to: /content/drive/MyDrive/PhD/Results/bay_cofe_new/prior_test/tunadromd_dataset_priortest_baycofe.pkl\n"
          ]
        }
      ],
      "source": [
        "### Final Driver small for Prior Test\n",
        "\n",
        "from sklearn.linear_model import LogisticRegression\n",
        "from sklearn.preprocessing import StandardScaler\n",
        "from sklearn.model_selection import train_test_split\n",
        "import numpy as np, pickle, gc\n",
        "\n",
        "save_dir = '/content/drive/MyDrive/PhD/Results/bay_cofe_new/prior_test/'\n",
        "priors = [\"gaussian\", \"laplace\", \"studentt\", \"cauchy\"]\n",
        "results = {m: {\"accuracy\": [], \"entropy\": [], \"slack\": [], \"selected\": [], \"elbo\": []} for m in priors}\n",
        "\n",
        "def _add(method, sel_idx, metrics, estimator=None, slack_val=None):\n",
        "    results[method][\"accuracy\"].append(float(metrics.get(\"accuracy\", np.nan)))\n",
        "    mean_ent = metrics.get(\"mean_entropy\")\n",
        "    results[method][\"entropy\"].append(float(mean_ent) if mean_ent is not None else None)\n",
        "    results[method][\"slack\"].append(None if slack_val is None else float(slack_val))\n",
        "    results[method][\"selected\"].append(np.asarray(sel_idx, dtype=int).tolist())\n",
        "\n",
        "    if estimator is not None and hasattr(estimator, \"elbo_vals_\"):\n",
        "        elbo_vals = getattr(estimator, \"elbo_vals_\", None)\n",
        "        results[method][\"elbo\"].append(list(np.ravel(elbo_vals)) if elbo_vals is not None else None)\n",
        "    else:\n",
        "        results[method][\"elbo\"].append(None)\n",
        "\n",
        "\n",
        "# ------------------- MAIN EXPERIMENT ------------------------\n",
        "num_runs = 20\n",
        "X, y = get_tunadromd_XY() #get_phishing_XY() #get_breast_cancer_XY()\n",
        "X = StandardScaler().fit_transform(X)\n",
        "\n",
        "for i in range(num_runs):\n",
        "    X_tr, X_te, y_tr, y_te = train_test_split(X, y, test_size=0.5, stratify=y)\n",
        "    print(f\"\\n=== Run {i+1}/{num_runs} ===\")\n",
        "\n",
        "    for prior in priors:\n",
        "        print(f\"\\n--- {prior.upper()} prior ---\")\n",
        "\n",
        "        bayes_logit = BayesianLogisticPyMC(\n",
        "            prior_std=1.0, prior_type=prior, fit_intercept=True,\n",
        "            penalize_intercept=False, advi_iters=15000, draws=3000\n",
        "        )\n",
        "        freq_logit = LogisticRegression(\n",
        "            penalty='l2', solver='liblinear', C=1.0, max_iter=2000, tol=1e-6\n",
        "        )\n",
        "\n",
        "        sel_idx, metrics = evaluate_feature_selection_method_cls(\n",
        "            baycofe_select_features_cls,\n",
        "            X_tr, y_tr, X_te, y_te,\n",
        "            selector_params={'estimator': bayes_logit, 'evaluator': freq_logit, 'slack': 0.0454}\n",
        "        )\n",
        "\n",
        "        print(f\"Selected: {sel_idx}\")\n",
        "        print(f\"Test Acc: {metrics['accuracy']:.3f} | LogLoss: {metrics['log_loss']:.3f} | Mean Entropy: {metrics['mean_entropy']:.3f}\")\n",
        "\n",
        "        _add(prior, sel_idx, metrics, estimator=bayes_logit, slack_val=0.0454)\n",
        "\n",
        "        del bayes_logit, freq_logit\n",
        "        gc.collect()\n",
        "\n",
        "# ------------------- SAVE RESULTS ---------------------------\n",
        "out_file = save_dir + \"tunadromd_dataset_priortest_baycofe.pkl\"\n",
        "with open(out_file, \"wb\") as f:\n",
        "    pickle.dump(results, f, protocol=pickle.HIGHEST_PROTOCOL)\n",
        "\n",
        "print(f\"\\n✅ Results saved to: {out_file}\")"
      ]
    },
    {
      "cell_type": "code",
      "execution_count": null,
      "metadata": {
        "colab": {
          "base_uri": "https://localhost:8080/"
        },
        "id": "YQY0FhPzBSj6",
        "outputId": "2b760c0d-04e1-4735-a308-830e70e2276a"
      },
      "outputs": [
        {
          "name": "stderr",
          "output_type": "stream",
          "text": [
            "[I 2025-10-01 14:29:40,337] A new study created in memory with name: no-name-355c4780-b768-4734-bb19-0d0037a7a4eb\n"
          ]
        },
        {
          "name": "stdout",
          "output_type": "stream",
          "text": [
            "Removed due to correlation: ['shortining_service', 'favicon']\n",
            "Shape of X: (11055, 28)\n",
            "Shape of y: (11055,)\n"
          ]
        },
        {
          "name": "stderr",
          "output_type": "stream",
          "text": [
            "[I 2025-10-01 14:31:17,781] Trial 0 finished with values: [-0.9192629285121331, 0.027115000295247386] and parameters: {'slack': 0.012285916427548801}.\n",
            "[I 2025-10-01 14:32:54,975] Trial 1 finished with values: [-0.9172534476743613, 0.0] and parameters: {'slack': 0.0007218018732952586}.\n",
            "[I 2025-10-01 14:34:32,443] Trial 2 finished with values: [-0.9172534476743613, 0.0] and parameters: {'slack': 0.0004792414358623592}.\n",
            "[I 2025-10-01 14:35:55,989] Trial 3 finished with values: [-0.9192629285121331, 0.022633901877070352] and parameters: {'slack': 0.004507588967315677}.\n",
            "[I 2025-10-01 14:37:33,367] Trial 4 finished with values: [-0.9192629285121331, 0.03158991976203176] and parameters: {'slack': 0.014401472828461642}.\n",
            "[I 2025-10-01 14:39:10,559] Trial 5 finished with values: [-0.9172534476743613, 0.0] and parameters: {'slack': 0.0018591711878786364}.\n",
            "[I 2025-10-01 14:40:35,684] Trial 6 finished with values: [-0.920199184945679, 0.041874834683367224] and parameters: {'slack': 0.08755734725056502}.\n",
            "[I 2025-10-01 14:42:05,603] Trial 7 finished with values: [-0.9192629285121331, 0.032631136390967444] and parameters: {'slack': 0.01133676686701445}.\n"
          ]
        },
        {
          "name": "stdout",
          "output_type": "stream",
          "text": [
            "laplace  Knee slack: 0.004507588967315677\n"
          ]
        },
        {
          "name": "stderr",
          "output_type": "stream",
          "text": [
            "[I 2025-10-01 14:43:16,602] A new study created in memory with name: no-name-1c7cec0c-f628-4f91-be33-2a0071e31d06\n"
          ]
        },
        {
          "name": "stdout",
          "output_type": "stream",
          "text": [
            "BayCoFE Selected: [ 0  4  5  6  9 11 12 13 16 22 23 25 26]\n",
            "Test Acc: 0.9247467438494935 LogLoss: 0.18614194464054123 Mean Entropy: 0.0\n"
          ]
        },
        {
          "name": "stderr",
          "output_type": "stream",
          "text": [
            "[I 2025-10-01 14:44:56,277] Trial 0 finished with values: [-0.9192629285121331, 0.027115000295247386] and parameters: {'slack': 0.012285916427548801}.\n",
            "[I 2025-10-01 14:46:35,954] Trial 1 finished with values: [-0.9172534476743613, 0.0] and parameters: {'slack': 0.0007218018732952586}.\n",
            "[I 2025-10-01 14:48:17,559] Trial 2 finished with values: [-0.9172534476743613, 0.0] and parameters: {'slack': 0.0004792414358623592}.\n",
            "[I 2025-10-01 14:49:43,601] Trial 3 finished with values: [-0.9192629285121331, 0.022633901877070352] and parameters: {'slack': 0.004507588967315677}.\n",
            "[I 2025-10-01 14:51:09,955] Trial 4 finished with values: [-0.9199768233739017, 0.03158991976203176] and parameters: {'slack': 0.014401472828461642}.\n",
            "[I 2025-10-01 14:52:49,033] Trial 5 finished with values: [-0.9172534476743613, 0.0] and parameters: {'slack': 0.0018591711878786364}.\n",
            "[I 2025-10-01 14:54:16,831] Trial 6 finished with values: [-0.9225805922577341, 0.07056393470887601] and parameters: {'slack': 0.08755734725056502}.\n",
            "[I 2025-10-01 14:55:56,337] Trial 7 finished with values: [-0.9192629285121331, 0.032631136390967444] and parameters: {'slack': 0.01133676686701445}.\n"
          ]
        },
        {
          "name": "stdout",
          "output_type": "stream",
          "text": [
            "studentt  Knee slack: 0.014401472828461642\n"
          ]
        },
        {
          "name": "stderr",
          "output_type": "stream",
          "text": [
            "[I 2025-10-01 14:57:09,529] A new study created in memory with name: no-name-ca73955d-09ad-47ca-80fc-c19ffbdab158\n"
          ]
        },
        {
          "name": "stdout",
          "output_type": "stream",
          "text": [
            "BayCoFE Selected: [ 0  4  5  6  9 10 11 12 13 16 22 23 25 26]\n",
            "Test Acc: 0.9274602026049205 LogLoss: 0.1846344976539631 Mean Entropy: 0.0\n"
          ]
        },
        {
          "name": "stderr",
          "output_type": "stream",
          "text": [
            "[I 2025-10-01 14:58:46,770] Trial 0 finished with values: [-0.9192629285121331, 0.027115000295247386] and parameters: {'slack': 0.012285916427548801}.\n",
            "[I 2025-10-01 15:00:24,511] Trial 1 finished with values: [-0.9172534476743613, 0.0] and parameters: {'slack': 0.0007218018732952586}.\n",
            "[I 2025-10-01 15:02:01,637] Trial 2 finished with values: [-0.9172534476743613, 0.0] and parameters: {'slack': 0.0004792414358623592}.\n",
            "[I 2025-10-01 15:03:25,515] Trial 3 finished with values: [-0.9192629285121331, 0.022633901877070352] and parameters: {'slack': 0.004507588967315677}.\n",
            "[I 2025-10-01 15:04:49,825] Trial 4 finished with values: [-0.9199768233739017, 0.03158991976203176] and parameters: {'slack': 0.014401472828461642}.\n",
            "[I 2025-10-01 15:06:27,069] Trial 5 finished with values: [-0.9172534476743613, 0.0] and parameters: {'slack': 0.0018591711878786364}.\n",
            "[I 2025-10-01 15:07:45,947] Trial 6 finished with values: [-0.9225805922577341, 0.07056393470887601] and parameters: {'slack': 0.08755734725056502}.\n",
            "[I 2025-10-01 15:09:23,643] Trial 7 finished with values: [-0.9192629285121331, 0.032631136390967444] and parameters: {'slack': 0.01133676686701445}.\n"
          ]
        },
        {
          "name": "stdout",
          "output_type": "stream",
          "text": [
            "cauchy  Knee slack: 0.014401472828461642\n"
          ]
        },
        {
          "name": "stderr",
          "output_type": "stream",
          "text": [
            "[I 2025-10-01 15:10:36,390] A new study created in memory with name: no-name-aa1d8411-6478-4de6-9f33-6ebdd4d36ee2\n"
          ]
        },
        {
          "name": "stdout",
          "output_type": "stream",
          "text": [
            "BayCoFE Selected: [ 0  4  5  6  9 10 11 12 13 16 22 23 25 26]\n",
            "Test Acc: 0.9274602026049205 LogLoss: 0.1846344976539631 Mean Entropy: 0.0\n"
          ]
        },
        {
          "name": "stderr",
          "output_type": "stream",
          "text": [
            "[I 2025-10-01 15:12:01,249] Trial 0 finished with values: [-0.9163231321116898, 0.0] and parameters: {'slack': 0.012285916427548801}.\n",
            "[I 2025-10-01 15:13:11,713] Trial 1 finished with values: [-0.9150844946355239, 0.0] and parameters: {'slack': 0.0007218018732952586}.\n",
            "[I 2025-10-01 15:14:22,742] Trial 2 finished with values: [-0.9150844946355239, 0.0] and parameters: {'slack': 0.0004792414358623592}.\n",
            "[I 2025-10-01 15:15:41,135] Trial 3 finished with values: [-0.9150844946355239, 0.0] and parameters: {'slack': 0.004507588967315677}.\n",
            "[I 2025-10-01 15:17:05,912] Trial 4 finished with values: [-0.9163231321116898, 0.0] and parameters: {'slack': 0.014401472828461642}.\n",
            "[I 2025-10-01 15:18:23,452] Trial 5 finished with values: [-0.9150844946355239, 0.0] and parameters: {'slack': 0.0018591711878786364}.\n",
            "[I 2025-10-01 15:19:41,999] Trial 6 finished with values: [-0.9176431246444128, 0.07020909350283636] and parameters: {'slack': 0.08755734725056502}.\n",
            "[I 2025-10-01 15:21:06,831] Trial 7 finished with values: [-0.9163231321116898, 0.0] and parameters: {'slack': 0.01133676686701445}.\n"
          ]
        },
        {
          "name": "stdout",
          "output_type": "stream",
          "text": [
            "laplace  Knee slack: 0.012285916427548801\n"
          ]
        },
        {
          "name": "stderr",
          "output_type": "stream",
          "text": [
            "[I 2025-10-01 15:22:19,501] A new study created in memory with name: no-name-d3a7a9bd-0487-4d39-be11-7b5cb6bf09f3\n"
          ]
        },
        {
          "name": "stdout",
          "output_type": "stream",
          "text": [
            "BayCoFE Selected: [ 0  4  5  6  9 10 11 12 13 16 22 23 25 26]\n",
            "Test Acc: 0.9325253256150506 LogLoss: 0.18384488064392934 Mean Entropy: 0.0\n"
          ]
        },
        {
          "name": "stderr",
          "output_type": "stream",
          "text": [
            "[I 2025-10-01 15:23:46,440] Trial 0 finished with values: [-0.9163231321116898, 0.0] and parameters: {'slack': 0.012285916427548801}.\n",
            "[I 2025-10-01 15:25:07,150] Trial 1 finished with values: [-0.9150844946355239, 0.0] and parameters: {'slack': 0.0007218018732952586}.\n",
            "[I 2025-10-01 15:26:19,456] Trial 2 finished with values: [-0.9150844946355239, 0.0] and parameters: {'slack': 0.0004792414358623592}.\n",
            "[I 2025-10-01 15:27:39,465] Trial 3 finished with values: [-0.9150844946355239, 0.0] and parameters: {'slack': 0.004507588967315677}.\n",
            "[I 2025-10-01 15:29:06,114] Trial 4 finished with values: [-0.9163231321116898, 0.0] and parameters: {'slack': 0.014401472828461642}.\n",
            "[I 2025-10-01 15:30:26,051] Trial 5 finished with values: [-0.9150844946355239, 0.0] and parameters: {'slack': 0.0018591711878786364}.\n",
            "[I 2025-10-01 15:31:53,183] Trial 6 finished with values: [-0.9176431246444128, 0.07020909350283636] and parameters: {'slack': 0.08755734725056502}.\n",
            "[I 2025-10-01 15:33:20,009] Trial 7 finished with values: [-0.9163231321116898, 0.0] and parameters: {'slack': 0.01133676686701445}.\n"
          ]
        },
        {
          "name": "stdout",
          "output_type": "stream",
          "text": [
            "studentt  Knee slack: 0.012285916427548801\n"
          ]
        },
        {
          "name": "stderr",
          "output_type": "stream",
          "text": [
            "[I 2025-10-01 15:34:33,594] A new study created in memory with name: no-name-a3419383-1009-4400-a357-80b43cfd36af\n"
          ]
        },
        {
          "name": "stdout",
          "output_type": "stream",
          "text": [
            "BayCoFE Selected: [ 0  4  5  6  9 10 11 12 13 16 22 23 25 26]\n",
            "Test Acc: 0.9325253256150506 LogLoss: 0.18384488064392934 Mean Entropy: 0.0\n"
          ]
        },
        {
          "name": "stderr",
          "output_type": "stream",
          "text": [
            "[I 2025-10-01 15:36:01,636] Trial 0 finished with values: [-0.9163231321116898, 0.0] and parameters: {'slack': 0.012285916427548801}.\n",
            "[I 2025-10-01 15:37:20,983] Trial 1 finished with values: [-0.9150844946355239, 0.0] and parameters: {'slack': 0.0007218018732952586}.\n",
            "[I 2025-10-01 15:38:33,742] Trial 2 finished with values: [-0.9150844946355239, 0.0] and parameters: {'slack': 0.0004792414358623592}.\n",
            "[I 2025-10-01 15:39:53,767] Trial 3 finished with values: [-0.9150844946355239, 0.0] and parameters: {'slack': 0.004507588967315677}.\n",
            "[I 2025-10-01 15:41:18,374] Trial 4 finished with values: [-0.9163231321116898, 0.0] and parameters: {'slack': 0.014401472828461642}.\n",
            "[I 2025-10-01 15:42:37,151] Trial 5 finished with values: [-0.9150844946355239, 0.0] and parameters: {'slack': 0.0018591711878786364}.\n",
            "[I 2025-10-01 15:44:04,153] Trial 6 finished with values: [-0.9176431246444128, 0.07020909350283636] and parameters: {'slack': 0.08755734725056502}.\n",
            "[I 2025-10-01 15:45:31,054] Trial 7 finished with values: [-0.9163231321116898, 0.0] and parameters: {'slack': 0.01133676686701445}.\n"
          ]
        },
        {
          "name": "stdout",
          "output_type": "stream",
          "text": [
            "cauchy  Knee slack: 0.012285916427548801\n"
          ]
        },
        {
          "name": "stderr",
          "output_type": "stream",
          "text": [
            "[I 2025-10-01 15:46:43,740] A new study created in memory with name: no-name-4d60afa1-7005-4ae8-8026-a2e273182d5c\n"
          ]
        },
        {
          "name": "stdout",
          "output_type": "stream",
          "text": [
            "BayCoFE Selected: [ 0  4  5  6  9 10 11 12 13 16 22 23 25 26]\n",
            "Test Acc: 0.9325253256150506 LogLoss: 0.18384488064392934 Mean Entropy: 0.0\n"
          ]
        },
        {
          "name": "stderr",
          "output_type": "stream",
          "text": [
            "[I 2025-10-01 15:48:16,456] Trial 0 finished with values: [-0.9252127207450932, 0.0] and parameters: {'slack': 0.012285916427548801}.\n",
            "[I 2025-10-01 15:49:48,410] Trial 1 finished with values: [-0.9236073320910797, 0.0] and parameters: {'slack': 0.0007218018732952586}.\n",
            "[I 2025-10-01 15:51:19,658] Trial 2 finished with values: [-0.9236073320910797, 0.0] and parameters: {'slack': 0.0004792414358623592}.\n",
            "[I 2025-10-01 15:53:12,821] Trial 3 finished with values: [-0.9236073320910797, 0.0] and parameters: {'slack': 0.004507588967315677}.\n",
            "[I 2025-10-01 15:54:37,362] Trial 4 finished with values: [-0.9252127207450932, 0.0] and parameters: {'slack': 0.014401472828461642}.\n",
            "[I 2025-10-01 15:56:23,362] Trial 5 finished with values: [-0.9236073320910797, 0.0] and parameters: {'slack': 0.0018591711878786364}.\n",
            "[I 2025-10-01 15:57:49,961] Trial 6 finished with values: [-0.9293736463444384, 0.004583753486683423] and parameters: {'slack': 0.08755734725056502}.\n",
            "[I 2025-10-01 15:59:14,213] Trial 7 finished with values: [-0.9252127207450932, 0.0019080610820885824] and parameters: {'slack': 0.01133676686701445}.\n"
          ]
        },
        {
          "name": "stdout",
          "output_type": "stream",
          "text": [
            "laplace  Knee slack: 0.012285916427548801\n"
          ]
        },
        {
          "name": "stderr",
          "output_type": "stream",
          "text": [
            "[I 2025-10-01 16:00:28,340] A new study created in memory with name: no-name-b6774e18-3102-49b7-a649-23808089845c\n"
          ]
        },
        {
          "name": "stdout",
          "output_type": "stream",
          "text": [
            "BayCoFE Selected: [ 0  4  5  6  9 10 11 12 13 15 16 22 23 25 26]\n",
            "Test Acc: 0.9223950795947902 LogLoss: 0.18892409024255166 Mean Entropy: 0.06440117265202244\n"
          ]
        },
        {
          "name": "stderr",
          "output_type": "stream",
          "text": [
            "[I 2025-10-01 16:02:01,829] Trial 0 finished with values: [-0.9252127207450932, 0.0] and parameters: {'slack': 0.012285916427548801}.\n",
            "[I 2025-10-01 16:03:41,394] Trial 1 finished with values: [-0.9236073320910797, 0.0] and parameters: {'slack': 0.0007218018732952586}.\n",
            "[I 2025-10-01 16:05:13,010] Trial 2 finished with values: [-0.9236073320910797, 0.0] and parameters: {'slack': 0.0004792414358623592}.\n",
            "[I 2025-10-01 16:07:05,181] Trial 3 finished with values: [-0.9236073320910797, 0.0] and parameters: {'slack': 0.004507588967315677}.\n",
            "[I 2025-10-01 16:08:39,132] Trial 4 finished with values: [-0.9252127207450932, 0.0] and parameters: {'slack': 0.014401472828461642}.\n",
            "[I 2025-10-01 16:10:25,941] Trial 5 finished with values: [-0.9236073320910797, 0.0] and parameters: {'slack': 0.0018591711878786364}.\n",
            "[I 2025-10-01 16:11:54,107] Trial 6 finished with values: [-0.9293736463444384, 0.004583753486683423] and parameters: {'slack': 0.08755734725056502}.\n",
            "[I 2025-10-01 16:13:27,144] Trial 7 finished with values: [-0.9252127207450932, 0.0019080610820885824] and parameters: {'slack': 0.01133676686701445}.\n"
          ]
        },
        {
          "name": "stdout",
          "output_type": "stream",
          "text": [
            "studentt  Knee slack: 0.012285916427548801\n"
          ]
        },
        {
          "name": "stderr",
          "output_type": "stream",
          "text": [
            "[I 2025-10-01 16:14:42,823] A new study created in memory with name: no-name-604b3a9c-9ff1-462f-ba3b-c2ae1b3c4366\n"
          ]
        },
        {
          "name": "stdout",
          "output_type": "stream",
          "text": [
            "BayCoFE Selected: [ 0  4  5  6  9 10 11 12 13 15 16 22 23 25 26]\n",
            "Test Acc: 0.9223950795947902 LogLoss: 0.18892409024255166 Mean Entropy: 0.06440117265202244\n"
          ]
        },
        {
          "name": "stderr",
          "output_type": "stream",
          "text": [
            "[I 2025-10-01 16:16:15,711] Trial 0 finished with values: [-0.9252127207450932, 0.0] and parameters: {'slack': 0.012285916427548801}.\n",
            "[I 2025-10-01 16:17:47,496] Trial 1 finished with values: [-0.9236073320910797, 0.0] and parameters: {'slack': 0.0007218018732952586}.\n",
            "[I 2025-10-01 16:19:20,071] Trial 2 finished with values: [-0.9236073320910797, 0.0] and parameters: {'slack': 0.0004792414358623592}.\n",
            "[I 2025-10-01 16:21:11,145] Trial 3 finished with values: [-0.9236073320910797, 0.0] and parameters: {'slack': 0.004507588967315677}.\n",
            "[I 2025-10-01 16:22:42,435] Trial 4 finished with values: [-0.9252127207450932, 0.0] and parameters: {'slack': 0.014401472828461642}.\n",
            "[I 2025-10-01 16:24:26,499] Trial 5 finished with values: [-0.9236073320910797, 0.0] and parameters: {'slack': 0.0018591711878786364}.\n",
            "[I 2025-10-01 16:25:51,864] Trial 6 finished with values: [-0.9293736463444384, 0.004583753486683423] and parameters: {'slack': 0.08755734725056502}.\n",
            "[I 2025-10-01 16:27:16,020] Trial 7 finished with values: [-0.9252127207450932, 0.0019080610820885824] and parameters: {'slack': 0.01133676686701445}.\n"
          ]
        },
        {
          "name": "stdout",
          "output_type": "stream",
          "text": [
            "cauchy  Knee slack: 0.012285916427548801\n"
          ]
        },
        {
          "name": "stderr",
          "output_type": "stream",
          "text": [
            "[I 2025-10-01 16:28:30,215] A new study created in memory with name: no-name-68417e96-c53c-417c-8d24-0529c1e0793c\n"
          ]
        },
        {
          "name": "stdout",
          "output_type": "stream",
          "text": [
            "BayCoFE Selected: [ 0  4  5  6  9 10 11 12 13 15 16 22 23 25 26]\n",
            "Test Acc: 0.9223950795947902 LogLoss: 0.18892409024255166 Mean Entropy: 0.06440117265202244\n"
          ]
        },
        {
          "name": "stderr",
          "output_type": "stream",
          "text": [
            "[I 2025-10-01 16:29:48,075] Trial 0 finished with values: [-0.9196603637688623, 0.002733714174033418] and parameters: {'slack': 0.012285916427548801}.\n",
            "[I 2025-10-01 16:31:12,639] Trial 1 finished with values: [-0.9166622209865081, 0.0] and parameters: {'slack': 0.0007218018732952586}.\n",
            "[I 2025-10-01 16:32:36,443] Trial 2 finished with values: [-0.9166622209865081, 0.0] and parameters: {'slack': 0.0004792414358623592}.\n",
            "[I 2025-10-01 16:33:53,834] Trial 3 finished with values: [-0.9196603637688623, 0.001323787985057363] and parameters: {'slack': 0.004507588967315677}.\n",
            "[I 2025-10-01 16:35:11,796] Trial 4 finished with values: [-0.9218124124367704, 0.001466393356714416] and parameters: {'slack': 0.014401472828461642}.\n",
            "[I 2025-10-01 16:36:22,960] Trial 5 finished with values: [-0.9196603637688623, 0.0] and parameters: {'slack': 0.0018591711878786364}.\n",
            "[I 2025-10-01 16:37:47,889] Trial 6 finished with values: [-0.9219602738253739, 0.03750806996425452] and parameters: {'slack': 0.08755734725056502}.\n",
            "[I 2025-10-01 16:39:06,045] Trial 7 finished with values: [-0.9196603637688623, 0.0] and parameters: {'slack': 0.01133676686701445}.\n"
          ]
        },
        {
          "name": "stdout",
          "output_type": "stream",
          "text": [
            "laplace  Knee slack: 0.014401472828461642\n"
          ]
        },
        {
          "name": "stderr",
          "output_type": "stream",
          "text": [
            "[I 2025-10-01 16:40:18,397] A new study created in memory with name: no-name-d80385cf-9f8e-4995-8f46-8bdd5dcad872\n"
          ]
        },
        {
          "name": "stdout",
          "output_type": "stream",
          "text": [
            "BayCoFE Selected: [ 0  4  5  6  9 10 11 12 13 16 22 23 25 26]\n",
            "Test Acc: 0.9276410998552822 LogLoss: 0.18897754433025582 Mean Entropy: 0.0\n"
          ]
        },
        {
          "name": "stderr",
          "output_type": "stream",
          "text": [
            "[I 2025-10-01 16:41:37,807] Trial 0 finished with values: [-0.9196603637688623, 0.002733714174033418] and parameters: {'slack': 0.012285916427548801}.\n",
            "[I 2025-10-01 16:42:57,442] Trial 1 finished with values: [-0.9181482948705806, 0.0] and parameters: {'slack': 0.0007218018732952586}.\n",
            "[I 2025-10-01 16:44:23,360] Trial 2 finished with values: [-0.9166622209865081, 0.0] and parameters: {'slack': 0.0004792414358623592}.\n",
            "[I 2025-10-01 16:45:42,533] Trial 3 finished with values: [-0.9196603637688623, 0.001323787985057363] and parameters: {'slack': 0.004507588967315677}.\n",
            "[I 2025-10-01 16:47:03,572] Trial 4 finished with values: [-0.9218124124367704, 0.001466393356714416] and parameters: {'slack': 0.014401472828461642}.\n",
            "[I 2025-10-01 16:48:23,607] Trial 5 finished with values: [-0.9196603637688623, 0.0] and parameters: {'slack': 0.0018591711878786364}.\n",
            "[I 2025-10-01 16:49:51,391] Trial 6 finished with values: [-0.9223211535643208, 0.04860728724456339] and parameters: {'slack': 0.08755734725056502}.\n",
            "[I 2025-10-01 16:51:11,562] Trial 7 finished with values: [-0.9196603637688623, 0.0] and parameters: {'slack': 0.01133676686701445}.\n"
          ]
        },
        {
          "name": "stdout",
          "output_type": "stream",
          "text": [
            "studentt  Knee slack: 0.014401472828461642\n"
          ]
        },
        {
          "name": "stderr",
          "output_type": "stream",
          "text": [
            "[I 2025-10-01 16:52:24,196] A new study created in memory with name: no-name-a799e1b8-9db4-448e-b8fe-769a323d59af\n"
          ]
        },
        {
          "name": "stdout",
          "output_type": "stream",
          "text": [
            "BayCoFE Selected: [ 0  4  5  6  9 10 11 12 13 16 22 23 25 26]\n",
            "Test Acc: 0.9276410998552822 LogLoss: 0.18897754433025582 Mean Entropy: 0.0\n"
          ]
        },
        {
          "name": "stderr",
          "output_type": "stream",
          "text": [
            "[I 2025-10-01 16:53:42,967] Trial 0 finished with values: [-0.9196603637688623, 0.002733714174033418] and parameters: {'slack': 0.012285916427548801}.\n",
            "[I 2025-10-01 16:55:00,790] Trial 1 finished with values: [-0.9181482948705806, 0.0] and parameters: {'slack': 0.0007218018732952586}.\n",
            "[I 2025-10-01 16:56:24,920] Trial 2 finished with values: [-0.9166622209865081, 0.0] and parameters: {'slack': 0.0004792414358623592}.\n",
            "[I 2025-10-01 16:57:44,474] Trial 3 finished with values: [-0.9196603637688623, 0.001323787985057363] and parameters: {'slack': 0.004507588967315677}.\n",
            "[I 2025-10-01 16:59:02,793] Trial 4 finished with values: [-0.9218124124367704, 0.001466393356714416] and parameters: {'slack': 0.014401472828461642}.\n",
            "[I 2025-10-01 17:00:21,041] Trial 5 finished with values: [-0.9196603637688623, 0.0] and parameters: {'slack': 0.0018591711878786364}.\n",
            "[I 2025-10-01 17:01:46,921] Trial 6 finished with values: [-0.9223211535643208, 0.04860728724456339] and parameters: {'slack': 0.08755734725056502}.\n",
            "[I 2025-10-01 17:03:05,278] Trial 7 finished with values: [-0.9196603637688623, 0.0] and parameters: {'slack': 0.01133676686701445}.\n"
          ]
        },
        {
          "name": "stdout",
          "output_type": "stream",
          "text": [
            "cauchy  Knee slack: 0.014401472828461642\n"
          ]
        },
        {
          "name": "stderr",
          "output_type": "stream",
          "text": [
            "[I 2025-10-01 17:04:17,498] A new study created in memory with name: no-name-c14b4569-0e96-4711-bb7f-29ff681515b3\n"
          ]
        },
        {
          "name": "stdout",
          "output_type": "stream",
          "text": [
            "BayCoFE Selected: [ 0  4  5  6  9 10 11 12 13 16 22 23 25 26]\n",
            "Test Acc: 0.9276410998552822 LogLoss: 0.18897754433025582 Mean Entropy: 0.0\n"
          ]
        },
        {
          "name": "stderr",
          "output_type": "stream",
          "text": [
            "[I 2025-10-01 17:05:34,879] Trial 0 finished with values: [-0.921129441083359, 0.022112098222768026] and parameters: {'slack': 0.012285916427548801}.\n",
            "[I 2025-10-01 17:07:18,710] Trial 1 finished with values: [-0.9170449293842425, 0.0] and parameters: {'slack': 0.0007218018732952586}.\n",
            "[I 2025-10-01 17:08:55,967] Trial 2 finished with values: [-0.9170449293842425, 0.0] and parameters: {'slack': 0.0004792414358623592}.\n",
            "[I 2025-10-01 17:10:13,683] Trial 3 finished with values: [-0.921129441083359, 0.01707758642949558] and parameters: {'slack': 0.004507588967315677}.\n",
            "[I 2025-10-01 17:11:31,018] Trial 4 finished with values: [-0.921129441083359, 0.020931957401638328] and parameters: {'slack': 0.014401472828461642}.\n",
            "[I 2025-10-01 17:13:01,525] Trial 5 finished with values: [-0.9199009088460348, 0.0] and parameters: {'slack': 0.0018591711878786364}.\n",
            "[I 2025-10-01 17:14:19,914] Trial 6 finished with values: [-0.9260268597048301, 0.0070204514000594565] and parameters: {'slack': 0.08755734725056502}.\n",
            "[I 2025-10-01 17:15:37,794] Trial 7 finished with values: [-0.921129441083359, 0.019337144181311924] and parameters: {'slack': 0.01133676686701445}.\n"
          ]
        },
        {
          "name": "stdout",
          "output_type": "stream",
          "text": [
            "laplace  Knee slack: 0.0018591711878786364\n"
          ]
        },
        {
          "name": "stderr",
          "output_type": "stream",
          "text": [
            "[I 2025-10-01 17:16:47,091] A new study created in memory with name: no-name-54f2f7a8-4d4b-4d29-944b-0bf9841ceb22\n"
          ]
        },
        {
          "name": "stdout",
          "output_type": "stream",
          "text": [
            "BayCoFE Selected: [ 0  4  5  6  9 11 12 13 22 23 25 26]\n",
            "Test Acc: 0.920767004341534 LogLoss: 0.19482734761256637 Mean Entropy: 0.0\n"
          ]
        },
        {
          "name": "stderr",
          "output_type": "stream",
          "text": [
            "[I 2025-10-01 17:18:06,535] Trial 0 finished with values: [-0.9218428892401673, 0.031449807082585365] and parameters: {'slack': 0.012285916427548801}.\n",
            "[I 2025-10-01 17:19:40,340] Trial 1 finished with values: [-0.9199009088460348, 0.0] and parameters: {'slack': 0.0007218018732952586}.\n",
            "[I 2025-10-01 17:21:26,667] Trial 2 finished with values: [-0.9170449293842425, 0.0] and parameters: {'slack': 0.0004792414358623592}.\n",
            "[I 2025-10-01 17:22:46,887] Trial 3 finished with values: [-0.921129441083359, 0.01707758642949558] and parameters: {'slack': 0.004507588967315677}.\n",
            "[I 2025-10-01 17:24:06,892] Trial 4 finished with values: [-0.9218428892401673, 0.03371591760623136] and parameters: {'slack': 0.014401472828461642}.\n",
            "[I 2025-10-01 17:25:25,506] Trial 5 finished with values: [-0.922276887387047, 0.0] and parameters: {'slack': 0.0018591711878786364}.\n",
            "[I 2025-10-01 17:26:51,826] Trial 6 finished with values: [-0.9260268597048301, 0.0070204514000594565] and parameters: {'slack': 0.08755734725056502}.\n",
            "[I 2025-10-01 17:28:11,173] Trial 7 finished with values: [-0.9218428892401673, 0.030378256521731775] and parameters: {'slack': 0.01133676686701445}.\n"
          ]
        },
        {
          "name": "stdout",
          "output_type": "stream",
          "text": [
            "studentt  Knee slack: 0.0018591711878786364\n"
          ]
        },
        {
          "name": "stderr",
          "output_type": "stream",
          "text": [
            "[I 2025-10-01 17:29:32,360] A new study created in memory with name: no-name-234b90fe-234a-4d73-8215-a3d84b4b2a05\n"
          ]
        },
        {
          "name": "stdout",
          "output_type": "stream",
          "text": [
            "BayCoFE Selected: [ 0  4  5  6  9 11 12 13 22 23 25 26]\n",
            "Test Acc: 0.920767004341534 LogLoss: 0.19482734761256637 Mean Entropy: 0.0\n"
          ]
        },
        {
          "name": "stderr",
          "output_type": "stream",
          "text": [
            "[I 2025-10-01 17:30:50,145] Trial 0 finished with values: [-0.9218428892401673, 0.031449807082585365] and parameters: {'slack': 0.012285916427548801}.\n",
            "[I 2025-10-01 17:32:21,241] Trial 1 finished with values: [-0.9199009088460348, 0.0] and parameters: {'slack': 0.0007218018732952586}.\n",
            "[I 2025-10-01 17:33:58,670] Trial 2 finished with values: [-0.9170449293842425, 0.0] and parameters: {'slack': 0.0004792414358623592}.\n",
            "[I 2025-10-01 17:35:16,577] Trial 3 finished with values: [-0.921129441083359, 0.01707758642949558] and parameters: {'slack': 0.004507588967315677}.\n",
            "[I 2025-10-01 17:36:34,961] Trial 4 finished with values: [-0.9218428892401673, 0.03371591760623136] and parameters: {'slack': 0.014401472828461642}.\n",
            "[I 2025-10-01 17:38:05,024] Trial 5 finished with values: [-0.9199009088460348, 0.0] and parameters: {'slack': 0.0018591711878786364}.\n",
            "[I 2025-10-01 17:39:30,131] Trial 6 finished with values: [-0.9260268597048301, 0.0070204514000594565] and parameters: {'slack': 0.08755734725056502}.\n",
            "[I 2025-10-01 17:40:47,598] Trial 7 finished with values: [-0.921129441083359, 0.019337144181311924] and parameters: {'slack': 0.01133676686701445}.\n"
          ]
        },
        {
          "name": "stdout",
          "output_type": "stream",
          "text": [
            "cauchy  Knee slack: 0.0007218018732952586\n"
          ]
        },
        {
          "name": "stderr",
          "output_type": "stream",
          "text": [
            "[I 2025-10-01 17:41:56,831] A new study created in memory with name: no-name-4869909b-a0d4-4485-843e-4a100fce5220\n"
          ]
        },
        {
          "name": "stdout",
          "output_type": "stream",
          "text": [
            "BayCoFE Selected: [ 0  4  5  6  9 11 12 13 22 23 25 26]\n",
            "Test Acc: 0.920767004341534 LogLoss: 0.19482734761256637 Mean Entropy: 0.0\n"
          ]
        },
        {
          "name": "stderr",
          "output_type": "stream",
          "text": [
            "[I 2025-10-01 17:43:21,039] Trial 0 finished with values: [-0.9182984463405304, 0.02251145661459231] and parameters: {'slack': 0.012285916427548801}.\n",
            "[I 2025-10-01 17:44:45,107] Trial 1 finished with values: [-0.9171914417984646, 0.03689712271743173] and parameters: {'slack': 0.0007218018732952586}.\n",
            "[I 2025-10-01 17:46:02,583] Trial 2 finished with values: [-0.9171914417984646, 0.03926363185418112] and parameters: {'slack': 0.0004792414358623592}.\n",
            "[I 2025-10-01 17:47:19,667] Trial 3 finished with values: [-0.9182984463405304, 0.017376259998634267] and parameters: {'slack': 0.004507588967315677}.\n",
            "[I 2025-10-01 17:48:50,908] Trial 4 finished with values: [-0.9182984463405304, 0.007610241701121277] and parameters: {'slack': 0.014401472828461642}.\n",
            "[I 2025-10-01 17:50:21,721] Trial 5 finished with values: [-0.9171914417984646, 0.040942240223135334] and parameters: {'slack': 0.0018591711878786364}.\n",
            "[I 2025-10-01 17:51:32,919] Trial 6 finished with values: [-0.9254700949019408, 0.0778313244338791] and parameters: {'slack': 0.08755734725056502}.\n",
            "[I 2025-10-01 17:52:58,364] Trial 7 finished with values: [-0.9182984463405304, 0.013248150375779501] and parameters: {'slack': 0.01133676686701445}.\n"
          ]
        },
        {
          "name": "stdout",
          "output_type": "stream",
          "text": [
            "laplace  Knee slack: 0.014401472828461642\n"
          ]
        },
        {
          "name": "stderr",
          "output_type": "stream",
          "text": [
            "[I 2025-10-01 17:54:21,521] A new study created in memory with name: no-name-7854b4ae-1396-4ded-8677-6ec43d3213f3\n"
          ]
        },
        {
          "name": "stdout",
          "output_type": "stream",
          "text": [
            "BayCoFE Selected: [ 0  4  5  6  9 10 11 12 13 16 22 23 25 26]\n",
            "Test Acc: 0.9258321273516642 LogLoss: 0.18844144030944934 Mean Entropy: 0.0\n"
          ]
        },
        {
          "name": "stderr",
          "output_type": "stream",
          "text": [
            "[I 2025-10-01 17:55:53,804] Trial 0 finished with values: [-0.9182984463405304, 0.02251145661459231] and parameters: {'slack': 0.012285916427548801}.\n",
            "[I 2025-10-01 17:57:19,537] Trial 1 finished with values: [-0.9171914417984646, 0.03689712271743173] and parameters: {'slack': 0.0007218018732952586}.\n",
            "[I 2025-10-01 17:58:45,985] Trial 2 finished with values: [-0.9171914417984646, 0.03926363185418112] and parameters: {'slack': 0.0004792414358623592}.\n",
            "[I 2025-10-01 18:00:11,878] Trial 3 finished with values: [-0.9182984463405304, 0.017376259998634267] and parameters: {'slack': 0.004507588967315677}.\n",
            "[I 2025-10-01 18:01:45,008] Trial 4 finished with values: [-0.921358982295077, 0.009097831390929758] and parameters: {'slack': 0.014401472828461642}.\n",
            "[I 2025-10-01 18:03:20,687] Trial 5 finished with values: [-0.9171914417984646, 0.040942240223135334] and parameters: {'slack': 0.0018591711878786364}.\n",
            "[I 2025-10-01 18:04:33,850] Trial 6 finished with values: [-0.9254700949019408, 0.0778313244338791] and parameters: {'slack': 0.08755734725056502}.\n",
            "[I 2025-10-01 18:05:59,947] Trial 7 finished with values: [-0.9182984463405304, 0.013248150375779501] and parameters: {'slack': 0.01133676686701445}.\n"
          ]
        },
        {
          "name": "stdout",
          "output_type": "stream",
          "text": [
            "studentt  Knee slack: 0.014401472828461642\n"
          ]
        },
        {
          "name": "stderr",
          "output_type": "stream",
          "text": [
            "[I 2025-10-01 18:07:23,774] A new study created in memory with name: no-name-fe4ac818-8420-4712-b646-7abb37fe7f31\n"
          ]
        },
        {
          "name": "stdout",
          "output_type": "stream",
          "text": [
            "BayCoFE Selected: [ 0  4  5  6  9 10 11 12 13 16 22 23 25 26]\n",
            "Test Acc: 0.9258321273516642 LogLoss: 0.18844144030944934 Mean Entropy: 0.0\n"
          ]
        },
        {
          "name": "stderr",
          "output_type": "stream",
          "text": [
            "[I 2025-10-01 18:08:55,597] Trial 0 finished with values: [-0.9182984463405304, 0.02251145661459231] and parameters: {'slack': 0.012285916427548801}.\n",
            "[I 2025-10-01 18:10:21,032] Trial 1 finished with values: [-0.9171914417984646, 0.03689712271743173] and parameters: {'slack': 0.0007218018732952586}.\n",
            "[I 2025-10-01 18:11:38,447] Trial 2 finished with values: [-0.9171914417984646, 0.03926363185418112] and parameters: {'slack': 0.0004792414358623592}.\n",
            "[I 2025-10-01 18:13:03,578] Trial 3 finished with values: [-0.9182984463405304, 0.017376259998634267] and parameters: {'slack': 0.004507588967315677}.\n",
            "[I 2025-10-01 18:14:35,325] Trial 4 finished with values: [-0.921358982295077, 0.009097831390929758] and parameters: {'slack': 0.014401472828461642}.\n",
            "[I 2025-10-01 18:16:07,331] Trial 5 finished with values: [-0.9171914417984646, 0.040942240223135334] and parameters: {'slack': 0.0018591711878786364}.\n",
            "[I 2025-10-01 18:17:18,620] Trial 6 finished with values: [-0.9254700949019408, 0.0778313244338791] and parameters: {'slack': 0.08755734725056502}.\n",
            "[I 2025-10-01 18:18:43,537] Trial 7 finished with values: [-0.9182984463405304, 0.013248150375779501] and parameters: {'slack': 0.01133676686701445}.\n"
          ]
        },
        {
          "name": "stdout",
          "output_type": "stream",
          "text": [
            "cauchy  Knee slack: 0.014401472828461642\n"
          ]
        },
        {
          "name": "stderr",
          "output_type": "stream",
          "text": [
            "[I 2025-10-01 18:20:06,296] A new study created in memory with name: no-name-7f9cb6fb-5d41-4892-add2-679c07de489d\n"
          ]
        },
        {
          "name": "stdout",
          "output_type": "stream",
          "text": [
            "BayCoFE Selected: [ 0  4  5  6  9 10 11 12 13 16 22 23 25 26]\n",
            "Test Acc: 0.9258321273516642 LogLoss: 0.18844144030944934 Mean Entropy: 0.0\n"
          ]
        },
        {
          "name": "stderr",
          "output_type": "stream",
          "text": [
            "[I 2025-10-01 18:21:23,902] Trial 0 finished with values: [-0.9185855691994411, 0.03471285931472989] and parameters: {'slack': 0.012285916427548801}.\n",
            "[I 2025-10-01 18:22:47,374] Trial 1 finished with values: [-0.9183841261733776, 0.03111800837189221] and parameters: {'slack': 0.0007218018732952586}.\n",
            "[I 2025-10-01 18:24:25,321] Trial 2 finished with values: [-0.9191872878539735, 0.0] and parameters: {'slack': 0.0004792414358623592}.\n",
            "[I 2025-10-01 18:25:49,297] Trial 3 finished with values: [-0.9183841261733776, 0.030716253372675417] and parameters: {'slack': 0.004507588967315677}.\n",
            "[I 2025-10-01 18:27:06,658] Trial 4 finished with values: [-0.9185855691994411, 0.03624373880803039] and parameters: {'slack': 0.014401472828461642}.\n",
            "[I 2025-10-01 18:28:31,322] Trial 5 finished with values: [-0.9183841261733776, 0.021733476071823764] and parameters: {'slack': 0.0018591711878786364}.\n",
            "[I 2025-10-01 18:29:55,683] Trial 6 finished with values: [-0.9196520906599914, 0.0372352890857765] and parameters: {'slack': 0.08755734725056502}.\n",
            "[I 2025-10-01 18:31:13,166] Trial 7 finished with values: [-0.9185855691994411, 0.03793081805482498] and parameters: {'slack': 0.01133676686701445}.\n"
          ]
        },
        {
          "name": "stdout",
          "output_type": "stream",
          "text": [
            "laplace  Knee slack: 0.0004792414358623592\n"
          ]
        },
        {
          "name": "stderr",
          "output_type": "stream",
          "text": [
            "[I 2025-10-01 18:32:30,176] A new study created in memory with name: no-name-313a610b-48b3-4485-8f88-6d43feb6d524\n"
          ]
        },
        {
          "name": "stdout",
          "output_type": "stream",
          "text": [
            "BayCoFE Selected: [ 0  4  5  6 11 12 13 23 25 26]\n",
            "Test Acc: 0.9211287988422576 LogLoss: 0.1907141939955948 Mean Entropy: 0.0\n"
          ]
        },
        {
          "name": "stderr",
          "output_type": "stream",
          "text": [
            "[I 2025-10-01 18:33:50,005] Trial 0 finished with values: [-0.9185855691994411, 0.03471285931472989] and parameters: {'slack': 0.012285916427548801}.\n",
            "[I 2025-10-01 18:35:15,190] Trial 1 finished with values: [-0.9183841261733776, 0.03111800837189221] and parameters: {'slack': 0.0007218018732952586}.\n",
            "[I 2025-10-01 18:36:55,463] Trial 2 finished with values: [-0.9191872878539735, 0.0] and parameters: {'slack': 0.0004792414358623592}.\n",
            "[I 2025-10-01 18:38:21,382] Trial 3 finished with values: [-0.9183841261733776, 0.030716253372675417] and parameters: {'slack': 0.004507588967315677}.\n",
            "[I 2025-10-01 18:39:40,178] Trial 4 finished with values: [-0.9185855691994411, 0.03624373880803039] and parameters: {'slack': 0.014401472828461642}.\n",
            "[I 2025-10-01 18:41:05,003] Trial 5 finished with values: [-0.9183841261733776, 0.021733476071823764] and parameters: {'slack': 0.0018591711878786364}.\n",
            "[I 2025-10-01 18:42:31,880] Trial 6 finished with values: [-0.9196520906599914, 0.0372352890857765] and parameters: {'slack': 0.08755734725056502}.\n",
            "[I 2025-10-01 18:43:51,689] Trial 7 finished with values: [-0.9185855691994411, 0.03793081805482498] and parameters: {'slack': 0.01133676686701445}.\n"
          ]
        },
        {
          "name": "stdout",
          "output_type": "stream",
          "text": [
            "studentt  Knee slack: 0.0004792414358623592\n"
          ]
        },
        {
          "name": "stderr",
          "output_type": "stream",
          "text": [
            "[I 2025-10-01 18:45:09,405] A new study created in memory with name: no-name-883f1178-daf1-4de9-a0a8-be433b04b057\n"
          ]
        },
        {
          "name": "stdout",
          "output_type": "stream",
          "text": [
            "BayCoFE Selected: [ 0  4  5  6 11 12 13 23 25 26]\n",
            "Test Acc: 0.9211287988422576 LogLoss: 0.1907141939955948 Mean Entropy: 0.0\n"
          ]
        },
        {
          "name": "stderr",
          "output_type": "stream",
          "text": [
            "[I 2025-10-01 18:46:26,981] Trial 0 finished with values: [-0.9185855691994411, 0.03471285931472989] and parameters: {'slack': 0.012285916427548801}.\n",
            "[I 2025-10-01 18:47:51,207] Trial 1 finished with values: [-0.9183841261733776, 0.03111800837189221] and parameters: {'slack': 0.0007218018732952586}.\n",
            "[I 2025-10-01 18:49:29,544] Trial 2 finished with values: [-0.9191872878539735, 0.0] and parameters: {'slack': 0.0004792414358623592}.\n",
            "[I 2025-10-01 18:50:54,045] Trial 3 finished with values: [-0.9183841261733776, 0.030716253372675417] and parameters: {'slack': 0.004507588967315677}.\n",
            "[I 2025-10-01 18:52:12,303] Trial 4 finished with values: [-0.9185855691994411, 0.03624373880803039] and parameters: {'slack': 0.014401472828461642}.\n",
            "[I 2025-10-01 18:53:36,142] Trial 5 finished with values: [-0.9183841261733776, 0.021733476071823764] and parameters: {'slack': 0.0018591711878786364}.\n",
            "[I 2025-10-01 18:55:01,408] Trial 6 finished with values: [-0.9196520906599914, 0.0372352890857765] and parameters: {'slack': 0.08755734725056502}.\n",
            "[I 2025-10-01 18:56:19,172] Trial 7 finished with values: [-0.9185855691994411, 0.03793081805482498] and parameters: {'slack': 0.01133676686701445}.\n"
          ]
        },
        {
          "name": "stdout",
          "output_type": "stream",
          "text": [
            "cauchy  Knee slack: 0.0004792414358623592\n"
          ]
        },
        {
          "name": "stderr",
          "output_type": "stream",
          "text": [
            "[I 2025-10-01 18:57:36,213] A new study created in memory with name: no-name-764e0065-a648-4ca9-9d1d-f55e699152ea\n"
          ]
        },
        {
          "name": "stdout",
          "output_type": "stream",
          "text": [
            "BayCoFE Selected: [ 0  4  5  6 11 12 13 23 25 26]\n",
            "Test Acc: 0.9211287988422576 LogLoss: 0.1907141939955948 Mean Entropy: 0.0\n"
          ]
        },
        {
          "name": "stderr",
          "output_type": "stream",
          "text": [
            "[I 2025-10-01 18:59:01,688] Trial 0 finished with values: [-0.9194126351694333, 0.010766395316116322] and parameters: {'slack': 0.012285916427548801}.\n",
            "[I 2025-10-01 19:00:19,038] Trial 1 finished with values: [-0.9148032915209393, 0.004757917850681668] and parameters: {'slack': 0.0007218018732952586}.\n",
            "[I 2025-10-01 19:01:56,321] Trial 2 finished with values: [-0.9141527881459282, 0.0] and parameters: {'slack': 0.0004792414358623592}.\n",
            "[I 2025-10-01 19:03:27,810] Trial 3 finished with values: [-0.9147597177128957, 0.0018232222019265558] and parameters: {'slack': 0.004507588967315677}.\n",
            "[I 2025-10-01 19:04:52,971] Trial 4 finished with values: [-0.9194126351694333, 0.008466171564921214] and parameters: {'slack': 0.014401472828461642}.\n",
            "[I 2025-10-01 19:06:10,566] Trial 5 finished with values: [-0.9147597177128957, 0.004769469138504553] and parameters: {'slack': 0.0018591711878786364}.\n",
            "[I 2025-10-01 19:07:36,914] Trial 6 finished with values: [-0.9198093835116132, 0.010506615562679213] and parameters: {'slack': 0.08755734725056502}.\n",
            "[I 2025-10-01 19:09:01,372] Trial 7 finished with values: [-0.9194126351694333, 0.004780542709895272] and parameters: {'slack': 0.01133676686701445}.\n"
          ]
        },
        {
          "name": "stdout",
          "output_type": "stream",
          "text": [
            "laplace  Knee slack: 0.01133676686701445\n"
          ]
        },
        {
          "name": "stderr",
          "output_type": "stream",
          "text": [
            "[I 2025-10-01 19:10:16,126] A new study created in memory with name: no-name-6589d7d2-449b-402b-ad71-0ccf062d85e7\n"
          ]
        },
        {
          "name": "stdout",
          "output_type": "stream",
          "text": [
            "BayCoFE Selected: [ 0  4  5  6  9 10 11 12 13 15 16 22 23 25 26 27]\n",
            "Test Acc: 0.9265557163531114 LogLoss: 0.18190876362856878 Mean Entropy: 0.08174351754466985\n"
          ]
        },
        {
          "name": "stderr",
          "output_type": "stream",
          "text": [
            "[I 2025-10-01 19:11:29,560] Trial 0 finished with values: [-0.9188735719323616, 0.050092352904272115] and parameters: {'slack': 0.012285916427548801}.\n",
            "[I 2025-10-01 19:12:47,942] Trial 1 finished with values: [-0.9148032915209393, 0.004757917850681668] and parameters: {'slack': 0.0007218018732952586}.\n",
            "[I 2025-10-01 19:14:07,188] Trial 2 finished with values: [-0.9148032915209393, 0.00882139812330769] and parameters: {'slack': 0.0004792414358623592}.\n",
            "[I 2025-10-01 19:15:40,933] Trial 3 finished with values: [-0.9147597177128957, 0.0018232222019265558] and parameters: {'slack': 0.004507588967315677}.\n",
            "[I 2025-10-01 19:16:53,296] Trial 4 finished with values: [-0.9188735719323616, 0.04754408802466388] and parameters: {'slack': 0.014401472828461642}.\n",
            "[I 2025-10-01 19:18:12,389] Trial 5 finished with values: [-0.9147597177128957, 0.004769469138504553] and parameters: {'slack': 0.0018591711878786364}.\n",
            "[I 2025-10-01 19:19:34,682] Trial 6 finished with values: [-0.9194645842166214, 0.052203944449873245] and parameters: {'slack': 0.08755734725056502}.\n",
            "[I 2025-10-01 19:21:03,065] Trial 7 finished with values: [-0.9194126351694333, 0.004780542709895272] and parameters: {'slack': 0.01133676686701445}.\n"
          ]
        },
        {
          "name": "stdout",
          "output_type": "stream",
          "text": [
            "studentt  Knee slack: 0.01133676686701445\n"
          ]
        },
        {
          "name": "stderr",
          "output_type": "stream",
          "text": [
            "[I 2025-10-01 19:22:18,592] A new study created in memory with name: no-name-18b70027-be38-44d6-a5f4-fe5826460f7b\n"
          ]
        },
        {
          "name": "stdout",
          "output_type": "stream",
          "text": [
            "BayCoFE Selected: [ 0  4  5  6  9 10 11 12 13 15 16 22 23 25 26 27]\n",
            "Test Acc: 0.9265557163531114 LogLoss: 0.18190876362856878 Mean Entropy: 0.08174351754466985\n"
          ]
        },
        {
          "name": "stderr",
          "output_type": "stream",
          "text": [
            "[I 2025-10-01 19:23:31,640] Trial 0 finished with values: [-0.9188735719323616, 0.050092352904272115] and parameters: {'slack': 0.012285916427548801}.\n",
            "[I 2025-10-01 19:24:50,857] Trial 1 finished with values: [-0.9148032915209393, 0.004757917850681668] and parameters: {'slack': 0.0007218018732952586}.\n",
            "[I 2025-10-01 19:26:10,762] Trial 2 finished with values: [-0.9148032915209393, 0.00882139812330769] and parameters: {'slack': 0.0004792414358623592}.\n",
            "[I 2025-10-01 19:27:44,651] Trial 3 finished with values: [-0.9147597177128957, 0.0018232222019265558] and parameters: {'slack': 0.004507588967315677}.\n",
            "[I 2025-10-01 19:28:58,373] Trial 4 finished with values: [-0.9188735719323616, 0.04754408802466388] and parameters: {'slack': 0.014401472828461642}.\n",
            "[I 2025-10-01 19:30:17,967] Trial 5 finished with values: [-0.9147597177128957, 0.004769469138504553] and parameters: {'slack': 0.0018591711878786364}.\n",
            "[I 2025-10-01 19:31:38,118] Trial 6 finished with values: [-0.9194645842166214, 0.052203944449873245] and parameters: {'slack': 0.08755734725056502}.\n",
            "[I 2025-10-01 19:33:06,314] Trial 7 finished with values: [-0.9194126351694333, 0.004780542709895272] and parameters: {'slack': 0.01133676686701445}.\n"
          ]
        },
        {
          "name": "stdout",
          "output_type": "stream",
          "text": [
            "cauchy  Knee slack: 0.01133676686701445\n"
          ]
        },
        {
          "name": "stderr",
          "output_type": "stream",
          "text": [
            "[I 2025-10-01 19:34:21,976] A new study created in memory with name: no-name-f4a96d74-3cac-4ad1-8856-62b14d797307\n"
          ]
        },
        {
          "name": "stdout",
          "output_type": "stream",
          "text": [
            "BayCoFE Selected: [ 0  4  5  6  9 10 11 12 13 15 16 22 23 25 26 27]\n",
            "Test Acc: 0.9265557163531114 LogLoss: 0.18190876362856878 Mean Entropy: 0.08174351754466985\n"
          ]
        },
        {
          "name": "stderr",
          "output_type": "stream",
          "text": [
            "[I 2025-10-01 19:35:48,463] Trial 0 finished with values: [-0.9188010917460728, 0.0] and parameters: {'slack': 0.012285916427548801}.\n",
            "[I 2025-10-01 19:37:21,156] Trial 1 finished with values: [-0.916616295672309, 0.0] and parameters: {'slack': 0.0007218018732952586}.\n",
            "[I 2025-10-01 19:38:53,280] Trial 2 finished with values: [-0.916616295672309, 0.0] and parameters: {'slack': 0.0004792414358623592}.\n",
            "[I 2025-10-01 19:40:24,194] Trial 3 finished with values: [-0.9184167384939741, 0.0014180395580810764] and parameters: {'slack': 0.004507588967315677}.\n",
            "[I 2025-10-01 19:41:49,081] Trial 4 finished with values: [-0.9188010917460728, 0.0] and parameters: {'slack': 0.014401472828461642}.\n",
            "[I 2025-10-01 19:43:32,814] Trial 5 finished with values: [-0.916616295672309, 0.0] and parameters: {'slack': 0.0018591711878786364}.\n",
            "[I 2025-10-01 19:44:44,606] Trial 6 finished with values: [-0.9258203273783342, 0.05729408547612255] and parameters: {'slack': 0.08755734725056502}.\n",
            "[I 2025-10-01 19:46:09,886] Trial 7 finished with values: [-0.9188010917460728, 0.0] and parameters: {'slack': 0.01133676686701445}.\n"
          ]
        },
        {
          "name": "stdout",
          "output_type": "stream",
          "text": [
            "laplace  Knee slack: 0.012285916427548801\n"
          ]
        },
        {
          "name": "stderr",
          "output_type": "stream",
          "text": [
            "[I 2025-10-01 19:47:28,715] A new study created in memory with name: no-name-2161dca7-0747-4fa8-92b9-3994adc0e18b\n"
          ]
        },
        {
          "name": "stdout",
          "output_type": "stream",
          "text": [
            "BayCoFE Selected: [ 0  4  5  6 10 11 12 13 23 25 26]\n",
            "Test Acc: 0.9249276410998553 LogLoss: 0.1908329332096964 Mean Entropy: 0.0006544330920992928\n"
          ]
        },
        {
          "name": "stderr",
          "output_type": "stream",
          "text": [
            "[I 2025-10-01 19:48:55,262] Trial 0 finished with values: [-0.9188010917460728, 0.0] and parameters: {'slack': 0.012285916427548801}.\n",
            "[I 2025-10-01 19:50:41,374] Trial 1 finished with values: [-0.916616295672309, 0.0] and parameters: {'slack': 0.0007218018732952586}.\n",
            "[I 2025-10-01 19:52:13,834] Trial 2 finished with values: [-0.916616295672309, 0.0] and parameters: {'slack': 0.0004792414358623592}.\n",
            "[I 2025-10-01 19:53:53,576] Trial 3 finished with values: [-0.9184167384939741, 0.0014180395580810764] and parameters: {'slack': 0.004507588967315677}.\n",
            "[I 2025-10-01 19:55:20,223] Trial 4 finished with values: [-0.9188010917460728, 0.0] and parameters: {'slack': 0.014401472828461642}.\n",
            "[I 2025-10-01 19:56:53,835] Trial 5 finished with values: [-0.9195736640110905, 0.0] and parameters: {'slack': 0.0018591711878786364}.\n",
            "[I 2025-10-01 19:58:07,354] Trial 6 finished with values: [-0.9258203273783342, 0.05729408547612255] and parameters: {'slack': 0.08755734725056502}.\n",
            "[I 2025-10-01 19:59:33,141] Trial 7 finished with values: [-0.9188010917460728, 0.0] and parameters: {'slack': 0.01133676686701445}.\n"
          ]
        },
        {
          "name": "stdout",
          "output_type": "stream",
          "text": [
            "studentt  Knee slack: 0.0018591711878786364\n"
          ]
        },
        {
          "name": "stderr",
          "output_type": "stream",
          "text": [
            "[I 2025-10-01 20:00:53,967] A new study created in memory with name: no-name-5a483bdf-6559-4dcb-bfa0-2bb2f1cedebe\n"
          ]
        },
        {
          "name": "stdout",
          "output_type": "stream",
          "text": [
            "BayCoFE Selected: [ 0  4  5  6 10 11 12 13 23 25 26]\n",
            "Test Acc: 0.9249276410998553 LogLoss: 0.1908329332096964 Mean Entropy: 0.0006544330920992928\n"
          ]
        },
        {
          "name": "stderr",
          "output_type": "stream",
          "text": [
            "[I 2025-10-01 20:02:18,366] Trial 0 finished with values: [-0.9188010917460728, 0.0] and parameters: {'slack': 0.012285916427548801}.\n",
            "[I 2025-10-01 20:03:56,267] Trial 1 finished with values: [-0.916616295672309, 0.0] and parameters: {'slack': 0.0007218018732952586}.\n",
            "[I 2025-10-01 20:05:26,215] Trial 2 finished with values: [-0.916616295672309, 0.0] and parameters: {'slack': 0.0004792414358623592}.\n",
            "[I 2025-10-01 20:06:58,259] Trial 3 finished with values: [-0.9184167384939741, 0.0014180395580810764] and parameters: {'slack': 0.004507588967315677}.\n",
            "[I 2025-10-01 20:08:22,969] Trial 4 finished with values: [-0.9188010917460728, 0.0] and parameters: {'slack': 0.014401472828461642}.\n",
            "[I 2025-10-01 20:09:54,660] Trial 5 finished with values: [-0.9195736640110905, 0.0] and parameters: {'slack': 0.0018591711878786364}.\n",
            "[I 2025-10-01 20:11:06,561] Trial 6 finished with values: [-0.9258203273783342, 0.05729408547612255] and parameters: {'slack': 0.08755734725056502}.\n",
            "[I 2025-10-01 20:12:31,481] Trial 7 finished with values: [-0.9188010917460728, 0.0] and parameters: {'slack': 0.01133676686701445}.\n"
          ]
        },
        {
          "name": "stdout",
          "output_type": "stream",
          "text": [
            "cauchy  Knee slack: 0.0018591711878786364\n"
          ]
        },
        {
          "name": "stderr",
          "output_type": "stream",
          "text": [
            "[I 2025-10-01 20:13:49,351] A new study created in memory with name: no-name-70b4e398-072a-4637-a874-f2884897b0ae\n"
          ]
        },
        {
          "name": "stdout",
          "output_type": "stream",
          "text": [
            "BayCoFE Selected: [ 0  4  5  6 10 11 12 13 23 25 26]\n",
            "Test Acc: 0.9249276410998553 LogLoss: 0.1908329332096964 Mean Entropy: 0.0006544330920992928\n"
          ]
        },
        {
          "name": "stderr",
          "output_type": "stream",
          "text": [
            "[I 2025-10-01 20:15:33,614] Trial 0 finished with values: [-0.9161241164674115, 0.0019127627784997253] and parameters: {'slack': 0.012285916427548801}.\n",
            "[I 2025-10-01 20:17:05,265] Trial 1 finished with values: [-0.9130451521747933, 0.0] and parameters: {'slack': 0.0007218018732952586}.\n",
            "[I 2025-10-01 20:18:30,615] Trial 2 finished with values: [-0.9130451521747933, 0.0] and parameters: {'slack': 0.0004792414358623592}.\n",
            "[I 2025-10-01 20:20:08,149] Trial 3 finished with values: [-0.9161241164674115, 0.0] and parameters: {'slack': 0.004507588967315677}.\n",
            "[I 2025-10-01 20:21:44,986] Trial 4 finished with values: [-0.9162639623309144, 0.0] and parameters: {'slack': 0.014401472828461642}.\n",
            "[I 2025-10-01 20:23:15,246] Trial 5 finished with values: [-0.9161241164674115, 0.0] and parameters: {'slack': 0.0018591711878786364}.\n",
            "[I 2025-10-01 20:24:33,606] Trial 6 finished with values: [-0.9212966984164829, 0.006793274249159458] and parameters: {'slack': 0.08755734725056502}.\n",
            "[I 2025-10-01 20:26:12,063] Trial 7 finished with values: [-0.9161241164674115, 0.0026917673643330506] and parameters: {'slack': 0.01133676686701445}.\n"
          ]
        },
        {
          "name": "stdout",
          "output_type": "stream",
          "text": [
            "laplace  Knee slack: 0.014401472828461642\n"
          ]
        },
        {
          "name": "stderr",
          "output_type": "stream",
          "text": [
            "[I 2025-10-01 20:27:29,091] A new study created in memory with name: no-name-1133af34-3753-4358-9a84-4e6c19dd31d1\n"
          ]
        },
        {
          "name": "stdout",
          "output_type": "stream",
          "text": [
            "BayCoFE Selected: [ 0  4  5  6 11 12 13 23 25 26]\n",
            "Test Acc: 0.9254703328509407 LogLoss: 0.1886021098258897 Mean Entropy: 0.0\n"
          ]
        },
        {
          "name": "stderr",
          "output_type": "stream",
          "text": [
            "[I 2025-10-01 20:29:08,085] Trial 0 finished with values: [-0.9162639623309144, 0.0020505067298166755] and parameters: {'slack': 0.012285916427548801}.\n",
            "[I 2025-10-01 20:30:41,827] Trial 1 finished with values: [-0.9161241164674115, 0.0] and parameters: {'slack': 0.0007218018732952586}.\n",
            "[I 2025-10-01 20:32:13,759] Trial 2 finished with values: [-0.9130451521747933, 0.0] and parameters: {'slack': 0.0004792414358623592}.\n",
            "[I 2025-10-01 20:33:53,628] Trial 3 finished with values: [-0.9161241164674115, 0.0] and parameters: {'slack': 0.004507588967315677}.\n",
            "[I 2025-10-01 20:35:33,208] Trial 4 finished with values: [-0.9162639623309144, 0.0] and parameters: {'slack': 0.014401472828461642}.\n",
            "[I 2025-10-01 20:37:06,114] Trial 5 finished with values: [-0.9161241164674115, 0.0] and parameters: {'slack': 0.0018591711878786364}.\n",
            "[I 2025-10-01 20:38:27,544] Trial 6 finished with values: [-0.9212966984164829, 0.006793274249159458] and parameters: {'slack': 0.08755734725056502}.\n",
            "[I 2025-10-01 20:40:06,455] Trial 7 finished with values: [-0.9162639623309144, 0.0016813966237424684] and parameters: {'slack': 0.01133676686701445}.\n"
          ]
        },
        {
          "name": "stdout",
          "output_type": "stream",
          "text": [
            "studentt  Knee slack: 0.014401472828461642\n"
          ]
        },
        {
          "name": "stderr",
          "output_type": "stream",
          "text": [
            "[I 2025-10-01 20:41:27,365] A new study created in memory with name: no-name-6aed5220-622a-49ef-b503-2f0b2161f956\n"
          ]
        },
        {
          "name": "stdout",
          "output_type": "stream",
          "text": [
            "BayCoFE Selected: [ 0  4  5  6 10 11 12 13 22 23 25 26]\n",
            "Test Acc: 0.9251085383502171 LogLoss: 0.18635339673970128 Mean Entropy: 0.000593880459736504\n"
          ]
        },
        {
          "name": "stderr",
          "output_type": "stream",
          "text": [
            "[I 2025-10-01 20:43:05,060] Trial 0 finished with values: [-0.9162639623309144, 0.0020505067298166755] and parameters: {'slack': 0.012285916427548801}.\n",
            "[I 2025-10-01 20:44:35,573] Trial 1 finished with values: [-0.9161241164674115, 0.0] and parameters: {'slack': 0.0007218018732952586}.\n",
            "[I 2025-10-01 20:46:06,778] Trial 2 finished with values: [-0.9130451521747933, 0.0] and parameters: {'slack': 0.0004792414358623592}.\n",
            "[I 2025-10-01 20:47:44,165] Trial 3 finished with values: [-0.9161241164674115, 0.0] and parameters: {'slack': 0.004507588967315677}.\n",
            "[I 2025-10-01 20:49:22,619] Trial 4 finished with values: [-0.9162639623309144, 0.0] and parameters: {'slack': 0.014401472828461642}.\n",
            "[I 2025-10-01 20:50:54,289] Trial 5 finished with values: [-0.9161241164674115, 0.0] and parameters: {'slack': 0.0018591711878786364}.\n",
            "[I 2025-10-01 20:52:13,214] Trial 6 finished with values: [-0.9212966984164829, 0.006793274249159458] and parameters: {'slack': 0.08755734725056502}.\n",
            "[I 2025-10-01 20:53:51,477] Trial 7 finished with values: [-0.9162639623309144, 0.0016813966237424684] and parameters: {'slack': 0.01133676686701445}.\n"
          ]
        },
        {
          "name": "stdout",
          "output_type": "stream",
          "text": [
            "cauchy  Knee slack: 0.014401472828461642\n"
          ]
        },
        {
          "name": "stderr",
          "output_type": "stream",
          "text": [
            "[I 2025-10-01 20:55:11,604] A new study created in memory with name: no-name-64bf66de-50c0-4f3a-958f-12d36637f409\n"
          ]
        },
        {
          "name": "stdout",
          "output_type": "stream",
          "text": [
            "BayCoFE Selected: [ 0  4  5  6 10 11 12 13 22 23 25 26]\n",
            "Test Acc: 0.9251085383502171 LogLoss: 0.18635339673970128 Mean Entropy: 0.000593880459736504\n"
          ]
        },
        {
          "name": "stderr",
          "output_type": "stream",
          "text": [
            "[I 2025-10-01 20:56:29,456] Trial 0 finished with values: [-0.9200962388852163, 0.0013198744414949332] and parameters: {'slack': 0.012285916427548801}.\n",
            "[I 2025-10-01 20:58:00,241] Trial 1 finished with values: [-0.9192859289175864, 0.0] and parameters: {'slack': 0.0007218018732952586}.\n",
            "[I 2025-10-01 20:59:31,998] Trial 2 finished with values: [-0.9192859289175864, 0.0] and parameters: {'slack': 0.0004792414358623592}.\n",
            "[I 2025-10-01 21:00:49,525] Trial 3 finished with values: [-0.9182467582648317, 0.00142229586365431] and parameters: {'slack': 0.004507588967315677}.\n",
            "[I 2025-10-01 21:02:06,959] Trial 4 finished with values: [-0.9200962388852163, 0.0] and parameters: {'slack': 0.014401472828461642}.\n",
            "[I 2025-10-01 21:03:24,475] Trial 5 finished with values: [-0.9182467582648317, 0.0] and parameters: {'slack': 0.0018591711878786364}.\n",
            "[I 2025-10-01 21:04:49,190] Trial 6 finished with values: [-0.9220684883814014, 0.0028621819578362965] and parameters: {'slack': 0.08755734725056502}.\n",
            "[I 2025-10-01 21:06:06,158] Trial 7 finished with values: [-0.9200962388852163, 0.0] and parameters: {'slack': 0.01133676686701445}.\n"
          ]
        },
        {
          "name": "stdout",
          "output_type": "stream",
          "text": [
            "laplace  Knee slack: 0.014401472828461642\n"
          ]
        },
        {
          "name": "stderr",
          "output_type": "stream",
          "text": [
            "[I 2025-10-01 21:07:19,634] A new study created in memory with name: no-name-f9ebf704-0ffe-485d-ad9f-5b9e5d0cd495\n"
          ]
        },
        {
          "name": "stdout",
          "output_type": "stream",
          "text": [
            "BayCoFE Selected: [ 0  4  5  6  9 10 11 12 13 16 22 23 25 26]\n",
            "Test Acc: 0.9258321273516642 LogLoss: 0.18653490230324132 Mean Entropy: 0.0\n"
          ]
        },
        {
          "name": "stderr",
          "output_type": "stream",
          "text": [
            "[I 2025-10-01 21:08:38,554] Trial 0 finished with values: [-0.9200962388852163, 0.0013198744414949332] and parameters: {'slack': 0.012285916427548801}.\n",
            "[I 2025-10-01 21:09:50,459] Trial 1 finished with values: [-0.9182467582648317, 0.0014149217323321344] and parameters: {'slack': 0.0007218018732952586}.\n",
            "[I 2025-10-01 21:11:22,956] Trial 2 finished with values: [-0.9192859289175864, 0.0] and parameters: {'slack': 0.0004792414358623592}.\n",
            "[I 2025-10-01 21:12:42,409] Trial 3 finished with values: [-0.9200962388852163, 0.0037678311980378428] and parameters: {'slack': 0.004507588967315677}.\n",
            "[I 2025-10-01 21:14:01,867] Trial 4 finished with values: [-0.9200962388852163, 0.0] and parameters: {'slack': 0.014401472828461642}.\n",
            "[I 2025-10-01 21:15:21,309] Trial 5 finished with values: [-0.9182467582648317, 0.0] and parameters: {'slack': 0.0018591711878786364}.\n",
            "[I 2025-10-01 21:16:49,509] Trial 6 finished with values: [-0.9220684883814014, 0.0028621819578362965] and parameters: {'slack': 0.08755734725056502}.\n",
            "[I 2025-10-01 21:18:09,162] Trial 7 finished with values: [-0.9200962388852163, 0.0] and parameters: {'slack': 0.01133676686701445}.\n"
          ]
        },
        {
          "name": "stdout",
          "output_type": "stream",
          "text": [
            "studentt  Knee slack: 0.014401472828461642\n"
          ]
        },
        {
          "name": "stderr",
          "output_type": "stream",
          "text": [
            "[I 2025-10-01 21:19:23,628] A new study created in memory with name: no-name-bde29668-f7e0-419e-a656-b96ffe9a95ee\n"
          ]
        },
        {
          "name": "stdout",
          "output_type": "stream",
          "text": [
            "BayCoFE Selected: [ 0  4  5  6  9 10 11 12 13 16 22 23 25 26]\n",
            "Test Acc: 0.9258321273516642 LogLoss: 0.18653490230324132 Mean Entropy: 0.0\n"
          ]
        },
        {
          "name": "stderr",
          "output_type": "stream",
          "text": [
            "[I 2025-10-01 21:20:42,226] Trial 0 finished with values: [-0.9200962388852163, 0.0013198744414949332] and parameters: {'slack': 0.012285916427548801}.\n",
            "[I 2025-10-01 21:21:53,358] Trial 1 finished with values: [-0.9182467582648317, 0.0014149217323321344] and parameters: {'slack': 0.0007218018732952586}.\n",
            "[I 2025-10-01 21:23:24,771] Trial 2 finished with values: [-0.9192859289175864, 0.0] and parameters: {'slack': 0.0004792414358623592}.\n",
            "[I 2025-10-01 21:24:42,181] Trial 3 finished with values: [-0.9182467582648317, 0.00142229586365431] and parameters: {'slack': 0.004507588967315677}.\n",
            "[I 2025-10-01 21:25:59,494] Trial 4 finished with values: [-0.9200962388852163, 0.0] and parameters: {'slack': 0.014401472828461642}.\n",
            "[I 2025-10-01 21:27:17,086] Trial 5 finished with values: [-0.9182467582648317, 0.0] and parameters: {'slack': 0.0018591711878786364}.\n",
            "[I 2025-10-01 21:28:42,041] Trial 6 finished with values: [-0.9220684883814014, 0.0028621819578362965] and parameters: {'slack': 0.08755734725056502}.\n",
            "[I 2025-10-01 21:29:59,888] Trial 7 finished with values: [-0.9200962388852163, 0.0] and parameters: {'slack': 0.01133676686701445}.\n"
          ]
        },
        {
          "name": "stdout",
          "output_type": "stream",
          "text": [
            "cauchy  Knee slack: 0.014401472828461642\n"
          ]
        },
        {
          "name": "stderr",
          "output_type": "stream",
          "text": [
            "[I 2025-10-01 21:31:13,759] A new study created in memory with name: no-name-f9581bbc-47c3-47e7-a1e6-15777274a718\n"
          ]
        },
        {
          "name": "stdout",
          "output_type": "stream",
          "text": [
            "BayCoFE Selected: [ 0  4  5  6  9 10 11 12 13 16 22 23 25 26]\n",
            "Test Acc: 0.9258321273516642 LogLoss: 0.18653490230324132 Mean Entropy: 0.0\n"
          ]
        },
        {
          "name": "stderr",
          "output_type": "stream",
          "text": [
            "[I 2025-10-01 21:32:38,772] Trial 0 finished with values: [-0.9199358394654285, 0.004622161474205878] and parameters: {'slack': 0.012285916427548801}.\n",
            "[I 2025-10-01 21:34:09,778] Trial 1 finished with values: [-0.9189815227135856, 0.0] and parameters: {'slack': 0.0007218018732952586}.\n",
            "[I 2025-10-01 21:35:41,146] Trial 2 finished with values: [-0.9173887236547742, 0.0] and parameters: {'slack': 0.0004792414358623592}.\n",
            "[I 2025-10-01 21:37:12,600] Trial 3 finished with values: [-0.9183994983934888, 0.01985276168624354] and parameters: {'slack': 0.004507588967315677}.\n",
            "[I 2025-10-01 21:38:43,169] Trial 4 finished with values: [-0.9199358394654285, 0.0] and parameters: {'slack': 0.014401472828461642}.\n",
            "[I 2025-10-01 21:40:20,838] Trial 5 finished with values: [-0.9185794794303804, 0.0] and parameters: {'slack': 0.0018591711878786364}.\n",
            "[I 2025-10-01 21:41:47,531] Trial 6 finished with values: [-0.9220164750879611, 0.004433143432983761] and parameters: {'slack': 0.08755734725056502}.\n",
            "[I 2025-10-01 21:43:12,300] Trial 7 finished with values: [-0.9199358394654285, 0.0] and parameters: {'slack': 0.01133676686701445}.\n"
          ]
        },
        {
          "name": "stdout",
          "output_type": "stream",
          "text": [
            "laplace  Knee slack: 0.014401472828461642\n"
          ]
        },
        {
          "name": "stderr",
          "output_type": "stream",
          "text": [
            "[I 2025-10-01 21:44:25,811] A new study created in memory with name: no-name-171a368a-f92e-494a-bf27-723339bc31a5\n"
          ]
        },
        {
          "name": "stdout",
          "output_type": "stream",
          "text": [
            "BayCoFE Selected: [ 0  4  5  6  9 10 11 12 13 16 22 23 25 26]\n",
            "Test Acc: 0.9270984081041969 LogLoss: 0.18089853665229594 Mean Entropy: 0.0\n"
          ]
        },
        {
          "name": "stderr",
          "output_type": "stream",
          "text": [
            "[I 2025-10-01 21:45:58,851] Trial 0 finished with values: [-0.9199358394654285, 0.004622161474205878] and parameters: {'slack': 0.012285916427548801}.\n",
            "[I 2025-10-01 21:47:40,922] Trial 1 finished with values: [-0.9185794794303804, 0.0] and parameters: {'slack': 0.0007218018732952586}.\n",
            "[I 2025-10-01 21:49:14,520] Trial 2 finished with values: [-0.9189815227135856, 0.0] and parameters: {'slack': 0.0004792414358623592}.\n",
            "[I 2025-10-01 21:50:48,086] Trial 3 finished with values: [-0.9183994983934888, 0.01985276168624354] and parameters: {'slack': 0.004507588967315677}.\n",
            "[I 2025-10-01 21:52:21,945] Trial 4 finished with values: [-0.9199358394654285, 0.0] and parameters: {'slack': 0.014401472828461642}.\n",
            "[I 2025-10-01 21:53:47,799] Trial 5 finished with values: [-0.9183994983934888, 0.011509560914536785] and parameters: {'slack': 0.0018591711878786364}.\n",
            "[I 2025-10-01 21:55:21,960] Trial 6 finished with values: [-0.9220164750879611, 0.004433143432983761] and parameters: {'slack': 0.08755734725056502}.\n",
            "[I 2025-10-01 21:56:57,792] Trial 7 finished with values: [-0.9199358394654285, 0.0] and parameters: {'slack': 0.01133676686701445}.\n"
          ]
        },
        {
          "name": "stdout",
          "output_type": "stream",
          "text": [
            "studentt  Knee slack: 0.014401472828461642\n"
          ]
        },
        {
          "name": "stderr",
          "output_type": "stream",
          "text": [
            "[I 2025-10-01 21:58:12,084] A new study created in memory with name: no-name-3d989da7-52c9-4979-85a3-110aea3cf72c\n"
          ]
        },
        {
          "name": "stdout",
          "output_type": "stream",
          "text": [
            "BayCoFE Selected: [ 0  4  5  6  9 10 11 12 13 16 22 23 25 26]\n",
            "Test Acc: 0.9270984081041969 LogLoss: 0.18089853665229594 Mean Entropy: 0.0\n"
          ]
        },
        {
          "name": "stderr",
          "output_type": "stream",
          "text": [
            "[I 2025-10-01 21:59:45,417] Trial 0 finished with values: [-0.9199358394654285, 0.004622161474205878] and parameters: {'slack': 0.012285916427548801}.\n",
            "[I 2025-10-01 22:01:17,532] Trial 1 finished with values: [-0.9185794794303804, 0.0] and parameters: {'slack': 0.0007218018732952586}.\n",
            "[I 2025-10-01 22:02:49,199] Trial 2 finished with values: [-0.9173887236547742, 0.0] and parameters: {'slack': 0.0004792414358623592}.\n",
            "[I 2025-10-01 22:04:22,567] Trial 3 finished with values: [-0.9183994983934888, 0.01985276168624354] and parameters: {'slack': 0.004507588967315677}.\n",
            "[I 2025-10-01 22:05:54,684] Trial 4 finished with values: [-0.9199358394654285, 0.0] and parameters: {'slack': 0.014401472828461642}.\n",
            "[I 2025-10-01 22:07:19,490] Trial 5 finished with values: [-0.9183994983934888, 0.011509560914536785] and parameters: {'slack': 0.0018591711878786364}.\n",
            "[I 2025-10-01 22:08:51,000] Trial 6 finished with values: [-0.9220164750879611, 0.004433143432983761] and parameters: {'slack': 0.08755734725056502}.\n",
            "[I 2025-10-01 22:10:22,455] Trial 7 finished with values: [-0.9199358394654285, 0.0] and parameters: {'slack': 0.01133676686701445}.\n"
          ]
        },
        {
          "name": "stdout",
          "output_type": "stream",
          "text": [
            "cauchy  Knee slack: 0.014401472828461642\n"
          ]
        },
        {
          "name": "stderr",
          "output_type": "stream",
          "text": [
            "[I 2025-10-01 22:11:35,486] A new study created in memory with name: no-name-2c3d00da-aff4-4272-b7d7-e458c166d6e5\n"
          ]
        },
        {
          "name": "stdout",
          "output_type": "stream",
          "text": [
            "BayCoFE Selected: [ 0  4  5  6  9 10 11 12 13 16 22 23 25 26]\n",
            "Test Acc: 0.9270984081041969 LogLoss: 0.18089853665229594 Mean Entropy: 0.0\n"
          ]
        },
        {
          "name": "stderr",
          "output_type": "stream",
          "text": [
            "[I 2025-10-01 22:13:01,537] Trial 0 finished with values: [-0.9225932472292037, 0.0] and parameters: {'slack': 0.012285916427548801}.\n",
            "[I 2025-10-01 22:14:26,958] Trial 1 finished with values: [-0.9194268690996538, 0.0] and parameters: {'slack': 0.0007218018732952586}.\n",
            "[I 2025-10-01 22:15:50,361] Trial 2 finished with values: [-0.9194268690996538, 0.0] and parameters: {'slack': 0.0004792414358623592}.\n",
            "[I 2025-10-01 22:17:09,065] Trial 3 finished with values: [-0.9225932472292037, 0.0013347480427339552] and parameters: {'slack': 0.004507588967315677}.\n",
            "[I 2025-10-01 22:18:28,460] Trial 4 finished with values: [-0.9227805071017421, 0.006237961593727905] and parameters: {'slack': 0.014401472828461642}.\n",
            "[I 2025-10-01 22:19:59,721] Trial 5 finished with values: [-0.9209648473906538, 0.005115486104532007] and parameters: {'slack': 0.0018591711878786364}.\n",
            "[I 2025-10-01 22:21:19,839] Trial 6 finished with values: [-0.9249732816001398, 0.09396953245859516] and parameters: {'slack': 0.08755734725056502}.\n",
            "[I 2025-10-01 22:22:44,635] Trial 7 finished with values: [-0.9225932472292037, 0.0032022421450893226] and parameters: {'slack': 0.01133676686701445}.\n"
          ]
        },
        {
          "name": "stdout",
          "output_type": "stream",
          "text": [
            "laplace  Knee slack: 0.014401472828461642\n"
          ]
        },
        {
          "name": "stderr",
          "output_type": "stream",
          "text": [
            "[I 2025-10-01 22:23:56,887] A new study created in memory with name: no-name-d80993ae-e6c7-449d-bb89-350608fce050\n"
          ]
        },
        {
          "name": "stdout",
          "output_type": "stream",
          "text": [
            "BayCoFE Selected: [ 0  4  5  6  9 10 11 12 13 16 22 23 25 26]\n",
            "Test Acc: 0.923480463096961 LogLoss: 0.1873840820752323 Mean Entropy: 0.0\n"
          ]
        },
        {
          "name": "stderr",
          "output_type": "stream",
          "text": [
            "[I 2025-10-01 22:25:24,301] Trial 0 finished with values: [-0.9227805071017421, 0.0] and parameters: {'slack': 0.012285916427548801}.\n",
            "[I 2025-10-01 22:26:58,657] Trial 1 finished with values: [-0.9194268690996538, 0.0] and parameters: {'slack': 0.0007218018732952586}.\n",
            "[I 2025-10-01 22:28:24,623] Trial 2 finished with values: [-0.9194268690996538, 0.0] and parameters: {'slack': 0.0004792414358623592}.\n",
            "[I 2025-10-01 22:29:44,616] Trial 3 finished with values: [-0.9225932472292037, 0.0013347480427339552] and parameters: {'slack': 0.004507588967315677}.\n",
            "[I 2025-10-01 22:31:05,437] Trial 4 finished with values: [-0.924612528652747, 0.006237961593727905] and parameters: {'slack': 0.014401472828461642}.\n",
            "[I 2025-10-01 22:32:31,285] Trial 5 finished with values: [-0.9209648473906538, 0.005115486104532007] and parameters: {'slack': 0.0018591711878786364}.\n",
            "[I 2025-10-01 22:33:59,531] Trial 6 finished with values: [-0.9249732816001398, 0.09396953245859516] and parameters: {'slack': 0.08755734725056502}.\n",
            "[I 2025-10-01 22:35:27,289] Trial 7 finished with values: [-0.9225932472292037, 0.0032022421450893226] and parameters: {'slack': 0.01133676686701445}.\n"
          ]
        },
        {
          "name": "stdout",
          "output_type": "stream",
          "text": [
            "studentt  Knee slack: 0.014401472828461642\n"
          ]
        },
        {
          "name": "stderr",
          "output_type": "stream",
          "text": [
            "[I 2025-10-01 22:36:39,917] A new study created in memory with name: no-name-ea5fb0ba-9784-4093-b02a-204b968dc733\n"
          ]
        },
        {
          "name": "stdout",
          "output_type": "stream",
          "text": [
            "BayCoFE Selected: [ 0  4  5  6  9 10 11 12 13 16 22 23 25 26]\n",
            "Test Acc: 0.923480463096961 LogLoss: 0.1873840820752323 Mean Entropy: 0.0\n"
          ]
        },
        {
          "name": "stderr",
          "output_type": "stream",
          "text": [
            "[I 2025-10-01 22:38:06,026] Trial 0 finished with values: [-0.9227805071017421, 0.0] and parameters: {'slack': 0.012285916427548801}.\n",
            "[I 2025-10-01 22:39:37,281] Trial 1 finished with values: [-0.9194268690996538, 0.0] and parameters: {'slack': 0.0007218018732952586}.\n",
            "[I 2025-10-01 22:41:01,747] Trial 2 finished with values: [-0.9194268690996538, 0.0] and parameters: {'slack': 0.0004792414358623592}.\n",
            "[I 2025-10-01 22:42:20,011] Trial 3 finished with values: [-0.9225932472292037, 0.0013347480427339552] and parameters: {'slack': 0.004507588967315677}.\n",
            "[I 2025-10-01 22:43:39,614] Trial 4 finished with values: [-0.924612528652747, 0.006237961593727905] and parameters: {'slack': 0.014401472828461642}.\n",
            "[I 2025-10-01 22:45:05,273] Trial 5 finished with values: [-0.9209648473906538, 0.005115486104532007] and parameters: {'slack': 0.0018591711878786364}.\n",
            "[I 2025-10-01 22:46:29,957] Trial 6 finished with values: [-0.9249732816001398, 0.09396953245859516] and parameters: {'slack': 0.08755734725056502}.\n",
            "[I 2025-10-01 22:47:55,380] Trial 7 finished with values: [-0.9225932472292037, 0.0032022421450893226] and parameters: {'slack': 0.01133676686701445}.\n"
          ]
        },
        {
          "name": "stdout",
          "output_type": "stream",
          "text": [
            "cauchy  Knee slack: 0.014401472828461642\n"
          ]
        },
        {
          "name": "stderr",
          "output_type": "stream",
          "text": [
            "[I 2025-10-01 22:49:07,254] A new study created in memory with name: no-name-5a1c330f-e4a3-4783-b8dd-e0fed54a7c32\n"
          ]
        },
        {
          "name": "stdout",
          "output_type": "stream",
          "text": [
            "BayCoFE Selected: [ 0  4  5  6  9 10 11 12 13 16 22 23 25 26]\n",
            "Test Acc: 0.923480463096961 LogLoss: 0.1873840820752323 Mean Entropy: 0.0\n"
          ]
        },
        {
          "name": "stderr",
          "output_type": "stream",
          "text": [
            "[I 2025-10-01 22:50:46,175] Trial 0 finished with values: [-0.9225386433049484, 0.0013099624093151523] and parameters: {'slack': 0.012285916427548801}.\n",
            "[I 2025-10-01 22:52:23,696] Trial 1 finished with values: [-0.92166062985592, 0.0] and parameters: {'slack': 0.0007218018732952586}.\n",
            "[I 2025-10-01 22:53:56,006] Trial 2 finished with values: [-0.92166062985592, 0.0] and parameters: {'slack': 0.0004792414358623592}.\n",
            "[I 2025-10-01 22:55:41,987] Trial 3 finished with values: [-0.9212367269574486, 0.0] and parameters: {'slack': 0.004507588967315677}.\n",
            "[I 2025-10-01 22:57:16,279] Trial 4 finished with values: [-0.9255096097689091, 0.0012757863626233366] and parameters: {'slack': 0.014401472828461642}.\n",
            "[I 2025-10-01 22:58:48,345] Trial 5 finished with values: [-0.9212367269574486, 0.0] and parameters: {'slack': 0.0018591711878786364}.\n",
            "[I 2025-10-01 23:00:15,458] Trial 6 finished with values: [-0.9237039890093697, 0.0451345958572822] and parameters: {'slack': 0.08755734725056502}.\n",
            "[I 2025-10-01 23:01:54,701] Trial 7 finished with values: [-0.9225386433049484, 0.0013119816382901701] and parameters: {'slack': 0.01133676686701445}.\n"
          ]
        },
        {
          "name": "stdout",
          "output_type": "stream",
          "text": [
            "laplace  Knee slack: 0.0007218018732952586\n"
          ]
        },
        {
          "name": "stderr",
          "output_type": "stream",
          "text": [
            "[I 2025-10-01 23:03:07,066] A new study created in memory with name: no-name-3ca2e638-ffa1-4076-bac9-05c26d9d12ed\n"
          ]
        },
        {
          "name": "stdout",
          "output_type": "stream",
          "text": [
            "BayCoFE Selected: [ 0  4  5  6  9 11 12 13 16 22 23 25 26]\n",
            "Test Acc: 0.9220332850940666 LogLoss: 0.19351933452761405 Mean Entropy: 0.0\n"
          ]
        },
        {
          "name": "stderr",
          "output_type": "stream",
          "text": [
            "[I 2025-10-01 23:04:42,732] Trial 0 finished with values: [-0.9255096097689091, 0.0013099624093151523] and parameters: {'slack': 0.012285916427548801}.\n",
            "[I 2025-10-01 23:06:24,890] Trial 1 finished with values: [-0.92166062985592, 0.0] and parameters: {'slack': 0.0007218018732952586}.\n",
            "[I 2025-10-01 23:07:59,182] Trial 2 finished with values: [-0.92166062985592, 0.0] and parameters: {'slack': 0.0004792414358623592}.\n",
            "[I 2025-10-01 23:09:46,246] Trial 3 finished with values: [-0.9212367269574486, 0.0] and parameters: {'slack': 0.004507588967315677}.\n",
            "[I 2025-10-01 23:11:21,216] Trial 4 finished with values: [-0.9255096097689091, 0.0012757863626233366] and parameters: {'slack': 0.014401472828461642}.\n",
            "[I 2025-10-01 23:12:56,410] Trial 5 finished with values: [-0.9212367269574486, 0.0] and parameters: {'slack': 0.0018591711878786364}.\n",
            "[I 2025-10-01 23:14:33,225] Trial 6 finished with values: [-0.9232969894419909, 0.01230103164845702] and parameters: {'slack': 0.08755734725056502}.\n",
            "[I 2025-10-01 23:16:08,662] Trial 7 finished with values: [-0.9255096097689091, 0.0013119816382901701] and parameters: {'slack': 0.01133676686701445}.\n"
          ]
        },
        {
          "name": "stdout",
          "output_type": "stream",
          "text": [
            "studentt  Knee slack: 0.0007218018732952586\n"
          ]
        },
        {
          "name": "stderr",
          "output_type": "stream",
          "text": [
            "[I 2025-10-01 23:17:20,531] A new study created in memory with name: no-name-ab5f5cee-f6d4-4e88-955d-e3c40828407c\n"
          ]
        },
        {
          "name": "stdout",
          "output_type": "stream",
          "text": [
            "BayCoFE Selected: [ 0  4  5  6  9 11 12 13 16 22 23 25 26]\n",
            "Test Acc: 0.9220332850940666 LogLoss: 0.19351933452761405 Mean Entropy: 0.0\n"
          ]
        },
        {
          "name": "stderr",
          "output_type": "stream",
          "text": [
            "[I 2025-10-01 23:18:53,813] Trial 0 finished with values: [-0.9255096097689091, 0.0013099624093151523] and parameters: {'slack': 0.012285916427548801}.\n",
            "[I 2025-10-01 23:20:32,861] Trial 1 finished with values: [-0.92166062985592, 0.0] and parameters: {'slack': 0.0007218018732952586}.\n",
            "[I 2025-10-01 23:21:58,683] Trial 2 finished with values: [-0.92166062985592, 0.0] and parameters: {'slack': 0.0004792414358623592}.\n",
            "[I 2025-10-01 23:23:42,688] Trial 3 finished with values: [-0.9212367269574486, 0.0] and parameters: {'slack': 0.004507588967315677}.\n",
            "[I 2025-10-01 23:25:15,208] Trial 4 finished with values: [-0.9255096097689091, 0.0012757863626233366] and parameters: {'slack': 0.014401472828461642}.\n",
            "[I 2025-10-01 23:26:45,530] Trial 5 finished with values: [-0.9212367269574486, 0.0] and parameters: {'slack': 0.0018591711878786364}.\n",
            "[I 2025-10-01 23:28:18,079] Trial 6 finished with values: [-0.9232969894419909, 0.01230103164845702] and parameters: {'slack': 0.08755734725056502}.\n",
            "[I 2025-10-01 23:29:50,126] Trial 7 finished with values: [-0.9255096097689091, 0.0013119816382901701] and parameters: {'slack': 0.01133676686701445}.\n"
          ]
        },
        {
          "name": "stdout",
          "output_type": "stream",
          "text": [
            "cauchy  Knee slack: 0.0007218018732952586\n"
          ]
        },
        {
          "name": "stderr",
          "output_type": "stream",
          "text": [
            "[I 2025-10-01 23:31:02,272] A new study created in memory with name: no-name-78c423d6-51d4-44c7-bbbc-f6dcbde25c2f\n"
          ]
        },
        {
          "name": "stdout",
          "output_type": "stream",
          "text": [
            "BayCoFE Selected: [ 0  4  5  6  9 11 12 13 16 22 23 25 26]\n",
            "Test Acc: 0.9220332850940666 LogLoss: 0.19351933452761405 Mean Entropy: 0.0\n"
          ]
        },
        {
          "name": "stderr",
          "output_type": "stream",
          "text": [
            "[I 2025-10-01 23:32:27,659] Trial 0 finished with values: [-0.9210701090236311, 0.001334677194403814] and parameters: {'slack': 0.012285916427548801}.\n",
            "[I 2025-10-01 23:33:52,809] Trial 1 finished with values: [-0.91864589006373, 0.0] and parameters: {'slack': 0.0007218018732952586}.\n",
            "[I 2025-10-01 23:35:15,731] Trial 2 finished with values: [-0.91864589006373, 0.0] and parameters: {'slack': 0.0004792414358623592}.\n",
            "[I 2025-10-01 23:36:40,572] Trial 3 finished with values: [-0.9205150891817229, 0.0014441094210780516] and parameters: {'slack': 0.004507588967315677}.\n",
            "[I 2025-10-01 23:37:58,676] Trial 4 finished with values: [-0.9207324554283576, 0.002639202612460941] and parameters: {'slack': 0.014401472828461642}.\n",
            "[I 2025-10-01 23:39:36,713] Trial 5 finished with values: [-0.9178529103823256, 0.0021461144720332417] and parameters: {'slack': 0.0018591711878786364}.\n",
            "[I 2025-10-01 23:41:09,404] Trial 6 finished with values: [-0.9218367814778269, 0.03625314002516246] and parameters: {'slack': 0.08755734725056502}.\n",
            "[I 2025-10-01 23:42:34,284] Trial 7 finished with values: [-0.9210701090236311, 0.0047684760501473765] and parameters: {'slack': 0.01133676686701445}.\n"
          ]
        },
        {
          "name": "stdout",
          "output_type": "stream",
          "text": [
            "laplace  Knee slack: 0.012285916427548801\n"
          ]
        },
        {
          "name": "stderr",
          "output_type": "stream",
          "text": [
            "[I 2025-10-01 23:43:57,689] A new study created in memory with name: no-name-654b6d95-4f7b-428a-bc0b-d20dccb9700a\n"
          ]
        },
        {
          "name": "stdout",
          "output_type": "stream",
          "text": [
            "BayCoFE Selected: [ 0  4  5  6  9 10 11 12 13 16 22 23 25 26]\n",
            "Test Acc: 0.9256512301013025 LogLoss: 0.1863617066384589 Mean Entropy: 0.0\n"
          ]
        },
        {
          "name": "stderr",
          "output_type": "stream",
          "text": [
            "[I 2025-10-01 23:45:10,315] Trial 0 finished with values: [-0.9199728190751646, 0.06393716156531735] and parameters: {'slack': 0.012285916427548801}.\n",
            "[I 2025-10-01 23:46:34,842] Trial 1 finished with values: [-0.91864589006373, 0.0] and parameters: {'slack': 0.0007218018732952586}.\n",
            "[I 2025-10-01 23:47:59,645] Trial 2 finished with values: [-0.91864589006373, 0.0] and parameters: {'slack': 0.0004792414358623592}.\n",
            "[I 2025-10-01 23:49:32,017] Trial 3 finished with values: [-0.9205150891817229, 0.0014441094210780516] and parameters: {'slack': 0.004507588967315677}.\n",
            "[I 2025-10-01 23:50:52,854] Trial 4 finished with values: [-0.9220245040017525, 0.009048829316880209] and parameters: {'slack': 0.014401472828461642}.\n",
            "[I 2025-10-01 23:52:35,059] Trial 5 finished with values: [-0.9178529103823256, 0.0021461144720332417] and parameters: {'slack': 0.0018591711878786364}.\n",
            "[I 2025-10-01 23:53:57,793] Trial 6 finished with values: [-0.9229603017693369, 0.09124203999720157] and parameters: {'slack': 0.08755734725056502}.\n",
            "[I 2025-10-01 23:55:12,398] Trial 7 finished with values: [-0.9199728190751646, 0.06069715152773171] and parameters: {'slack': 0.01133676686701445}.\n"
          ]
        },
        {
          "name": "stdout",
          "output_type": "stream",
          "text": [
            "studentt  Knee slack: 0.014401472828461642\n"
          ]
        },
        {
          "name": "stderr",
          "output_type": "stream",
          "text": [
            "[I 2025-10-01 23:56:37,167] A new study created in memory with name: no-name-e5b6c3f3-5ea7-480f-ac94-974caa8f634e\n"
          ]
        },
        {
          "name": "stdout",
          "output_type": "stream",
          "text": [
            "BayCoFE Selected: [ 0  4  5  6  9 10 11 12 13 16 22 23 25 26]\n",
            "Test Acc: 0.9256512301013025 LogLoss: 0.1863617066384589 Mean Entropy: 0.0\n"
          ]
        },
        {
          "name": "stderr",
          "output_type": "stream",
          "text": [
            "[I 2025-10-01 23:57:51,176] Trial 0 finished with values: [-0.9199728190751646, 0.06393716156531735] and parameters: {'slack': 0.012285916427548801}.\n",
            "[I 2025-10-01 23:59:16,895] Trial 1 finished with values: [-0.91864589006373, 0.0] and parameters: {'slack': 0.0007218018732952586}.\n",
            "[I 2025-10-02 00:00:41,500] Trial 2 finished with values: [-0.91864589006373, 0.0] and parameters: {'slack': 0.0004792414358623592}.\n",
            "[I 2025-10-02 00:02:12,968] Trial 3 finished with values: [-0.9205150891817229, 0.0014441094210780516] and parameters: {'slack': 0.004507588967315677}.\n",
            "[I 2025-10-02 00:03:24,367] Trial 4 finished with values: [-0.9199728190751646, 0.06348455601734344] and parameters: {'slack': 0.014401472828461642}.\n",
            "[I 2025-10-02 00:05:01,297] Trial 5 finished with values: [-0.9178529103823256, 0.0021461144720332417] and parameters: {'slack': 0.0018591711878786364}.\n",
            "[I 2025-10-02 00:06:21,286] Trial 6 finished with values: [-0.9229603017693369, 0.09124203999720157] and parameters: {'slack': 0.08755734725056502}.\n",
            "[I 2025-10-02 00:07:39,217] Trial 7 finished with values: [-0.9207324554283576, 0.0047684760501473765] and parameters: {'slack': 0.01133676686701445}.\n"
          ]
        },
        {
          "name": "stdout",
          "output_type": "stream",
          "text": [
            "cauchy  Knee slack: 0.01133676686701445\n"
          ]
        },
        {
          "name": "stderr",
          "output_type": "stream",
          "text": [
            "[I 2025-10-02 00:09:03,365] A new study created in memory with name: no-name-008f1e89-99fb-4664-901e-b7a1d6f616f1\n"
          ]
        },
        {
          "name": "stdout",
          "output_type": "stream",
          "text": [
            "BayCoFE Selected: [ 0  4  5  6  9 10 11 12 13 16 22 23 25 26]\n",
            "Test Acc: 0.9256512301013025 LogLoss: 0.1863617066384589 Mean Entropy: 0.0\n"
          ]
        },
        {
          "name": "stderr",
          "output_type": "stream",
          "text": [
            "[I 2025-10-02 00:10:23,174] Trial 0 finished with values: [-0.9230842919340316, 0.026504884224696143] and parameters: {'slack': 0.012285916427548801}.\n",
            "[I 2025-10-02 00:11:47,053] Trial 1 finished with values: [-0.9232263956561526, 0.0] and parameters: {'slack': 0.0007218018732952586}.\n",
            "[I 2025-10-02 00:13:12,279] Trial 2 finished with values: [-0.9232263956561526, 0.0] and parameters: {'slack': 0.0004792414358623592}.\n",
            "[I 2025-10-02 00:15:03,962] Trial 3 finished with values: [-0.9232263956561526, 0.0] and parameters: {'slack': 0.004507588967315677}.\n",
            "[I 2025-10-02 00:16:21,233] Trial 4 finished with values: [-0.9230842919340316, 0.03325415894647761] and parameters: {'slack': 0.014401472828461642}.\n",
            "[I 2025-10-02 00:17:52,544] Trial 5 finished with values: [-0.9232263956561526, 0.0] and parameters: {'slack': 0.0018591711878786364}.\n",
            "[I 2025-10-02 00:19:18,239] Trial 6 finished with values: [-0.9229304048494684, 0.06308492653377136] and parameters: {'slack': 0.08755734725056502}.\n",
            "[I 2025-10-02 00:20:36,791] Trial 7 finished with values: [-0.9230842919340316, 0.0331241989967467] and parameters: {'slack': 0.01133676686701445}.\n"
          ]
        },
        {
          "name": "stdout",
          "output_type": "stream",
          "text": [
            "laplace  Knee slack: 0.0007218018732952586\n"
          ]
        },
        {
          "name": "stderr",
          "output_type": "stream",
          "text": [
            "[I 2025-10-02 00:21:56,579] A new study created in memory with name: no-name-5deb12b8-9f0b-4bfb-b5d8-5f72cc330830\n"
          ]
        },
        {
          "name": "stdout",
          "output_type": "stream",
          "text": [
            "BayCoFE Selected: [ 0  4  5  6 11 12 13 23 25 26]\n",
            "Test Acc: 0.9198625180897251 LogLoss: 0.19623093903937125 Mean Entropy: 0.0\n"
          ]
        },
        {
          "name": "stderr",
          "output_type": "stream",
          "text": [
            "[I 2025-10-02 00:23:18,103] Trial 0 finished with values: [-0.9230842919340316, 0.026504884224696143] and parameters: {'slack': 0.012285916427548801}.\n",
            "[I 2025-10-02 00:24:44,366] Trial 1 finished with values: [-0.9232263956561526, 0.0] and parameters: {'slack': 0.0007218018732952586}.\n",
            "[I 2025-10-02 00:26:10,742] Trial 2 finished with values: [-0.9232263956561526, 0.0] and parameters: {'slack': 0.0004792414358623592}.\n",
            "[I 2025-10-02 00:27:37,523] Trial 3 finished with values: [-0.9241931365717722, 0.0] and parameters: {'slack': 0.004507588967315677}.\n",
            "[I 2025-10-02 00:28:57,374] Trial 4 finished with values: [-0.9230842919340316, 0.03325415894647761] and parameters: {'slack': 0.014401472828461642}.\n",
            "[I 2025-10-02 00:30:29,838] Trial 5 finished with values: [-0.9232263956561526, 0.0] and parameters: {'slack': 0.0018591711878786364}.\n",
            "[I 2025-10-02 00:32:04,831] Trial 6 finished with values: [-0.9229304048494684, 0.06308492653377136] and parameters: {'slack': 0.08755734725056502}.\n",
            "[I 2025-10-02 00:33:24,309] Trial 7 finished with values: [-0.9230842919340316, 0.0331241989967467] and parameters: {'slack': 0.01133676686701445}.\n"
          ]
        },
        {
          "name": "stdout",
          "output_type": "stream",
          "text": [
            "studentt  Knee slack: 0.004507588967315677\n"
          ]
        },
        {
          "name": "stderr",
          "output_type": "stream",
          "text": [
            "[I 2025-10-02 00:34:36,486] A new study created in memory with name: no-name-5a8d73c0-a0fc-4aa6-8df5-f1428b490ff7\n"
          ]
        },
        {
          "name": "stdout",
          "output_type": "stream",
          "text": [
            "BayCoFE Selected: [ 0  4  5  6  9 11 12 13 16 22 23 25 26]\n",
            "Test Acc: 0.9209479015918958 LogLoss: 0.18927516105867018 Mean Entropy: 0.0\n"
          ]
        },
        {
          "name": "stderr",
          "output_type": "stream",
          "text": [
            "[I 2025-10-02 00:35:55,242] Trial 0 finished with values: [-0.9230842919340316, 0.026504884224696143] and parameters: {'slack': 0.012285916427548801}.\n",
            "[I 2025-10-02 00:37:20,104] Trial 1 finished with values: [-0.9232263956561526, 0.0] and parameters: {'slack': 0.0007218018732952586}.\n",
            "[I 2025-10-02 00:38:43,823] Trial 2 finished with values: [-0.9232263956561526, 0.0] and parameters: {'slack': 0.0004792414358623592}.\n",
            "[I 2025-10-02 00:40:34,071] Trial 3 finished with values: [-0.9232263956561526, 0.0] and parameters: {'slack': 0.004507588967315677}.\n",
            "[I 2025-10-02 00:41:52,087] Trial 4 finished with values: [-0.9230842919340316, 0.03325415894647761] and parameters: {'slack': 0.014401472828461642}.\n",
            "[I 2025-10-02 00:43:23,642] Trial 5 finished with values: [-0.9232263956561526, 0.0] and parameters: {'slack': 0.0018591711878786364}.\n",
            "[I 2025-10-02 00:44:56,494] Trial 6 finished with values: [-0.9229304048494684, 0.06308492653377136] and parameters: {'slack': 0.08755734725056502}.\n",
            "[I 2025-10-02 00:46:14,132] Trial 7 finished with values: [-0.9230842919340316, 0.0331241989967467] and parameters: {'slack': 0.01133676686701445}.\n"
          ]
        },
        {
          "name": "stdout",
          "output_type": "stream",
          "text": [
            "cauchy  Knee slack: 0.0007218018732952586\n"
          ]
        },
        {
          "name": "stderr",
          "output_type": "stream",
          "text": [
            "[I 2025-10-02 00:47:31,565] A new study created in memory with name: no-name-e6f62d20-8b10-4a6c-b67b-cc1f3e9949db\n"
          ]
        },
        {
          "name": "stdout",
          "output_type": "stream",
          "text": [
            "BayCoFE Selected: [ 0  4  5  6 11 12 13 23 25 26]\n",
            "Test Acc: 0.9198625180897251 LogLoss: 0.19623093903937125 Mean Entropy: 0.0\n"
          ]
        },
        {
          "name": "stderr",
          "output_type": "stream",
          "text": [
            "[I 2025-10-02 00:48:56,666] Trial 0 finished with values: [-0.920452740202286, 0.005643832441029853] and parameters: {'slack': 0.012285916427548801}.\n",
            "[I 2025-10-02 00:50:20,526] Trial 1 finished with values: [-0.9215173182610745, 0.0] and parameters: {'slack': 0.0007218018732952586}.\n",
            "[I 2025-10-02 00:51:51,198] Trial 2 finished with values: [-0.9207702591762088, 0.0] and parameters: {'slack': 0.0004792414358623592}.\n",
            "[I 2025-10-02 00:53:16,145] Trial 3 finished with values: [-0.9208290342350446, 0.0014135923097765232] and parameters: {'slack': 0.004507588967315677}.\n",
            "[I 2025-10-02 00:54:39,388] Trial 4 finished with values: [-0.920452740202286, 0.0031050136100905412] and parameters: {'slack': 0.014401472828461642}.\n",
            "[I 2025-10-02 00:55:56,013] Trial 5 finished with values: [-0.9208290342350446, 0.0014198452913702696] and parameters: {'slack': 0.0018591711878786364}.\n",
            "[I 2025-10-02 00:57:14,618] Trial 6 finished with values: [-0.9257340840083226, 0.007089930001123876] and parameters: {'slack': 0.08755734725056502}.\n",
            "[I 2025-10-02 00:58:38,683] Trial 7 finished with values: [-0.920452740202286, 0.0] and parameters: {'slack': 0.01133676686701445}.\n"
          ]
        },
        {
          "name": "stdout",
          "output_type": "stream",
          "text": [
            "laplace  Knee slack: 0.0007218018732952586\n"
          ]
        },
        {
          "name": "stderr",
          "output_type": "stream",
          "text": [
            "[I 2025-10-02 00:59:55,873] A new study created in memory with name: no-name-c22a12e4-f7fb-4ffc-adc3-c07b292ecac7\n"
          ]
        },
        {
          "name": "stdout",
          "output_type": "stream",
          "text": [
            "BayCoFE Selected: [ 0  4  5  6 11 12 13 23 25 26]\n",
            "Test Acc: 0.9200434153400868 LogLoss: 0.1966543689067218 Mean Entropy: 0.0\n"
          ]
        },
        {
          "name": "stderr",
          "output_type": "stream",
          "text": [
            "[I 2025-10-02 01:01:22,798] Trial 0 finished with values: [-0.920452740202286, 0.005643832441029853] and parameters: {'slack': 0.012285916427548801}.\n",
            "[I 2025-10-02 01:02:42,014] Trial 1 finished with values: [-0.9208290342350446, 0.0015368966631449125] and parameters: {'slack': 0.0007218018732952586}.\n",
            "[I 2025-10-02 01:04:15,039] Trial 2 finished with values: [-0.9207702591762088, 0.0] and parameters: {'slack': 0.0004792414358623592}.\n",
            "[I 2025-10-02 01:05:41,840] Trial 3 finished with values: [-0.9208290342350446, 0.0014135923097765232] and parameters: {'slack': 0.004507588967315677}.\n",
            "[I 2025-10-02 01:07:15,583] Trial 4 finished with values: [-0.920452740202286, 0.0031050136100905412] and parameters: {'slack': 0.014401472828461642}.\n",
            "[I 2025-10-02 01:08:36,012] Trial 5 finished with values: [-0.9208290342350446, 0.0014198452913702696] and parameters: {'slack': 0.0018591711878786364}.\n",
            "[I 2025-10-02 01:10:04,891] Trial 6 finished with values: [-0.9255477142907744, 0.013035423676106613] and parameters: {'slack': 0.08755734725056502}.\n",
            "[I 2025-10-02 01:11:30,815] Trial 7 finished with values: [-0.920452740202286, 0.0] and parameters: {'slack': 0.01133676686701445}.\n"
          ]
        },
        {
          "name": "stdout",
          "output_type": "stream",
          "text": [
            "studentt  Knee slack: 0.004507588967315677\n"
          ]
        },
        {
          "name": "stderr",
          "output_type": "stream",
          "text": [
            "[I 2025-10-02 01:12:53,725] A new study created in memory with name: no-name-c8248a61-0a9d-49fc-b02d-aaba1ea19f67\n"
          ]
        },
        {
          "name": "stdout",
          "output_type": "stream",
          "text": [
            "BayCoFE Selected: [ 0  4  5  6  9 10 11 12 13 22 23 25 26]\n",
            "Test Acc: 0.9227568740955138 LogLoss: 0.19053601624648267 Mean Entropy: 0.0\n"
          ]
        },
        {
          "name": "stderr",
          "output_type": "stream",
          "text": [
            "[I 2025-10-02 01:14:18,329] Trial 0 finished with values: [-0.920452740202286, 0.005643832441029853] and parameters: {'slack': 0.012285916427548801}.\n",
            "[I 2025-10-02 01:15:34,789] Trial 1 finished with values: [-0.9208290342350446, 0.0015368966631449125] and parameters: {'slack': 0.0007218018732952586}.\n",
            "[I 2025-10-02 01:17:05,847] Trial 2 finished with values: [-0.9207702591762088, 0.0] and parameters: {'slack': 0.0004792414358623592}.\n",
            "[I 2025-10-02 01:18:30,568] Trial 3 finished with values: [-0.9208290342350446, 0.0014135923097765232] and parameters: {'slack': 0.004507588967315677}.\n",
            "[I 2025-10-02 01:20:02,414] Trial 4 finished with values: [-0.920452740202286, 0.0031050136100905412] and parameters: {'slack': 0.014401472828461642}.\n",
            "[I 2025-10-02 01:21:20,125] Trial 5 finished with values: [-0.9208290342350446, 0.0014198452913702696] and parameters: {'slack': 0.0018591711878786364}.\n",
            "[I 2025-10-02 01:22:46,105] Trial 6 finished with values: [-0.9255477142907744, 0.013035423676106613] and parameters: {'slack': 0.08755734725056502}.\n",
            "[I 2025-10-02 01:24:10,776] Trial 7 finished with values: [-0.920452740202286, 0.0] and parameters: {'slack': 0.01133676686701445}.\n"
          ]
        },
        {
          "name": "stdout",
          "output_type": "stream",
          "text": [
            "cauchy  Knee slack: 0.004507588967315677\n"
          ]
        },
        {
          "name": "stderr",
          "output_type": "stream",
          "text": [
            "[I 2025-10-02 01:25:32,214] A new study created in memory with name: no-name-94da81df-c36b-4610-91fe-d1e3aecaff23\n"
          ]
        },
        {
          "name": "stdout",
          "output_type": "stream",
          "text": [
            "BayCoFE Selected: [ 0  4  5  6  9 10 11 12 13 22 23 25 26]\n",
            "Test Acc: 0.9227568740955138 LogLoss: 0.19053601624648267 Mean Entropy: 0.0\n"
          ]
        },
        {
          "name": "stderr",
          "output_type": "stream",
          "text": [
            "[I 2025-10-02 01:27:05,733] Trial 0 finished with values: [-0.925553453327951, 0.0014475314987966335] and parameters: {'slack': 0.012285916427548801}.\n",
            "[I 2025-10-02 01:28:37,565] Trial 1 finished with values: [-0.921584929813644, 0.0] and parameters: {'slack': 0.0007218018732952586}.\n",
            "[I 2025-10-02 01:30:08,781] Trial 2 finished with values: [-0.921584929813644, 0.0] and parameters: {'slack': 0.0004792414358623592}.\n",
            "[I 2025-10-02 01:31:34,150] Trial 3 finished with values: [-0.925553453327951, 0.001749699585834824] and parameters: {'slack': 0.004507588967315677}.\n",
            "[I 2025-10-02 01:33:05,168] Trial 4 finished with values: [-0.925553453327951, 0.0] and parameters: {'slack': 0.014401472828461642}.\n",
            "[I 2025-10-02 01:34:22,771] Trial 5 finished with values: [-0.9229383874059129, 0.0] and parameters: {'slack': 0.0018591711878786364}.\n",
            "[I 2025-10-02 01:35:48,831] Trial 6 finished with values: [-0.9269867119469031, 0.029831981090718673] and parameters: {'slack': 0.08755734725056502}.\n",
            "[I 2025-10-02 01:37:20,312] Trial 7 finished with values: [-0.925553453327951, 0.0] and parameters: {'slack': 0.01133676686701445}.\n"
          ]
        },
        {
          "name": "stdout",
          "output_type": "stream",
          "text": [
            "laplace  Knee slack: 0.014401472828461642\n"
          ]
        },
        {
          "name": "stderr",
          "output_type": "stream",
          "text": [
            "[I 2025-10-02 01:38:44,090] A new study created in memory with name: no-name-070b735a-51d4-4db8-8061-7e8cfdcb8aa6\n"
          ]
        },
        {
          "name": "stdout",
          "output_type": "stream",
          "text": [
            "BayCoFE Selected: [ 0  4  5  6  9 10 11 12 13 16 22 23 25 26]\n",
            "Test Acc: 0.9205861070911722 LogLoss: 0.18922777226727505 Mean Entropy: 0.0\n"
          ]
        },
        {
          "name": "stderr",
          "output_type": "stream",
          "text": [
            "[I 2025-10-02 01:40:17,972] Trial 0 finished with values: [-0.925553453327951, 0.0014475314987966335] and parameters: {'slack': 0.012285916427548801}.\n",
            "[I 2025-10-02 01:41:50,344] Trial 1 finished with values: [-0.921584929813644, 0.0] and parameters: {'slack': 0.0007218018732952586}.\n",
            "[I 2025-10-02 01:43:22,187] Trial 2 finished with values: [-0.921584929813644, 0.0] and parameters: {'slack': 0.0004792414358623592}.\n",
            "[I 2025-10-02 01:44:48,712] Trial 3 finished with values: [-0.925553453327951, 0.001749699585834824] and parameters: {'slack': 0.004507588967315677}.\n",
            "[I 2025-10-02 01:46:29,460] Trial 4 finished with values: [-0.925553453327951, 0.0] and parameters: {'slack': 0.014401472828461642}.\n",
            "[I 2025-10-02 01:47:57,263] Trial 5 finished with values: [-0.925553453327951, 0.0] and parameters: {'slack': 0.0018591711878786364}.\n",
            "[I 2025-10-02 01:49:23,835] Trial 6 finished with values: [-0.9269867119469031, 0.029831981090718673] and parameters: {'slack': 0.08755734725056502}.\n",
            "[I 2025-10-02 01:50:58,372] Trial 7 finished with values: [-0.925553453327951, 0.0] and parameters: {'slack': 0.01133676686701445}.\n"
          ]
        },
        {
          "name": "stdout",
          "output_type": "stream",
          "text": [
            "studentt  Knee slack: 0.014401472828461642\n"
          ]
        },
        {
          "name": "stderr",
          "output_type": "stream",
          "text": [
            "[I 2025-10-02 01:52:23,515] A new study created in memory with name: no-name-f9fc61cd-c7ee-4b76-b9b4-7c1c59a6cde5\n"
          ]
        },
        {
          "name": "stdout",
          "output_type": "stream",
          "text": [
            "BayCoFE Selected: [ 0  4  5  6  9 10 11 12 13 16 22 23 25 26]\n",
            "Test Acc: 0.9205861070911722 LogLoss: 0.18922777226727505 Mean Entropy: 0.0\n"
          ]
        },
        {
          "name": "stderr",
          "output_type": "stream",
          "text": [
            "[I 2025-10-02 01:53:56,146] Trial 0 finished with values: [-0.925553453327951, 0.0014475314987966335] and parameters: {'slack': 0.012285916427548801}.\n",
            "[I 2025-10-02 01:55:29,106] Trial 1 finished with values: [-0.921584929813644, 0.0] and parameters: {'slack': 0.0007218018732952586}.\n",
            "[I 2025-10-02 01:57:00,874] Trial 2 finished with values: [-0.921584929813644, 0.0] and parameters: {'slack': 0.0004792414358623592}.\n",
            "[I 2025-10-02 01:58:27,487] Trial 3 finished with values: [-0.925553453327951, 0.001749699585834824] and parameters: {'slack': 0.004507588967315677}.\n",
            "[I 2025-10-02 02:00:07,194] Trial 4 finished with values: [-0.925553453327951, 0.0] and parameters: {'slack': 0.014401472828461642}.\n",
            "[I 2025-10-02 02:01:30,788] Trial 5 finished with values: [-0.925553453327951, 0.0] and parameters: {'slack': 0.0018591711878786364}.\n",
            "[I 2025-10-02 02:02:56,836] Trial 6 finished with values: [-0.9269867119469031, 0.029831981090718673] and parameters: {'slack': 0.08755734725056502}.\n",
            "[I 2025-10-02 02:04:27,419] Trial 7 finished with values: [-0.925553453327951, 0.0] and parameters: {'slack': 0.01133676686701445}.\n"
          ]
        },
        {
          "name": "stdout",
          "output_type": "stream",
          "text": [
            "cauchy  Knee slack: 0.014401472828461642\n"
          ]
        },
        {
          "name": "stderr",
          "output_type": "stream",
          "text": [
            "[I 2025-10-02 02:05:51,414] A new study created in memory with name: no-name-2555d574-efb1-4d70-940a-03733012bb1e\n"
          ]
        },
        {
          "name": "stdout",
          "output_type": "stream",
          "text": [
            "BayCoFE Selected: [ 0  4  5  6  9 10 11 12 13 16 22 23 25 26]\n",
            "Test Acc: 0.9205861070911722 LogLoss: 0.18922777226727505 Mean Entropy: 0.0\n"
          ]
        },
        {
          "name": "stderr",
          "output_type": "stream",
          "text": [
            "[I 2025-10-02 02:07:04,667] Trial 0 finished with values: [-0.9194791672024926, 0.04692543452013802] and parameters: {'slack': 0.012285916427548801}.\n",
            "[I 2025-10-02 02:08:42,346] Trial 1 finished with values: [-0.9179395315594616, 0.0] and parameters: {'slack': 0.0007218018732952586}.\n",
            "[I 2025-10-02 02:10:19,472] Trial 2 finished with values: [-0.9179395315594616, 0.0] and parameters: {'slack': 0.0004792414358623592}.\n",
            "[I 2025-10-02 02:11:37,038] Trial 3 finished with values: [-0.9187214354704452, 0.017609754527681373] and parameters: {'slack': 0.004507588967315677}.\n",
            "[I 2025-10-02 02:12:47,278] Trial 4 finished with values: [-0.9194791672024926, 0.05049346838208146] and parameters: {'slack': 0.014401472828461642}.\n",
            "[I 2025-10-02 02:14:04,327] Trial 5 finished with values: [-0.9171015355371166, 0.00893193337926569] and parameters: {'slack': 0.0018591711878786364}.\n",
            "[I 2025-10-02 02:15:30,252] Trial 6 finished with values: [-0.9196881664092439, 0.027171467400457342] and parameters: {'slack': 0.08755734725056502}.\n",
            "[I 2025-10-02 02:16:42,838] Trial 7 finished with values: [-0.9194791672024926, 0.05090483516541101] and parameters: {'slack': 0.01133676686701445}.\n"
          ]
        },
        {
          "name": "stdout",
          "output_type": "stream",
          "text": [
            "laplace  Knee slack: 0.004507588967315677\n"
          ]
        },
        {
          "name": "stderr",
          "output_type": "stream",
          "text": [
            "[I 2025-10-02 02:18:02,510] A new study created in memory with name: no-name-b4a162a3-d299-46d5-88cc-59ee964a966f\n"
          ]
        },
        {
          "name": "stdout",
          "output_type": "stream",
          "text": [
            "BayCoFE Selected: [ 0  4  5  6 10 11 12 13 23 25 26]\n",
            "Test Acc: 0.9223950795947902 LogLoss: 0.18979171117929047 Mean Entropy: 0.0\n"
          ]
        },
        {
          "name": "stderr",
          "output_type": "stream",
          "text": [
            "[I 2025-10-02 02:19:17,993] Trial 0 finished with values: [-0.9194791672024926, 0.04692543452013802] and parameters: {'slack': 0.012285916427548801}.\n",
            "[I 2025-10-02 02:20:50,813] Trial 1 finished with values: [-0.9181426251803775, 0.0] and parameters: {'slack': 0.0007218018732952586}.\n",
            "[I 2025-10-02 02:22:30,168] Trial 2 finished with values: [-0.9179395315594616, 0.0] and parameters: {'slack': 0.0004792414358623592}.\n",
            "[I 2025-10-02 02:23:42,286] Trial 3 finished with values: [-0.9194791672024926, 0.0559976012000155] and parameters: {'slack': 0.004507588967315677}.\n",
            "[I 2025-10-02 02:24:54,937] Trial 4 finished with values: [-0.9194791672024926, 0.05049346838208146] and parameters: {'slack': 0.014401472828461642}.\n",
            "[I 2025-10-02 02:26:14,353] Trial 5 finished with values: [-0.9171015355371166, 0.00893193337926569] and parameters: {'slack': 0.0018591711878786364}.\n",
            "[I 2025-10-02 02:27:35,165] Trial 6 finished with values: [-0.9204088119247654, 0.02740820116047985] and parameters: {'slack': 0.08755734725056502}.\n",
            "[I 2025-10-02 02:28:47,858] Trial 7 finished with values: [-0.9194791672024926, 0.05090483516541101] and parameters: {'slack': 0.01133676686701445}.\n"
          ]
        },
        {
          "name": "stdout",
          "output_type": "stream",
          "text": [
            "studentt  Knee slack: 0.0007218018732952586\n"
          ]
        },
        {
          "name": "stderr",
          "output_type": "stream",
          "text": [
            "[I 2025-10-02 02:30:06,961] A new study created in memory with name: no-name-e8dbfa4e-8550-4cd1-809e-a9e333c85634\n"
          ]
        },
        {
          "name": "stdout",
          "output_type": "stream",
          "text": [
            "BayCoFE Selected: [ 0  4  5  6 11 12 13 23 25 26]\n",
            "Test Acc: 0.921671490593343 LogLoss: 0.1913142424104454 Mean Entropy: 0.0\n"
          ]
        },
        {
          "name": "stderr",
          "output_type": "stream",
          "text": [
            "[I 2025-10-02 02:31:19,615] Trial 0 finished with values: [-0.9194791672024926, 0.04692543452013802] and parameters: {'slack': 0.012285916427548801}.\n",
            "[I 2025-10-02 02:32:51,221] Trial 1 finished with values: [-0.9181426251803775, 0.0] and parameters: {'slack': 0.0007218018732952586}.\n",
            "[I 2025-10-02 02:34:28,605] Trial 2 finished with values: [-0.9179395315594616, 0.0] and parameters: {'slack': 0.0004792414358623592}.\n",
            "[I 2025-10-02 02:35:40,635] Trial 3 finished with values: [-0.9194791672024926, 0.0559976012000155] and parameters: {'slack': 0.004507588967315677}.\n",
            "[I 2025-10-02 02:36:52,212] Trial 4 finished with values: [-0.9194791672024926, 0.05049346838208146] and parameters: {'slack': 0.014401472828461642}.\n",
            "[I 2025-10-02 02:38:09,655] Trial 5 finished with values: [-0.9171015355371166, 0.00893193337926569] and parameters: {'slack': 0.0018591711878786364}.\n",
            "[I 2025-10-02 02:39:28,261] Trial 6 finished with values: [-0.9204088119247654, 0.02740820116047985] and parameters: {'slack': 0.08755734725056502}.\n",
            "[I 2025-10-02 02:40:39,892] Trial 7 finished with values: [-0.9194791672024926, 0.05090483516541101] and parameters: {'slack': 0.01133676686701445}.\n"
          ]
        },
        {
          "name": "stdout",
          "output_type": "stream",
          "text": [
            "cauchy  Knee slack: 0.0007218018732952586\n"
          ]
        },
        {
          "name": "stderr",
          "output_type": "stream",
          "text": [
            "[I 2025-10-02 02:41:56,944] A new study created in memory with name: no-name-00212913-0696-4ee4-8cd9-434719d76f95\n"
          ]
        },
        {
          "name": "stdout",
          "output_type": "stream",
          "text": [
            "BayCoFE Selected: [ 0  4  5  6 11 12 13 23 25 26]\n",
            "Test Acc: 0.921671490593343 LogLoss: 0.1913142424104454 Mean Entropy: 0.0\n"
          ]
        },
        {
          "name": "stderr",
          "output_type": "stream",
          "text": [
            "[I 2025-10-02 02:43:29,682] Trial 0 finished with values: [-0.9209508862023784, 0.0] and parameters: {'slack': 0.012285916427548801}.\n",
            "[I 2025-10-02 02:44:53,710] Trial 1 finished with values: [-0.9201953310079669, 0.0] and parameters: {'slack': 0.0007218018732952586}.\n",
            "[I 2025-10-02 02:46:16,757] Trial 2 finished with values: [-0.9201953310079669, 0.0] and parameters: {'slack': 0.0004792414358623592}.\n",
            "[I 2025-10-02 02:47:41,107] Trial 3 finished with values: [-0.9209508862023784, 0.0014223949790019448] and parameters: {'slack': 0.004507588967315677}.\n",
            "[I 2025-10-02 02:49:13,488] Trial 4 finished with values: [-0.9209508862023784, 0.0014292247367055201] and parameters: {'slack': 0.014401472828461642}.\n",
            "[I 2025-10-02 02:50:43,223] Trial 5 finished with values: [-0.9209372077807252, 0.0] and parameters: {'slack': 0.0018591711878786364}.\n",
            "[I 2025-10-02 02:52:09,382] Trial 6 finished with values: [-0.9217359602979589, 0.007343589314050275] and parameters: {'slack': 0.08755734725056502}.\n",
            "[I 2025-10-02 02:53:41,240] Trial 7 finished with values: [-0.9209508862023784, 0.0] and parameters: {'slack': 0.01133676686701445}.\n"
          ]
        },
        {
          "name": "stdout",
          "output_type": "stream",
          "text": [
            "laplace  Knee slack: 0.012285916427548801\n"
          ]
        },
        {
          "name": "stderr",
          "output_type": "stream",
          "text": [
            "[I 2025-10-02 02:54:52,092] A new study created in memory with name: no-name-6dd12770-060d-4681-a5e6-4bede42fc968\n"
          ]
        },
        {
          "name": "stdout",
          "output_type": "stream",
          "text": [
            "BayCoFE Selected: [ 0  4  5  6  9 11 12 13 16 22 23 25 26]\n",
            "Test Acc: 0.9205861070911722 LogLoss: 0.1956243482113733 Mean Entropy: 0.0\n"
          ]
        },
        {
          "name": "stderr",
          "output_type": "stream",
          "text": [
            "[I 2025-10-02 02:56:24,942] Trial 0 finished with values: [-0.9209508862023784, 0.0] and parameters: {'slack': 0.012285916427548801}.\n",
            "[I 2025-10-02 02:57:56,334] Trial 1 finished with values: [-0.9201953310079669, 0.0] and parameters: {'slack': 0.0007218018732952586}.\n",
            "[I 2025-10-02 02:59:21,239] Trial 2 finished with values: [-0.9201953310079669, 0.0] and parameters: {'slack': 0.0004792414358623592}.\n",
            "[I 2025-10-02 03:00:46,693] Trial 3 finished with values: [-0.9209508862023784, 0.0014223949790019448] and parameters: {'slack': 0.004507588967315677}.\n",
            "[I 2025-10-02 03:02:12,290] Trial 4 finished with values: [-0.9200491041271524, 0.0014292247367055201] and parameters: {'slack': 0.014401472828461642}.\n",
            "[I 2025-10-02 03:03:51,853] Trial 5 finished with values: [-0.9209372077807252, 0.0] and parameters: {'slack': 0.0018591711878786364}.\n",
            "[I 2025-10-02 03:05:11,979] Trial 6 finished with values: [-0.923766659192946, 0.006961402908923838] and parameters: {'slack': 0.08755734725056502}.\n",
            "[I 2025-10-02 03:06:44,101] Trial 7 finished with values: [-0.9209508862023784, 0.0] and parameters: {'slack': 0.01133676686701445}.\n"
          ]
        },
        {
          "name": "stdout",
          "output_type": "stream",
          "text": [
            "studentt  Knee slack: 0.012285916427548801\n"
          ]
        },
        {
          "name": "stderr",
          "output_type": "stream",
          "text": [
            "[I 2025-10-02 03:07:56,264] A new study created in memory with name: no-name-b5c0e639-5f45-47a4-b66e-00570f7be26e\n"
          ]
        },
        {
          "name": "stdout",
          "output_type": "stream",
          "text": [
            "BayCoFE Selected: [ 0  4  5  6  9 11 12 13 16 22 23 25 26]\n",
            "Test Acc: 0.9205861070911722 LogLoss: 0.1956243482113733 Mean Entropy: 0.0\n"
          ]
        },
        {
          "name": "stderr",
          "output_type": "stream",
          "text": [
            "[I 2025-10-02 03:09:26,591] Trial 0 finished with values: [-0.9209508862023784, 0.0] and parameters: {'slack': 0.012285916427548801}.\n",
            "[I 2025-10-02 03:10:57,335] Trial 1 finished with values: [-0.9201953310079669, 0.0] and parameters: {'slack': 0.0007218018732952586}.\n",
            "[I 2025-10-02 03:12:21,948] Trial 2 finished with values: [-0.9201953310079669, 0.0] and parameters: {'slack': 0.0004792414358623592}.\n",
            "[I 2025-10-02 03:13:45,335] Trial 3 finished with values: [-0.9209508862023784, 0.0014223949790019448] and parameters: {'slack': 0.004507588967315677}.\n",
            "[I 2025-10-02 03:15:09,895] Trial 4 finished with values: [-0.9200491041271524, 0.0014292247367055201] and parameters: {'slack': 0.014401472828461642}.\n",
            "[I 2025-10-02 03:16:47,017] Trial 5 finished with values: [-0.9209372077807252, 0.0] and parameters: {'slack': 0.0018591711878786364}.\n",
            "[I 2025-10-02 03:18:06,927] Trial 6 finished with values: [-0.923766659192946, 0.006961402908923838] and parameters: {'slack': 0.08755734725056502}.\n",
            "[I 2025-10-02 03:19:38,767] Trial 7 finished with values: [-0.9209508862023784, 0.0] and parameters: {'slack': 0.01133676686701445}.\n"
          ]
        },
        {
          "name": "stdout",
          "output_type": "stream",
          "text": [
            "cauchy  Knee slack: 0.012285916427548801\n",
            "BayCoFE Selected: [ 0  4  5  6  9 11 12 13 16 22 23 25 26]\n",
            "Test Acc: 0.9205861070911722 LogLoss: 0.1956243482113733 Mean Entropy: 0.0\n"
          ]
        }
      ],
      "source": [
        "# Final long Driver for prior test\n",
        "from sklearn.datasets import make_classification\n",
        "import pickle\n",
        "\n",
        "# --- init once ---\n",
        "save_dir = '/content/drive/MyDrive/PhD/Results/bay_cofe_new/prior_test/'\n",
        "priors = [\"gaussian\", \"laplace\", \"studentt\", \"cauchy\"]\n",
        "results = {m: {\"accuracy\": [], \"entropy\": [], \"slack\": [], \"selected\": [], \"elbo\":[]} for m in priors}\n",
        "\n",
        "def _add(method, sel_idx, metrics, estimator=None, slack_val=None):\n",
        "    # Make everything JSON-friendly (no numpy types)\n",
        "    results[method][\"accuracy\"].append(float(metrics.get(\"accuracy\", np.nan)))\n",
        "    results[method][\"entropy\"].append(\n",
        "        float(metrics.get(\"mean_entropy\")) if metrics.get(\"mean_entropy\") is not None else None\n",
        "    )\n",
        "    results[method][\"slack\"].append(None if slack_val is None else float(slack_val))\n",
        "    results[method][\"selected\"].append(np.asarray(sel_idx, dtype=int).tolist())\n",
        "\n",
        "    # Initialize ELBO key if not already\n",
        "    if \"elbo\" not in results[method]:\n",
        "        results[method][\"elbo\"] = []\n",
        "\n",
        "    # Fetch and store ELBO if estimator has it\n",
        "    if estimator is not None and hasattr(estimator, \"elbo_vals_\"):\n",
        "        elbo_vals = getattr(estimator, \"elbo_vals_\", None)\n",
        "        if elbo_vals is not None:\n",
        "            results[method][\"elbo\"].append(list(np.ravel(elbo_vals)))\n",
        "        else:\n",
        "            results[method][\"elbo\"].append(None)\n",
        "    else:\n",
        "        results[method][\"elbo\"].append(None)\n",
        "\n",
        "\n",
        "num_runs = 20\n",
        "\n",
        "X, y = get_breast_cancer_XY() # get_breast_cancer_XY() ##get_tunadromd_XY() #get_phishing_XY() #\n",
        "X = StandardScaler().fit_transform(X)\n",
        "\n",
        "for i in np.arange(0,num_runs):\n",
        "    X_tr, X_te, y_tr, y_te = train_test_split(X, y, test_size=0.5, stratify=y) #random_state=42,\n",
        "\n",
        "    # Gaussian prior\n",
        "    prior_std = 1.0\n",
        "    bayes_logit = BayesianLogisticPyMC(\n",
        "        prior_std=prior_std,prior_type=priors[0], fit_intercept=True, penalize_intercept=False,\n",
        "        advi_iters=15000, draws=3000)\n",
        "    freq_logit = LogisticRegression(penalty='l2', solver='liblinear', C=1.0, max_iter=2000, tol=1e-6)\n",
        "\n",
        "    \"\"\"\n",
        "    # Multi-objective BO for slack (TRAIN only)\n",
        "    knee_slack, study, pareto = pareto_optimize_baycofe_slack(\n",
        "        X_tr, y_tr,\n",
        "        bayes_selector_estimator=bayes_logit,\n",
        "        evaluator=freq_logit,\n",
        "        n_trials=8,           # bump up if you have time\n",
        "        cv_splits=2,\n",
        "        slack_low=1e-4, slack_high=1e-1,\n",
        "        bootstrap_for_entropy=150)\n",
        "\n",
        "    print(bayes_logit.prior_type, \" Knee slack:\", knee_slack)\n",
        "    \"\"\"\n",
        "\n",
        "    # Final train on full TRAIN with knee slack, evaluate on TEST\n",
        "    sel_idx, metrics = evaluate_feature_selection_method_cls(\n",
        "        baycofe_select_features_cls,\n",
        "        X_tr, y_tr, X_te, y_te,\n",
        "        selector_params={'estimator': bayes_logit, 'evaluator': freq_logit, 'slack': 0.0454}\n",
        "    )\n",
        "    k = len(sel_idx)\n",
        "    print(\"BayCoFE Selected:\", sel_idx)\n",
        "    print(\"Test Acc:\", metrics[\"accuracy\"], \"LogLoss:\", metrics[\"log_loss\"], \"Mean Entropy:\", metrics[\"mean_entropy\"])\n",
        "    _add(priors[0], sel_idx, metrics, estimator=bayes_logit, slack_val=0.0454)\n",
        "\n",
        "    del bayes_logit, freq_logit\n",
        "    #laplace prior\n",
        "\n",
        "    # laplace prior\n",
        "    prior_std = 1.0\n",
        "    bayes_logit = BayesianLogisticPyMC(\n",
        "        prior_std=prior_std,prior_type=priors[1], fit_intercept=True, penalize_intercept=False,\n",
        "        advi_iters=15000, draws=3000)\n",
        "    freq_logit = LogisticRegression(penalty='l2', solver='liblinear', C=1.0, max_iter=2000, tol=1e-6)\n",
        "\n",
        "    \"\"\"\n",
        "    # Multi-objective BO for slack (TRAIN only)\n",
        "    knee_slack, study, pareto = pareto_optimize_baycofe_slack(\n",
        "        X_tr, y_tr,\n",
        "        bayes_selector_estimator=bayes_logit,\n",
        "        evaluator=freq_logit,\n",
        "        n_trials=8,           # bump up if you have time\n",
        "        cv_splits=2,\n",
        "        slack_low=1e-4, slack_high=1e-1,\n",
        "        bootstrap_for_entropy=150)\n",
        "\n",
        "    print(bayes_logit.prior_type, \" Knee slack:\", knee_slack)\n",
        "    \"\"\"\n",
        "\n",
        "    # Final train on full TRAIN with knee slack, evaluate on TEST\n",
        "    sel_idx, metrics = evaluate_feature_selection_method_cls(\n",
        "        baycofe_select_features_cls,\n",
        "        X_tr, y_tr, X_te, y_te,\n",
        "        selector_params={'estimator': bayes_logit, 'evaluator': freq_logit, 'slack': 0.0454}\n",
        "    )\n",
        "    k = len(sel_idx)\n",
        "    print(\"BayCoFE Selected:\", sel_idx)\n",
        "    print(\"Test Acc:\", metrics[\"accuracy\"], \"LogLoss:\", metrics[\"log_loss\"], \"Mean Entropy:\", metrics[\"mean_entropy\"])\n",
        "    _add(priors[1], sel_idx, metrics, estimator=bayes_logit, slack_val=0.0454)\n",
        "\n",
        "    del bayes_logit, freq_logit\n",
        "    #laplace prior\n",
        "\n",
        "    # student prior\n",
        "    prior_std = 1.0\n",
        "    bayes_logit = BayesianLogisticPyMC(\n",
        "        prior_std=prior_std,prior_type=priors[2], fit_intercept=True, penalize_intercept=False,\n",
        "        advi_iters=15000, draws=3000)\n",
        "    freq_logit = LogisticRegression(penalty='l2', solver='liblinear', C=1.0, max_iter=2000, tol=1e-6)\n",
        "\n",
        "    \"\"\"\n",
        "    # Multi-objective BO for slack (TRAIN only)\n",
        "    knee_slack, study, pareto = pareto_optimize_baycofe_slack(\n",
        "        X_tr, y_tr,\n",
        "        bayes_selector_estimator=bayes_logit,\n",
        "        evaluator=freq_logit,\n",
        "        n_trials=8,           # bump up if you have time\n",
        "        cv_splits=2,\n",
        "        slack_low=1e-4, slack_high=1e-1,\n",
        "        bootstrap_for_entropy=150)\n",
        "\n",
        "    print(bayes_logit.prior_type, \" Knee slack:\", knee_slack)\n",
        "    \"\"\"\n",
        "    # Final train on full TRAIN with knee slack, evaluate on TEST\n",
        "    sel_idx, metrics = evaluate_feature_selection_method_cls(\n",
        "        baycofe_select_features_cls,\n",
        "        X_tr, y_tr, X_te, y_te,\n",
        "        selector_params={'estimator': bayes_logit, 'evaluator': freq_logit, 'slack': 0.0454}\n",
        "    )\n",
        "    k = len(sel_idx)\n",
        "    print(\"BayCoFE Selected:\", sel_idx)\n",
        "    print(\"Test Acc:\", metrics[\"accuracy\"], \"LogLoss:\", metrics[\"log_loss\"], \"Mean Entropy:\", metrics[\"mean_entropy\"])\n",
        "    _add(priors[2], sel_idx, metrics, estimator=bayes_logit, slack_val=knee_slack)\n",
        "    del bayes_logit, freq_logit\n",
        "    #student t prior\n",
        "\n",
        "\n",
        "# cauchy prior\n",
        "    prior_std = 1.0\n",
        "    bayes_logit = BayesianLogisticPyMC(\n",
        "        prior_std=prior_std,prior_type=priors[3], fit_intercept=True, penalize_intercept=False,\n",
        "        advi_iters=15000, draws=3000)\n",
        "    freq_logit = LogisticRegression(penalty='l2', solver='liblinear', C=1.0, max_iter=2000, tol=1e-6)\n",
        "\n",
        "    \"\"\"\n",
        "    # Multi-objective BO for slack (TRAIN only)\n",
        "    knee_slack, study, pareto = pareto_optimize_baycofe_slack(\n",
        "        X_tr, y_tr,\n",
        "        bayes_selector_estimator=bayes_logit,\n",
        "        evaluator=freq_logit,\n",
        "        n_trials=8,           # bump up if you have time\n",
        "        cv_splits=2,\n",
        "        slack_low=1e-4, slack_high=1e-1,\n",
        "        bootstrap_for_entropy=150)\n",
        "\n",
        "    print(bayes_logit.prior_type, \" Knee slack:\", knee_slack)\n",
        "    \"\"\"\n",
        "\n",
        "    # Final train on full TRAIN with knee slack, evaluate on TEST\n",
        "    sel_idx, metrics = evaluate_feature_selection_method_cls(\n",
        "        baycofe_select_features_cls,\n",
        "        X_tr, y_tr, X_te, y_te,\n",
        "        selector_params={'estimator': bayes_logit, 'evaluator': freq_logit, 'slack': 0.0454}\n",
        "    )\n",
        "    k = len(sel_idx)\n",
        "    print(\"BayCoFE Selected:\", sel_idx)\n",
        "    print(\"Test Acc:\", metrics[\"accuracy\"], \"LogLoss:\", metrics[\"log_loss\"], \"Mean Entropy:\", metrics[\"mean_entropy\"])\n",
        "    _add(priors[3], sel_idx, metrics, estimator=bayes_logit, slack_val=knee_slack)\n",
        "    del bayes_logit, freq_logit\n",
        "    #cauchy prior\n",
        "\n",
        "\n",
        "# save\n",
        "with open(save_dir + \"phishing_dataset_priortest_baycofe.pkl\", \"wb\") as f:\n",
        "    pickle.dump(results, f, protocol=pickle.HIGHEST_PROTOCOL)"
      ]
    },
    {
      "cell_type": "code",
      "execution_count": null,
      "metadata": {
        "colab": {
          "base_uri": "https://localhost:8080/"
        },
        "id": "QRWx-b2eHwoE",
        "outputId": "c9f7207d-7784-4e6f-8709-320c300f3cc7"
      },
      "outputs": [
        {
          "data": {
            "text/plain": [
              "{'accuracy': [0.9176917510853835, 0.9149782923299565],\n",
              " 'entropy': [0.0, 0.0],\n",
              " 'slack': [0.012285916427548801, 0.0007218018732952586],\n",
              " 'selected': [[0, 4, 5, 6, 9, 11, 12, 13, 16, 22, 23, 25, 26],\n",
              "  [4, 5, 6, 11, 12, 13, 23, 25]],\n",
              " 'elbo': [None, None]}"
            ]
          },
          "execution_count": 19,
          "metadata": {},
          "output_type": "execute_result"
        }
      ],
      "source": [
        "results['laplace']"
      ]
    },
    {
      "cell_type": "code",
      "execution_count": null,
      "metadata": {
        "colab": {
          "base_uri": "https://localhost:8080/",
          "height": 573
        },
        "id": "wfHnZtISepZ7",
        "outputId": "be4c4f57-6915-4314-b088-31161c55fec3"
      },
      "outputs": [
        {
          "data": {
            "image/png": "[encoded data removed]",
            "text/plain": [
              "<Figure size 1000x600 with 1 Axes>"
            ]
          },
          "metadata": {},
          "output_type": "display_data"
        }
      ],
      "source": [
        "\n",
        "import numpy as np\n",
        "import matplotlib.pyplot as plt\n",
        "import seaborn as sns\n",
        "import pymc as pm\n",
        "#import aesara.tensor as at\n",
        "\n",
        "# Define grid\n",
        "x = np.linspace(-5, 5, 1000)\n",
        "\n",
        "# Gaussian prior (Normal(0, 1))\n",
        "gaussian_pdf = (1/np.sqrt(2 * np.pi)) * np.exp(-0.5 * x**2)\n",
        "\n",
        "# Laplace prior (Laplace(0, 1 / sqrt(2)) → same std as N(0, 1))\n",
        "b = 1 / np.sqrt(2)\n",
        "laplace_pdf = (1 / (2 * b)) * np.exp(-np.abs(x) / b)\n",
        "\n",
        "# Sample Horseshoe Prior\n",
        "rng = np.random.default_rng(42)\n",
        "n_samples = 100000\n",
        "tau = rng.standard_cauchy(n_samples)\n",
        "tau = np.abs(tau)\n",
        "\n",
        "lambdas = rng.standard_cauchy(n_samples)\n",
        "lambdas = np.abs(lambdas)\n",
        "\n",
        "scales = tau * lambdas\n",
        "betas = rng.normal(loc=0, scale=scales)\n",
        "\n",
        "# KDE of Horseshoe prior\n",
        "sns.set(style=\"whitegrid\")\n",
        "plt.figure(figsize=(10, 6))\n",
        "\n",
        "sns.kdeplot(betas, label=\"Horseshoe Prior\", bw_adjust=0.5, color=\"green\")\n",
        "plt.plot(x, gaussian_pdf, label=\"Gaussian Prior\", linestyle=\"--\", color=\"black\")\n",
        "plt.plot(x, laplace_pdf, label=\"Laplace Prior\", linestyle=\"--\", color=\"red\")\n",
        "\n",
        "plt.xlim(-5, 5)\n",
        "plt.title(\"Comparison of Horseshoe, Gaussian, and Laplace Priors\")\n",
        "plt.xlabel(\"β\")\n",
        "plt.ylabel(\"Density\")\n",
        "plt.legend()\n",
        "plt.show()"
      ]
    },
    {
      "cell_type": "code",
      "execution_count": null,
      "metadata": {
        "colab": {
          "base_uri": "https://localhost:8080/",
          "height": 573
        },
        "id": "zTSnQ_zqJJpt",
        "outputId": "99616455-8430-4f98-ea51-5775ffff7fc0"
      },
      "outputs": [
        {
          "name": "stderr",
          "output_type": "stream",
          "text": [
            "[I 2025-09-30 13:29:37,738] A new study created in memory with name: no-name-8c17f45d-4382-4e9b-844a-5fd3fc660d53\n",
            "[W 2025-09-30 13:29:53,526] Trial 0 failed with parameters: {'slack': 0.012285916427548801} because of the following error: UnboundLocalError(\"cannot access local variable 'H_last' where it is not associated with a value\").\n",
            "Traceback (most recent call last):\n",
            "  File \"/usr/local/lib/python3.12/dist-packages/optuna/study/_optimize.py\", line 201, in _run_trial\n",
            "    value_or_values = func(trial)\n",
            "                      ^^^^^^^^^^^\n",
            "  File \"/tmp/ipython-input-642890922.py\", line 73, in objective\n",
            "    sel_idx, _ = baycofe_select_features_cls(\n",
            "                 ^^^^^^^^^^^^^^^^^^^^^^^^^^^^\n",
            "  File \"/tmp/ipython-input-2130687004.py\", line 923, in baycofe_select_features_cls\n",
            "    return selected_idx, H_last\n",
            "                         ^^^^^^\n",
            "UnboundLocalError: cannot access local variable 'H_last' where it is not associated with a value\n",
            "[W 2025-09-30 13:29:53,527] Trial 0 failed with value None.\n"
          ]
        },
        {
          "ename": "UnboundLocalError",
          "evalue": "cannot access local variable 'H_last' where it is not associated with a value",
          "output_type": "error",
          "traceback": [
            "\u001b[0;31m---------------------------------------------------------------------------\u001b[0m",
            "\u001b[0;31mUnboundLocalError\u001b[0m                         Traceback (most recent call last)",
            "\u001b[0;32m/tmp/ipython-input-642890922.py\u001b[0m in \u001b[0;36m<cell line: 0>\u001b[0;34m()\u001b[0m\n\u001b[1;32m    130\u001b[0m \u001b[0;34m\u001b[0m\u001b[0m\n\u001b[1;32m    131\u001b[0m \u001b[0mstudy\u001b[0m \u001b[0;34m=\u001b[0m \u001b[0moptuna\u001b[0m\u001b[0;34m.\u001b[0m\u001b[0mcreate_study\u001b[0m\u001b[0;34m(\u001b[0m\u001b[0mdirections\u001b[0m\u001b[0;34m=\u001b[0m\u001b[0;34m[\u001b[0m\u001b[0;34m\"minimize\"\u001b[0m\u001b[0;34m,\u001b[0m\u001b[0;34m\"minimize\"\u001b[0m\u001b[0;34m]\u001b[0m\u001b[0;34m,\u001b[0m \u001b[0msampler\u001b[0m\u001b[0;34m=\u001b[0m\u001b[0msampler\u001b[0m\u001b[0;34m)\u001b[0m\u001b[0;34m\u001b[0m\u001b[0;34m\u001b[0m\u001b[0m\n\u001b[0;32m--> 132\u001b[0;31m \u001b[0mstudy\u001b[0m\u001b[0;34m.\u001b[0m\u001b[0moptimize\u001b[0m\u001b[0;34m(\u001b[0m\u001b[0mobjective\u001b[0m\u001b[0;34m,\u001b[0m \u001b[0mn_trials\u001b[0m\u001b[0;34m=\u001b[0m\u001b[0;36m12\u001b[0m\u001b[0;34m,\u001b[0m \u001b[0mcallbacks\u001b[0m\u001b[0;34m=\u001b[0m\u001b[0;34m[\u001b[0m \u001b[0mmake_plateau_callback\u001b[0m\u001b[0;34m(\u001b[0m\u001b[0;34m)\u001b[0m \u001b[0;34m]\u001b[0m\u001b[0;34m)\u001b[0m\u001b[0;34m\u001b[0m\u001b[0;34m\u001b[0m\u001b[0m\n\u001b[0m",
            "\u001b[0;32m/usr/local/lib/python3.12/dist-packages/optuna/study/study.py\u001b[0m in \u001b[0;36moptimize\u001b[0;34m(self, func, n_trials, timeout, n_jobs, catch, callbacks, gc_after_trial, show_progress_bar)\u001b[0m\n\u001b[1;32m    488\u001b[0m                 \u001b[0mIf\u001b[0m \u001b[0mnested\u001b[0m \u001b[0minvocation\u001b[0m \u001b[0mof\u001b[0m \u001b[0mthis\u001b[0m \u001b[0mmethod\u001b[0m \u001b[0moccurs\u001b[0m\u001b[0;34m.\u001b[0m\u001b[0;34m\u001b[0m\u001b[0;34m\u001b[0m\u001b[0m\n\u001b[1;32m    489\u001b[0m         \"\"\"\n\u001b[0;32m--> 490\u001b[0;31m         _optimize(\n\u001b[0m\u001b[1;32m    491\u001b[0m             \u001b[0mstudy\u001b[0m\u001b[0;34m=\u001b[0m\u001b[0mself\u001b[0m\u001b[0;34m,\u001b[0m\u001b[0;34m\u001b[0m\u001b[0;34m\u001b[0m\u001b[0m\n\u001b[1;32m    492\u001b[0m             \u001b[0mfunc\u001b[0m\u001b[0;34m=\u001b[0m\u001b[0mfunc\u001b[0m\u001b[0;34m,\u001b[0m\u001b[0;34m\u001b[0m\u001b[0;34m\u001b[0m\u001b[0m\n",
            "\u001b[0;32m/usr/local/lib/python3.12/dist-packages/optuna/study/_optimize.py\u001b[0m in \u001b[0;36m_optimize\u001b[0;34m(study, func, n_trials, timeout, n_jobs, catch, callbacks, gc_after_trial, show_progress_bar)\u001b[0m\n\u001b[1;32m     61\u001b[0m     \u001b[0;32mtry\u001b[0m\u001b[0;34m:\u001b[0m\u001b[0;34m\u001b[0m\u001b[0;34m\u001b[0m\u001b[0m\n\u001b[1;32m     62\u001b[0m         \u001b[0;32mif\u001b[0m \u001b[0mn_jobs\u001b[0m \u001b[0;34m==\u001b[0m \u001b[0;36m1\u001b[0m\u001b[0;34m:\u001b[0m\u001b[0;34m\u001b[0m\u001b[0;34m\u001b[0m\u001b[0m\n\u001b[0;32m---> 63\u001b[0;31m             _optimize_sequential(\n\u001b[0m\u001b[1;32m     64\u001b[0m                 \u001b[0mstudy\u001b[0m\u001b[0;34m,\u001b[0m\u001b[0;34m\u001b[0m\u001b[0;34m\u001b[0m\u001b[0m\n\u001b[1;32m     65\u001b[0m                 \u001b[0mfunc\u001b[0m\u001b[0;34m,\u001b[0m\u001b[0;34m\u001b[0m\u001b[0;34m\u001b[0m\u001b[0m\n",
            "\u001b[0;32m/usr/local/lib/python3.12/dist-packages/optuna/study/_optimize.py\u001b[0m in \u001b[0;36m_optimize_sequential\u001b[0;34m(study, func, n_trials, timeout, catch, callbacks, gc_after_trial, reseed_sampler_rng, time_start, progress_bar)\u001b[0m\n\u001b[1;32m    158\u001b[0m \u001b[0;34m\u001b[0m\u001b[0m\n\u001b[1;32m    159\u001b[0m         \u001b[0;32mtry\u001b[0m\u001b[0;34m:\u001b[0m\u001b[0;34m\u001b[0m\u001b[0;34m\u001b[0m\u001b[0m\n\u001b[0;32m--> 160\u001b[0;31m             \u001b[0mfrozen_trial_id\u001b[0m \u001b[0;34m=\u001b[0m \u001b[0m_run_trial\u001b[0m\u001b[0;34m(\u001b[0m\u001b[0mstudy\u001b[0m\u001b[0;34m,\u001b[0m \u001b[0mfunc\u001b[0m\u001b[0;34m,\u001b[0m \u001b[0mcatch\u001b[0m\u001b[0;34m)\u001b[0m\u001b[0;34m\u001b[0m\u001b[0;34m\u001b[0m\u001b[0m\n\u001b[0m\u001b[1;32m    161\u001b[0m         \u001b[0;32mfinally\u001b[0m\u001b[0;34m:\u001b[0m\u001b[0;34m\u001b[0m\u001b[0;34m\u001b[0m\u001b[0m\n\u001b[1;32m    162\u001b[0m             \u001b[0;31m# The following line mitigates memory problems that can be occurred in some\u001b[0m\u001b[0;34m\u001b[0m\u001b[0;34m\u001b[0m\u001b[0m\n",
            "\u001b[0;32m/usr/local/lib/python3.12/dist-packages/optuna/study/_optimize.py\u001b[0m in \u001b[0;36m_run_trial\u001b[0;34m(study, func, catch)\u001b[0m\n\u001b[1;32m    256\u001b[0m         \u001b[0;32mand\u001b[0m \u001b[0;32mnot\u001b[0m \u001b[0misinstance\u001b[0m\u001b[0;34m(\u001b[0m\u001b[0mfunc_err\u001b[0m\u001b[0;34m,\u001b[0m \u001b[0mcatch\u001b[0m\u001b[0;34m)\u001b[0m\u001b[0;34m\u001b[0m\u001b[0;34m\u001b[0m\u001b[0m\n\u001b[1;32m    257\u001b[0m     ):\n\u001b[0;32m--> 258\u001b[0;31m         \u001b[0;32mraise\u001b[0m \u001b[0mfunc_err\u001b[0m\u001b[0;34m\u001b[0m\u001b[0;34m\u001b[0m\u001b[0m\n\u001b[0m\u001b[1;32m    259\u001b[0m     \u001b[0;32mreturn\u001b[0m \u001b[0mtrial\u001b[0m\u001b[0;34m.\u001b[0m\u001b[0m_trial_id\u001b[0m\u001b[0;34m\u001b[0m\u001b[0;34m\u001b[0m\u001b[0m\n\u001b[1;32m    260\u001b[0m \u001b[0;34m\u001b[0m\u001b[0m\n",
            "\u001b[0;32m/usr/local/lib/python3.12/dist-packages/optuna/study/_optimize.py\u001b[0m in \u001b[0;36m_run_trial\u001b[0;34m(study, func, catch)\u001b[0m\n\u001b[1;32m    199\u001b[0m     \u001b[0;32mwith\u001b[0m \u001b[0mget_heartbeat_thread\u001b[0m\u001b[0;34m(\u001b[0m\u001b[0mtrial\u001b[0m\u001b[0;34m.\u001b[0m\u001b[0m_trial_id\u001b[0m\u001b[0;34m,\u001b[0m \u001b[0mstudy\u001b[0m\u001b[0;34m.\u001b[0m\u001b[0m_storage\u001b[0m\u001b[0;34m)\u001b[0m\u001b[0;34m:\u001b[0m\u001b[0;34m\u001b[0m\u001b[0;34m\u001b[0m\u001b[0m\n\u001b[1;32m    200\u001b[0m         \u001b[0;32mtry\u001b[0m\u001b[0;34m:\u001b[0m\u001b[0;34m\u001b[0m\u001b[0;34m\u001b[0m\u001b[0m\n\u001b[0;32m--> 201\u001b[0;31m             \u001b[0mvalue_or_values\u001b[0m \u001b[0;34m=\u001b[0m \u001b[0mfunc\u001b[0m\u001b[0;34m(\u001b[0m\u001b[0mtrial\u001b[0m\u001b[0;34m)\u001b[0m\u001b[0;34m\u001b[0m\u001b[0;34m\u001b[0m\u001b[0m\n\u001b[0m\u001b[1;32m    202\u001b[0m         \u001b[0;32mexcept\u001b[0m \u001b[0mexceptions\u001b[0m\u001b[0;34m.\u001b[0m\u001b[0mTrialPruned\u001b[0m \u001b[0;32mas\u001b[0m \u001b[0me\u001b[0m\u001b[0;34m:\u001b[0m\u001b[0;34m\u001b[0m\u001b[0;34m\u001b[0m\u001b[0m\n\u001b[1;32m    203\u001b[0m             \u001b[0;31m# TODO(mamu): Handle multi-objective cases.\u001b[0m\u001b[0;34m\u001b[0m\u001b[0;34m\u001b[0m\u001b[0m\n",
            "\u001b[0;32m/tmp/ipython-input-642890922.py\u001b[0m in \u001b[0;36mobjective\u001b[0;34m(trial)\u001b[0m\n\u001b[1;32m     71\u001b[0m \u001b[0;34m\u001b[0m\u001b[0m\n\u001b[1;32m     72\u001b[0m             \u001b[0;31m# BayCOFE selection on this fold\u001b[0m\u001b[0;34m\u001b[0m\u001b[0;34m\u001b[0m\u001b[0m\n\u001b[0;32m---> 73\u001b[0;31m             sel_idx, _ = baycofe_select_features_cls(\n\u001b[0m\u001b[1;32m     74\u001b[0m                 \u001b[0mX_tr\u001b[0m\u001b[0;34m,\u001b[0m \u001b[0my_tr\u001b[0m\u001b[0;34m,\u001b[0m\u001b[0;34m\u001b[0m\u001b[0;34m\u001b[0m\u001b[0m\n\u001b[1;32m     75\u001b[0m                 \u001b[0mestimator\u001b[0m\u001b[0;34m=\u001b[0m\u001b[0mbayes_selector_estimator\u001b[0m\u001b[0;34m,\u001b[0m\u001b[0;34m\u001b[0m\u001b[0;34m\u001b[0m\u001b[0m\n",
            "\u001b[0;32m/tmp/ipython-input-2130687004.py\u001b[0m in \u001b[0;36mbaycofe_select_features_cls\u001b[0;34m(X_train, y_train, **kwargs)\u001b[0m\n\u001b[1;32m    921\u001b[0m           \u001b[0mH_last\u001b[0m \u001b[0;34m=\u001b[0m \u001b[0mcalculate_entropy_dist\u001b[0m\u001b[0;34m(\u001b[0m\u001b[0mclf\u001b[0m\u001b[0;34m.\u001b[0m\u001b[0mcoef_\u001b[0m\u001b[0;34m,\u001b[0m \u001b[0mclf\u001b[0m\u001b[0;34m.\u001b[0m\u001b[0msigma_\u001b[0m\u001b[0;34m)\u001b[0m\u001b[0;34m\u001b[0m\u001b[0;34m\u001b[0m\u001b[0m\n\u001b[1;32m    922\u001b[0m \u001b[0;34m\u001b[0m\u001b[0m\n\u001b[0;32m--> 923\u001b[0;31m     \u001b[0;32mreturn\u001b[0m \u001b[0mselected_idx\u001b[0m\u001b[0;34m,\u001b[0m \u001b[0mH_last\u001b[0m\u001b[0;34m\u001b[0m\u001b[0;34m\u001b[0m\u001b[0m\n\u001b[0m",
            "\u001b[0;31mUnboundLocalError\u001b[0m: cannot access local variable 'H_last' where it is not associated with a value"
          ]
        }
      ],
      "source": [
        "import numpy as np\n",
        "import optuna\n",
        "from sklearn.model_selection import StratifiedKFold\n",
        "from sklearn.base import clone\n",
        "from sklearn.metrics import f1_score\n",
        "\n",
        "# --- tiny helpers (reuse yours if already defined) ---\n",
        "def _sigmoid(z): return 1.0/(1.0+np.exp(-z))\n",
        "def _predict_proba_safe(clf, X):\n",
        "    if hasattr(clf, \"predict_proba\"):\n",
        "        proba = clf.predict_proba(X)\n",
        "        if proba.ndim == 1 or proba.shape[1] == 1:\n",
        "            p1 = np.ravel(proba); proba = np.c_[1-p1, p1]\n",
        "        return proba\n",
        "    elif hasattr(clf, \"decision_function\"):\n",
        "        z = clf.decision_function(X)\n",
        "        z = np.ravel(z) if getattr(z, \"ndim\", 1) > 1 else z\n",
        "        p1 = _sigmoid(z)\n",
        "        return np.c_[1-p1, p1]\n",
        "    else:\n",
        "        yhat = clf.predict(X).astype(int)\n",
        "        proba = np.zeros((len(yhat), 2)); proba[np.arange(len(yhat)), yhat] = 1.0\n",
        "        return proba\n",
        "\n",
        "def _strat_boot_idx(y, rng):\n",
        "    classes, counts = np.unique(y, return_counts=True)\n",
        "    if len(classes) < 2: return None\n",
        "    idxs = np.concatenate([rng.choice(np.where(y==c)[0], size=cnt, replace=True)\n",
        "                           for c, cnt in zip(classes, counts)])\n",
        "    rng.shuffle(idxs); return idxs\n",
        "\n",
        "def _bootstrap_coef_matrix(X, y, base_estimator, n_bootstraps=150, random_state=123):\n",
        "    rng = np.random.RandomState(random_state)\n",
        "    coefs, attempts = [], 0\n",
        "    max_attempts = 5 * n_bootstraps\n",
        "    while len(coefs) < n_bootstraps and attempts < max_attempts:\n",
        "        attempts += 1\n",
        "        idx = _strat_boot_idx(y, rng)\n",
        "        if idx is None: break\n",
        "        Xb, yb = X[idx], y[idx]\n",
        "        if len(np.unique(yb)) < 2: continue\n",
        "        try:\n",
        "            bs = clone(base_estimator).fit(Xb, yb)\n",
        "            beta = getattr(bs, \"coef_\", None)\n",
        "            if beta is None: continue\n",
        "            beta = np.ravel(beta)\n",
        "            if not np.all(np.isfinite(beta)): continue\n",
        "            coefs.append(beta)\n",
        "        except Exception:\n",
        "            continue\n",
        "    return np.array(coefs)\n",
        "\n",
        "def _freq_sign_entropy_on(X, y, evaluator, n_bootstraps=150, random_state=123):\n",
        "    B = _bootstrap_coef_matrix(X, y, evaluator, n_bootstraps=n_bootstraps, random_state=random_state)\n",
        "    if B.shape[0] < 10:  # too few successes => return NaNs\n",
        "        return np.full(X.shape[1], np.nan)\n",
        "    return calculate_entropies(B)  # <-- your KDE-based per-feature entropy\n",
        "\n",
        "\n",
        "# --- build the objective as a closure over your data/estimators ---\n",
        "def make_objective(X_train, y_train, bayes_selector_estimator, evaluator,\n",
        "                   cv_splits=5, slack_low=1e-4, slack_high=1e-1,\n",
        "                   bootstrap_for_entropy=150, seed=123):\n",
        "    skf = StratifiedKFold(n_splits=cv_splits, shuffle=True, random_state=seed)\n",
        "    def objective(trial):\n",
        "        slack = trial.suggest_float(\"slack\", slack_low, slack_high, log=True)\n",
        "        f1s, ents = [], []\n",
        "        for tr_idx, va_idx in skf.split(X_train, y_train):\n",
        "            X_tr, X_va = X_train[tr_idx], X_train[va_idx]\n",
        "            y_tr, y_va = y_train[tr_idx], y_train[va_idx]\n",
        "\n",
        "            # BayCOFE selection on this fold\n",
        "            sel_idx, _ = baycofe_select_features_cls(\n",
        "                X_tr, y_tr,\n",
        "                estimator=bayes_selector_estimator,\n",
        "                slack=slack, num_iter=10, tolerance_limit=3\n",
        "            )\n",
        "            sel_idx = np.asarray(sel_idx, dtype=int)\n",
        "            if sel_idx.size == 0:\n",
        "                f1s.append(0.0); ents.append(1.0); continue\n",
        "\n",
        "            # Fit SAME evaluator and score\n",
        "            ev = clone(evaluator).fit(X_tr[:, sel_idx], y_tr)\n",
        "            proba = _predict_proba_safe(ev, X_va[:, sel_idx])\n",
        "            y_pred = (proba[:,1] >= 0.5).astype(int)\n",
        "            f1s.append(f1_score(y_va, y_pred, average=\"macro\"))\n",
        "\n",
        "            # Entropy on VAL subset (bootstrap evaluator)\n",
        "            ent = _freq_sign_entropy_on(X_va[:, sel_idx], y_va, evaluator=ev,\n",
        "                                        n_bootstraps=bootstrap_for_entropy,\n",
        "                                        random_state=trial.number + 17)\n",
        "            ents.append(np.nanmean(ent))\n",
        "\n",
        "        mean_f1  = float(np.mean(f1s))\n",
        "        mean_ent = float(np.nanmean(ents))\n",
        "        trial.set_user_attr(\"mean_f1\", mean_f1)\n",
        "        trial.set_user_attr(\"mean_entropy\", mean_ent)\n",
        "        # Multi-objective: minimize (-F1, Entropy)\n",
        "        return -mean_f1, mean_ent\n",
        "    return objective\n",
        "\n",
        "\n",
        "# --- optional early-stop callback for few trials ---\n",
        "def make_plateau_callback(patience=4, f1_tol=0.002, ent_tol=0.01):\n",
        "    state = {\"best_f1\": -np.inf, \"best_ent\": np.inf, \"stale\": 0}\n",
        "    def cb(study, trial):\n",
        "        f1  = trial.user_attrs.get(\"mean_f1\")\n",
        "        ent = trial.user_attrs.get(\"mean_entropy\")\n",
        "        improved = False\n",
        "        if f1 is not None and f1 > state[\"best_f1\"] + f1_tol:\n",
        "            state[\"best_f1\"] = f1; improved = True\n",
        "        if ent is not None and ent < state[\"best_ent\"] - ent_tol:\n",
        "            state[\"best_ent\"] = ent; improved = True\n",
        "        state[\"stale\"] = 0 if improved else state[\"stale\"] + 1\n",
        "        if state[\"stale\"] >= patience:\n",
        "            study.stop()\n",
        "    return cb\n",
        "\n",
        "\n",
        "sampler = optuna.samplers.TPESampler(seed=123, n_startup_trials=3)\n",
        "objective = make_objective(\n",
        "    X_tr, y_tr,\n",
        "    bayes_selector_estimator=bayes_logit,\n",
        "    evaluator=freq_logit,\n",
        "    cv_splits=5,\n",
        "    slack_low=1e-4, slack_high=1e-1,\n",
        "    bootstrap_for_entropy=150,  # small for CV speed\n",
        "    seed=123\n",
        ")\n",
        "\n",
        "study = optuna.create_study(directions=[\"minimize\",\"minimize\"], sampler=sampler)\n",
        "study.optimize(objective, n_trials=12, callbacks=[ make_plateau_callback() ])"
      ]
    },
    {
      "cell_type": "code",
      "execution_count": null,
      "metadata": {
        "colab": {
          "base_uri": "https://localhost:8080/"
        },
        "id": "a92TR7KQsaTD",
        "outputId": "713088e1-7aac-427e-ab05-74cf23f88c4a"
      },
      "outputs": [
        {
          "name": "stdout",
          "output_type": "stream",
          "text": [
            "BayCOFE Selected: [ 1  5  8  9 10 11 12]\n",
            "Acc: 0.9707602339181286 LogLoss: 0.1183181859231244 entropy: 0.03227859305894667\n"
          ]
        }
      ],
      "source": [
        "### test corr and error of bay vs freq\n",
        "sel_idx, metrics = evaluate_feature_selection_method_cls(\n",
        "        baycofe_select_features_cls,  # now Bayesian version\n",
        "        X_tr, y_tr, X_te, y_te,\n",
        "        selector_params={'estimator': bayes_logit, 'evaluator': bayes_logit, 'slack': 0.0001})\n",
        "print(\"BayCOFE Selected:\", sel_idx)\n",
        "print(\"Acc:\", metrics[\"accuracy\"], \"LogLoss:\", metrics[\"log_loss\"], \"entropy:\", metrics['mean_entropy'])\n"
      ]
    },
    {
      "cell_type": "code",
      "execution_count": null,
      "metadata": {
        "colab": {
          "base_uri": "https://localhost:8080/"
        },
        "id": "5bdyDDfL8-X3",
        "outputId": "22307cdf-6455-4959-9cb9-a6249db98592"
      },
      "outputs": [
        {
          "name": "stdout",
          "output_type": "stream",
          "text": [
            "RFE Selected: [0 1 2 3 4 5 6 7 8 9]\n",
            "Acc: 0.6533333333333333 LogLoss: 0.6277289380382874\n",
            "SFS Selected: [0 1 5 6 9]\n",
            "Acc: 0.69 LogLoss: 0.6788275301195336\n",
            "SBS Selected: [0 1 5 6]\n",
            "Acc: 0.69 LogLoss: 0.6779116168605839\n",
            "Bidirectional Selected: [0 1 5 6]\n",
            "Acc: 0.69 LogLoss: 0.6779116168605839\n"
          ]
        }
      ],
      "source": [
        "# BayCOFE (logistic) — you already had this\n",
        "\"\"\"\n",
        "sel_baycofe, metrics_baycofe = evaluate_feature_selection_method_cls(\n",
        "    baycofe_select_features_cls,\n",
        "    X_tr, y_tr, X_te, y_te,\n",
        "    selector_params={'estimator': bayes_logit, 'slack': slack}\n",
        ")\n",
        "print(\"BayCOFE Selected:\", sel_baycofe)\n",
        "print(\"Acc:\", metrics_baycofe[\"accuracy\"], \"LogLoss:\", metrics_baycofe[\"log_loss\"])\n",
        "\"\"\"\n",
        "# RFE (wrap estimator so it has coef_)\n",
        "sel_rfe, metrics_rfe = evaluate_feature_selection_method_cls(\n",
        "    rfe_select_features,\n",
        "    X_tr, y_tr, X_te, y_te,\n",
        "    selector_params={'estimator': bayes_logit}  # wrapper happens inside rfe_select_features\n",
        ")\n",
        "print(\"RFE Selected:\", sel_rfe)\n",
        "print(\"Acc:\", metrics_rfe[\"accuracy\"], \"LogLoss:\", metrics_rfe[\"log_loss\"])\n",
        "\n",
        "# SFS (forward)\n",
        "sel_sfs, metrics_sfs = evaluate_feature_selection_method_cls(\n",
        "    forward_select_features,\n",
        "    X_tr, y_tr, X_te, y_te,\n",
        "    selector_params={'estimator': bayes_logit}\n",
        ")\n",
        "print(\"SFS Selected:\", sel_sfs)\n",
        "print(\"Acc:\", metrics_sfs[\"accuracy\"], \"LogLoss:\", metrics_sfs[\"log_loss\"])\n",
        "\n",
        "# SBS (backward)\n",
        "sel_sbs, metrics_sbs = evaluate_feature_selection_method_cls(\n",
        "    sbs_select_features,\n",
        "    X_tr, y_tr, X_te, y_te,\n",
        "    selector_params={'estimator': bayes_logit}\n",
        ")\n",
        "print(\"SBS Selected:\", sel_sbs)\n",
        "print(\"Acc:\", metrics_sbs[\"accuracy\"], \"LogLoss:\", metrics_sbs[\"log_loss\"])\n",
        "\n",
        "# Bidirectional (SFFS)\n",
        "sel_bidir, metrics_bidir = evaluate_feature_selection_method_cls(\n",
        "    bidirectional_select_features,\n",
        "    X_tr, y_tr, X_te, y_te,\n",
        "    selector_params={'estimator': bayes_logit}\n",
        ")\n",
        "print(\"Bidirectional Selected:\", sel_bidir)\n",
        "print(\"Acc:\", metrics_bidir[\"accuracy\"], \"LogLoss:\", metrics_bidir[\"log_loss\"])"
      ]
    }
  ],
  "metadata": {
    "accelerator": "GPU",
    "colab": {
      "gpuType": "A100",
      "machine_shape": "hm",
      "provenance": []
    },
    "kernelspec": {
      "display_name": "Python 3",
      "name": "python3"
    },
    "language_info": {
      "name": "python"
    }
  },
  "nbformat": 4,
  "nbformat_minor": 0
}